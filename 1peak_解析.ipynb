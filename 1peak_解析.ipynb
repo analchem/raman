{
 "cells": [
  {
   "cell_type": "code",
   "execution_count": 3,
   "metadata": {},
   "outputs": [],
   "source": [
    "import re\n",
    "import numpy as np\n",
    "import pandas as pd\n",
    "import glob\n",
    "import seaborn as sns\n",
    "import matplotlib.pyplot as plt\n",
    "import japanize_matplotlib\n",
    "%matplotlib inline\n",
    "\n",
    "from sklearn.preprocessing import MinMaxScaler\n",
    "from sklearn.preprocessing import StandardScaler\n",
    "from sklearn.linear_model import Perceptron\n",
    "from sklearn.linear_model import LogisticRegression\n",
    "from sklearn.decomposition import PCA\n",
    "from sklearn.manifold import TSNE\n",
    "from sklearn.discriminant_analysis import LinearDiscriminantAnalysis as LDA\n",
    "from sklearn.svm import LinearSVC\n",
    "from sklearn.metrics import accuracy_score\n",
    "from sklearn.metrics import confusion_matrix\n",
    "from sklearn.model_selection import KFold\n",
    "from sklearn.model_selection import GridSearchCV\n",
    "\n",
    "# import umap.umap_ as umap\n",
    "\n",
    "import openpyxl\n",
    "from openpyxl.drawing.line import LineProperties\n",
    "from openpyxl.chart.shapes import GraphicalProperties\n",
    "from openpyxl.chart.text import RichText\n",
    "from openpyxl.drawing.text import Paragraph, ParagraphProperties, CharacterProperties, Font"
   ]
  },
  {
   "cell_type": "code",
   "execution_count": 3,
   "metadata": {},
   "outputs": [],
   "source": [
    "# 各フォルダの読み込み\n",
    "folder_list = glob.glob(r'.\\input\\spectra_data\\*')\n",
    "\n",
    "# データの区切りを指定（タブ：'\\t', コンマ：',', セミコロン：';'）\n",
    "sep = '[,;\\t]'\n",
    "\n",
    "# excelファイルの保存先のパス\n",
    "output_path = r'.\\output\\\\'"
   ]
  },
  {
   "cell_type": "code",
   "execution_count": 82,
   "metadata": {},
   "outputs": [
    {
     "data": {
      "text/html": [
       "<div>\n",
       "<style scoped>\n",
       "    .dataframe tbody tr th:only-of-type {\n",
       "        vertical-align: middle;\n",
       "    }\n",
       "\n",
       "    .dataframe tbody tr th {\n",
       "        vertical-align: top;\n",
       "    }\n",
       "\n",
       "    .dataframe thead th {\n",
       "        text-align: right;\n",
       "    }\n",
       "</style>\n",
       "<table border=\"1\" class=\"dataframe\">\n",
       "  <thead>\n",
       "    <tr style=\"text-align: right;\">\n",
       "      <th></th>\n",
       "      <th>Index</th>\n",
       "      <th>raw_peak1</th>\n",
       "      <th>raw_peak2</th>\n",
       "      <th>raw_peak3</th>\n",
       "      <th>raw_peak4</th>\n",
       "      <th>raw_peak5</th>\n",
       "      <th>std_peak1</th>\n",
       "      <th>std_peak2</th>\n",
       "      <th>std_peak3</th>\n",
       "      <th>std_peak4</th>\n",
       "      <th>std_peak5</th>\n",
       "      <th>label</th>\n",
       "    </tr>\n",
       "  </thead>\n",
       "  <tbody>\n",
       "    <tr>\n",
       "      <th>0</th>\n",
       "      <td>CH3-COOH_1-0_01</td>\n",
       "      <td>5103.738329</td>\n",
       "      <td>-190.438947</td>\n",
       "      <td>3683.338417</td>\n",
       "      <td>15008.388339</td>\n",
       "      <td>2495.599180</td>\n",
       "      <td>0.985504</td>\n",
       "      <td>-1.281596</td>\n",
       "      <td>1.603149</td>\n",
       "      <td>2.807891</td>\n",
       "      <td>-1.408493</td>\n",
       "      <td>0</td>\n",
       "    </tr>\n",
       "    <tr>\n",
       "      <th>1</th>\n",
       "      <td>CH3-COOH_1-0_02</td>\n",
       "      <td>7812.295705</td>\n",
       "      <td>-194.556679</td>\n",
       "      <td>4414.272363</td>\n",
       "      <td>13674.507873</td>\n",
       "      <td>2396.694976</td>\n",
       "      <td>2.357140</td>\n",
       "      <td>-1.341189</td>\n",
       "      <td>2.553350</td>\n",
       "      <td>3.504776</td>\n",
       "      <td>-1.522716</td>\n",
       "      <td>0</td>\n",
       "    </tr>\n",
       "    <tr>\n",
       "      <th>2</th>\n",
       "      <td>CH3-COOH_1-0_03</td>\n",
       "      <td>6766.516954</td>\n",
       "      <td>-197.440682</td>\n",
       "      <td>4061.869953</td>\n",
       "      <td>15787.879885</td>\n",
       "      <td>2984.004149</td>\n",
       "      <td>1.827549</td>\n",
       "      <td>-1.262702</td>\n",
       "      <td>2.205239</td>\n",
       "      <td>4.876685</td>\n",
       "      <td>-0.896542</td>\n",
       "      <td>0</td>\n",
       "    </tr>\n",
       "    <tr>\n",
       "      <th>3</th>\n",
       "      <td>CH3-COOH_1-0_04</td>\n",
       "      <td>6495.640211</td>\n",
       "      <td>-140.306765</td>\n",
       "      <td>3963.427044</td>\n",
       "      <td>16377.685418</td>\n",
       "      <td>2759.395509</td>\n",
       "      <td>1.690375</td>\n",
       "      <td>-1.186554</td>\n",
       "      <td>1.991127</td>\n",
       "      <td>2.524528</td>\n",
       "      <td>-1.136014</td>\n",
       "      <td>0</td>\n",
       "    </tr>\n",
       "    <tr>\n",
       "      <th>4</th>\n",
       "      <td>CH3-COOH_1-0_05</td>\n",
       "      <td>7921.366032</td>\n",
       "      <td>-250.325583</td>\n",
       "      <td>4436.995675</td>\n",
       "      <td>15268.477283</td>\n",
       "      <td>2591.922039</td>\n",
       "      <td>2.412374</td>\n",
       "      <td>-1.365968</td>\n",
       "      <td>2.478621</td>\n",
       "      <td>3.846731</td>\n",
       "      <td>-1.314570</td>\n",
       "      <td>0</td>\n",
       "    </tr>\n",
       "  </tbody>\n",
       "</table>\n",
       "</div>"
      ],
      "text/plain": [
       "             Index    raw_peak1   raw_peak2    raw_peak3     raw_peak4  \\\n",
       "0  CH3-COOH_1-0_01  5103.738329 -190.438947  3683.338417  15008.388339   \n",
       "1  CH3-COOH_1-0_02  7812.295705 -194.556679  4414.272363  13674.507873   \n",
       "2  CH3-COOH_1-0_03  6766.516954 -197.440682  4061.869953  15787.879885   \n",
       "3  CH3-COOH_1-0_04  6495.640211 -140.306765  3963.427044  16377.685418   \n",
       "4  CH3-COOH_1-0_05  7921.366032 -250.325583  4436.995675  15268.477283   \n",
       "\n",
       "     raw_peak5  std_peak1  std_peak2  std_peak3  std_peak4  std_peak5  label  \n",
       "0  2495.599180   0.985504  -1.281596   1.603149   2.807891  -1.408493      0  \n",
       "1  2396.694976   2.357140  -1.341189   2.553350   3.504776  -1.522716      0  \n",
       "2  2984.004149   1.827549  -1.262702   2.205239   4.876685  -0.896542      0  \n",
       "3  2759.395509   1.690375  -1.186554   1.991127   2.524528  -1.136014      0  \n",
       "4  2591.922039   2.412374  -1.365968   2.478621   3.846731  -1.314570      0  "
      ]
     },
     "execution_count": 82,
     "metadata": {},
     "output_type": "execute_result"
    }
   ],
   "source": [
    "label_list = ['CH3:COOH=1:0', 'CH3:COOH=3:1', 'CH3:COOH=1:1', 'CH3:COOH=1:3', 'CH3:COOH=0:1']\n",
    "# label_list = ['CH3:OH=1:0', 'CH3:OH=3:1', 'CH3:OH=1:1', 'CH3:OH=1:3', 'CH3:OH=0:1']\n",
    "# label_list = ['CH3:NH2=1:0', 'CH3:NH2=3:1', 'CH3:NH2=1:1', 'CH3:NH2=1:3', 'CH3:NH2=0:1']\n",
    "# label_list = ['CH3:COOH=0:1', 'CH3:COOH=1:3', 'CH3:COOH=1:1', 'CH3:COOH=3:1', 'CH3:COOH=1:0', 'CH3:NH2=3:1', 'CH3:NH2=1:1', 'CH3:NH2=1:3', 'CH3:NH2=0:1']\n",
    "\n",
    "# データフレームの読み込み\n",
    "dataframe_path = r'.\\input\\dataframe\\\\'\n",
    "# excelファイルの保存先のパス\n",
    "output_path = r'.\\output\\\\'\n",
    "\n",
    "dataframe_title = '1variable_analysis_data'\n",
    "\n",
    "data_df = pd.read_excel(dataframe_path + dataframe_title + '.xlsx')\n",
    "data_df.head()"
   ]
  },
  {
   "cell_type": "code",
   "execution_count": 83,
   "metadata": {},
   "outputs": [],
   "source": [
    "# 特徴量とラベルの分離\n",
    "data_label = data_df['label']\n",
    "data_df = data_df.drop(['Index', 'label'], axis=1)"
   ]
  },
  {
   "cell_type": "code",
   "execution_count": 157,
   "metadata": {},
   "outputs": [],
   "source": [
    "analysis_data_df = data_df[['std_peak5']]"
   ]
  },
  {
   "attachments": {},
   "cell_type": "markdown",
   "metadata": {},
   "source": [
    "# Linear SVC"
   ]
  },
  {
   "attachments": {},
   "cell_type": "markdown",
   "metadata": {},
   "source": [
    "## クロスバリデーションでの予測"
   ]
  },
  {
   "cell_type": "code",
   "execution_count": 158,
   "metadata": {},
   "outputs": [],
   "source": [
    "# kernel:rbf(ガウス関数) その他：linear(線形回帰)、poly(多項式展開)、sigmoidなどがある\n",
    "def linear_svc(C, data_df, label):\n",
    "    # SVM処理\n",
    "    # 特徴量とラベルの分割\n",
    "    X = data_df\n",
    "    y = label\n",
    "    oof = np.zeros(len(y))\n",
    "\n",
    "    kf = KFold(n_splits=5, shuffle=True, random_state=1234)\n",
    "    for train_idx, val_idx in kf.split(X):\n",
    "        train_x, val_x = X.iloc[train_idx], X.iloc[val_idx]\n",
    "        train_y, val_y = y.iloc[train_idx], y.iloc[val_idx]\n",
    "\n",
    "        svm_model = LinearSVC(C=C, max_iter=5000)\n",
    "        svm_model.fit(train_x, train_y)\n",
    "        y_pred = svm_model.predict(val_x)\n",
    "        oof[val_idx] = y_pred\n",
    "\n",
    "    cm = confusion_matrix(y, oof)\n",
    "    # 正解率\n",
    "    Accuracy = accuracy_score(y, oof)\n",
    "\n",
    "    return cm, Accuracy"
   ]
  },
  {
   "cell_type": "code",
   "execution_count": 159,
   "metadata": {},
   "outputs": [
    {
     "name": "stderr",
     "output_type": "stream",
     "text": [
      "c:\\Users\\west7\\anaconda3\\envs\\xeus-python\\lib\\site-packages\\sklearn\\svm\\_base.py:1206: ConvergenceWarning: Liblinear failed to converge, increase the number of iterations.\n",
      "  warnings.warn(\n",
      "c:\\Users\\west7\\anaconda3\\envs\\xeus-python\\lib\\site-packages\\sklearn\\svm\\_base.py:1206: ConvergenceWarning: Liblinear failed to converge, increase the number of iterations.\n",
      "  warnings.warn(\n",
      "c:\\Users\\west7\\anaconda3\\envs\\xeus-python\\lib\\site-packages\\sklearn\\svm\\_base.py:1206: ConvergenceWarning: Liblinear failed to converge, increase the number of iterations.\n",
      "  warnings.warn(\n",
      "c:\\Users\\west7\\anaconda3\\envs\\xeus-python\\lib\\site-packages\\sklearn\\svm\\_base.py:1206: ConvergenceWarning: Liblinear failed to converge, increase the number of iterations.\n",
      "  warnings.warn(\n",
      "c:\\Users\\west7\\anaconda3\\envs\\xeus-python\\lib\\site-packages\\sklearn\\svm\\_base.py:1206: ConvergenceWarning: Liblinear failed to converge, increase the number of iterations.\n",
      "  warnings.warn(\n",
      "c:\\Users\\west7\\anaconda3\\envs\\xeus-python\\lib\\site-packages\\sklearn\\svm\\_base.py:1206: ConvergenceWarning: Liblinear failed to converge, increase the number of iterations.\n",
      "  warnings.warn(\n",
      "c:\\Users\\west7\\anaconda3\\envs\\xeus-python\\lib\\site-packages\\sklearn\\svm\\_base.py:1206: ConvergenceWarning: Liblinear failed to converge, increase the number of iterations.\n",
      "  warnings.warn(\n",
      "c:\\Users\\west7\\anaconda3\\envs\\xeus-python\\lib\\site-packages\\sklearn\\svm\\_base.py:1206: ConvergenceWarning: Liblinear failed to converge, increase the number of iterations.\n",
      "  warnings.warn(\n",
      "c:\\Users\\west7\\anaconda3\\envs\\xeus-python\\lib\\site-packages\\sklearn\\svm\\_base.py:1206: ConvergenceWarning: Liblinear failed to converge, increase the number of iterations.\n",
      "  warnings.warn(\n",
      "c:\\Users\\west7\\anaconda3\\envs\\xeus-python\\lib\\site-packages\\sklearn\\svm\\_base.py:1206: ConvergenceWarning: Liblinear failed to converge, increase the number of iterations.\n",
      "  warnings.warn(\n",
      "c:\\Users\\west7\\anaconda3\\envs\\xeus-python\\lib\\site-packages\\sklearn\\svm\\_base.py:1206: ConvergenceWarning: Liblinear failed to converge, increase the number of iterations.\n",
      "  warnings.warn(\n",
      "c:\\Users\\west7\\anaconda3\\envs\\xeus-python\\lib\\site-packages\\sklearn\\svm\\_base.py:1206: ConvergenceWarning: Liblinear failed to converge, increase the number of iterations.\n",
      "  warnings.warn(\n",
      "c:\\Users\\west7\\anaconda3\\envs\\xeus-python\\lib\\site-packages\\sklearn\\svm\\_base.py:1206: ConvergenceWarning: Liblinear failed to converge, increase the number of iterations.\n",
      "  warnings.warn(\n",
      "c:\\Users\\west7\\anaconda3\\envs\\xeus-python\\lib\\site-packages\\sklearn\\svm\\_base.py:1206: ConvergenceWarning: Liblinear failed to converge, increase the number of iterations.\n",
      "  warnings.warn(\n",
      "c:\\Users\\west7\\anaconda3\\envs\\xeus-python\\lib\\site-packages\\sklearn\\svm\\_base.py:1206: ConvergenceWarning: Liblinear failed to converge, increase the number of iterations.\n",
      "  warnings.warn(\n",
      "c:\\Users\\west7\\anaconda3\\envs\\xeus-python\\lib\\site-packages\\sklearn\\svm\\_base.py:1206: ConvergenceWarning: Liblinear failed to converge, increase the number of iterations.\n",
      "  warnings.warn(\n",
      "c:\\Users\\west7\\anaconda3\\envs\\xeus-python\\lib\\site-packages\\sklearn\\svm\\_base.py:1206: ConvergenceWarning: Liblinear failed to converge, increase the number of iterations.\n",
      "  warnings.warn(\n",
      "c:\\Users\\west7\\anaconda3\\envs\\xeus-python\\lib\\site-packages\\sklearn\\svm\\_base.py:1206: ConvergenceWarning: Liblinear failed to converge, increase the number of iterations.\n",
      "  warnings.warn(\n",
      "c:\\Users\\west7\\anaconda3\\envs\\xeus-python\\lib\\site-packages\\sklearn\\svm\\_base.py:1206: ConvergenceWarning: Liblinear failed to converge, increase the number of iterations.\n",
      "  warnings.warn(\n",
      "c:\\Users\\west7\\anaconda3\\envs\\xeus-python\\lib\\site-packages\\sklearn\\svm\\_base.py:1206: ConvergenceWarning: Liblinear failed to converge, increase the number of iterations.\n",
      "  warnings.warn(\n"
     ]
    },
    {
     "data": {
      "image/png": "[encoded data removed]",
      "text/plain": [
       "<Figure size 432x288 with 1 Axes>"
      ]
     },
     "metadata": {},
     "output_type": "display_data"
    }
   ],
   "source": [
    "# Cの決定\n",
    "temp_accuracy_dict = {}\n",
    "\n",
    "for i in range(-5, 6, 1):\n",
    "    _, accuracy_svm = linear_svc(10**i, analysis_data_df, data_label)\n",
    "    temp_accuracy_dict[i] = accuracy_svm\n",
    "\n",
    "temp_accuracy_list = temp_accuracy_dict.items()\n",
    "x, y = zip(*temp_accuracy_list)\n",
    "\n",
    "plt.plot(x, y, marker='o', markersize=5)\n",
    "plt.xlabel('C(10**i)')\n",
    "plt.ylabel('Accuracy')\n",
    "plt.show()"
   ]
  },
  {
   "cell_type": "code",
   "execution_count": 160,
   "metadata": {},
   "outputs": [
    {
     "name": "stderr",
     "output_type": "stream",
     "text": [
      "c:\\Users\\west7\\anaconda3\\envs\\xeus-python\\lib\\site-packages\\sklearn\\svm\\_base.py:1206: ConvergenceWarning: Liblinear failed to converge, increase the number of iterations.\n",
      "  warnings.warn(\n",
      "c:\\Users\\west7\\anaconda3\\envs\\xeus-python\\lib\\site-packages\\sklearn\\svm\\_base.py:1206: ConvergenceWarning: Liblinear failed to converge, increase the number of iterations.\n",
      "  warnings.warn(\n",
      "c:\\Users\\west7\\anaconda3\\envs\\xeus-python\\lib\\site-packages\\sklearn\\svm\\_base.py:1206: ConvergenceWarning: Liblinear failed to converge, increase the number of iterations.\n",
      "  warnings.warn(\n",
      "c:\\Users\\west7\\anaconda3\\envs\\xeus-python\\lib\\site-packages\\sklearn\\svm\\_base.py:1206: ConvergenceWarning: Liblinear failed to converge, increase the number of iterations.\n",
      "  warnings.warn(\n",
      "c:\\Users\\west7\\anaconda3\\envs\\xeus-python\\lib\\site-packages\\sklearn\\svm\\_base.py:1206: ConvergenceWarning: Liblinear failed to converge, increase the number of iterations.\n",
      "  warnings.warn(\n"
     ]
    },
    {
     "name": "stdout",
     "output_type": "stream",
     "text": [
      "Accuracy: 0.472\n"
     ]
    }
   ],
   "source": [
    "cm_linear_svc, accuracy_linear_svc = linear_svc(100, analysis_data_df, data_label)\n",
    "print('Accuracy:', accuracy_linear_svc)"
   ]
  },
  {
   "cell_type": "code",
   "execution_count": 161,
   "metadata": {},
   "outputs": [
    {
     "data": {
      "text/plain": [
       "<AxesSubplot:>"
      ]
     },
     "execution_count": 161,
     "metadata": {},
     "output_type": "execute_result"
    },
    {
     "data": {
      "image/png": "[encoded data removed]",
      "text/plain": [
       "<Figure size 432x288 with 2 Axes>"
      ]
     },
     "metadata": {},
     "output_type": "display_data"
    }
   ],
   "source": [
    "sns.set(font_scale=1.5)\n",
    "sns.heatmap(cm_linear_svc, annot=True, cmap='Blues', linecolor='black', linewidths=1.5)"
   ]
  },
  {
   "attachments": {},
   "cell_type": "markdown",
   "metadata": {},
   "source": [
    "## 学習データでの予測"
   ]
  },
  {
   "cell_type": "code",
   "execution_count": 100,
   "metadata": {},
   "outputs": [],
   "source": [
    "def train_linear_svc(C, data_df, label):\n",
    "    # SVM処理\n",
    "    # 特徴量とラベルの分割\n",
    "    X = data_df\n",
    "    X.columns = [str(i) for i in data_df.columns]\n",
    "    y = label\n",
    "\n",
    "    svm_model = LinearSVC(C=C, max_iter=5000)\n",
    "    svm_model.fit(X, y)\n",
    "    y_pred = svm_model.predict(X)\n",
    "\n",
    "    cm = confusion_matrix(y, y_pred)\n",
    "    # 正解率\n",
    "    Accuracy = accuracy_score(y, y_pred)\n",
    "\n",
    "    return cm, Accuracy"
   ]
  },
  {
   "cell_type": "code",
   "execution_count": 109,
   "metadata": {},
   "outputs": [
    {
     "name": "stdout",
     "output_type": "stream",
     "text": [
      "Accuracy: 0.4\n"
     ]
    },
    {
     "name": "stderr",
     "output_type": "stream",
     "text": [
      "c:\\Users\\west7\\anaconda3\\envs\\xeus-python\\lib\\site-packages\\sklearn\\svm\\_base.py:1206: ConvergenceWarning: Liblinear failed to converge, increase the number of iterations.\n",
      "  warnings.warn(\n"
     ]
    }
   ],
   "source": [
    "train_cm_linear_svc, train_accuracy_linear_svc = train_linear_svc(0.1, analysis_data_df, data_label)\n",
    "print('Accuracy:', train_accuracy_linear_svc)"
   ]
  },
  {
   "cell_type": "code",
   "execution_count": 110,
   "metadata": {},
   "outputs": [
    {
     "data": {
      "text/plain": [
       "<AxesSubplot:>"
      ]
     },
     "execution_count": 110,
     "metadata": {},
     "output_type": "execute_result"
    },
    {
     "data": {
      "image/png": "[encoded data removed]",
      "text/plain": [
       "<Figure size 432x288 with 2 Axes>"
      ]
     },
     "metadata": {},
     "output_type": "display_data"
    }
   ],
   "source": [
    "sns.set(font_scale=1.5)\n",
    "sns.heatmap(train_cm_linear_svc, annot=True, cmap='Blues', linecolor='black', linewidths=1.5)"
   ]
  },
  {
   "attachments": {},
   "cell_type": "markdown",
   "metadata": {},
   "source": [
    "# Perceptron"
   ]
  },
  {
   "attachments": {},
   "cell_type": "markdown",
   "metadata": {},
   "source": [
    "## クロスバリデーションでの予測"
   ]
  },
  {
   "cell_type": "code",
   "execution_count": 103,
   "metadata": {},
   "outputs": [],
   "source": [
    "def perceptron(data_df, label):\n",
    "    # SVM処理\n",
    "    # 特徴量とラベルの分割\n",
    "    X = data_df\n",
    "    X.columns = [str(i) for i in data_df.columns]\n",
    "    y = label\n",
    "    oof = np.zeros(len(y))\n",
    "\n",
    "    kf = KFold(n_splits=5, shuffle=True, random_state=1234)\n",
    "    for train_idx, val_idx in kf.split(X):\n",
    "        train_x, val_x = X.iloc[train_idx], X.iloc[val_idx]\n",
    "        train_y, val_y = y.iloc[train_idx], y.iloc[val_idx]\n",
    "\n",
    "        per_model = Perceptron()\n",
    "        per_model.fit(train_x, train_y)\n",
    "        y_pred = per_model.predict(val_x)\n",
    "        oof[val_idx] = y_pred\n",
    "\n",
    "    cm = confusion_matrix(y, oof)\n",
    "    # 正解率\n",
    "    Accuracy = accuracy_score(y, oof)\n",
    "\n",
    "    return cm, Accuracy"
   ]
  },
  {
   "cell_type": "code",
   "execution_count": 104,
   "metadata": {},
   "outputs": [
    {
     "name": "stdout",
     "output_type": "stream",
     "text": [
      "Accuracy: 0.224\n"
     ]
    }
   ],
   "source": [
    "cm_per, accuracy_per = perceptron(analysis_data_df, data_label)\n",
    "print('Accuracy:', accuracy_per)"
   ]
  },
  {
   "cell_type": "code",
   "execution_count": 105,
   "metadata": {},
   "outputs": [
    {
     "data": {
      "text/plain": [
       "<AxesSubplot:>"
      ]
     },
     "execution_count": 105,
     "metadata": {},
     "output_type": "execute_result"
    },
    {
     "data": {
      "image/png": "[encoded data removed]",
      "text/plain": [
       "<Figure size 432x288 with 2 Axes>"
      ]
     },
     "metadata": {},
     "output_type": "display_data"
    }
   ],
   "source": [
    "sns.set(font_scale=1.5)\n",
    "sns.heatmap(cm_per, annot=True, cmap='Blues', linecolor='black', linewidths=1.5)"
   ]
  },
  {
   "attachments": {},
   "cell_type": "markdown",
   "metadata": {},
   "source": [
    "# Logistic Regression"
   ]
  },
  {
   "cell_type": "code",
   "execution_count": 106,
   "metadata": {},
   "outputs": [],
   "source": [
    "def logistic(data_df, label):\n",
    "    # 特徴量とラベルの分割\n",
    "    X = data_df\n",
    "    X.columns = [str(i) for i in data_df.columns]\n",
    "    y = label\n",
    "    oof = np.zeros(len(y))\n",
    "\n",
    "    kf = KFold(n_splits=5, shuffle=True, random_state=1234)\n",
    "    for train_idx, val_idx in kf.split(X):\n",
    "        train_x, val_x = X.iloc[train_idx], X.iloc[val_idx]\n",
    "        train_y, val_y = y.iloc[train_idx], y.iloc[val_idx]\n",
    "\n",
    "        log_model = LogisticRegression()\n",
    "        log_model.fit(train_x, train_y)\n",
    "        y_pred = log_model.predict(val_x)\n",
    "        oof[val_idx] = y_pred\n",
    "\n",
    "    cm = confusion_matrix(y, oof)\n",
    "    # 正解率\n",
    "    Accuracy = accuracy_score(y, oof)\n",
    "\n",
    "    return cm, Accuracy"
   ]
  },
  {
   "cell_type": "code",
   "execution_count": 107,
   "metadata": {},
   "outputs": [
    {
     "name": "stdout",
     "output_type": "stream",
     "text": [
      "Accuracy: 0.224\n"
     ]
    }
   ],
   "source": [
    "cm_log, accuracy_log = perceptron(analysis_data_df, data_label)\n",
    "print('Accuracy:', accuracy_log)"
   ]
  },
  {
   "cell_type": "code",
   "execution_count": 108,
   "metadata": {},
   "outputs": [
    {
     "data": {
      "text/plain": [
       "<AxesSubplot:>"
      ]
     },
     "execution_count": 108,
     "metadata": {},
     "output_type": "execute_result"
    },
    {
     "data": {
      "image/png": "[encoded data removed]",
      "text/plain": [
       "<Figure size 432x288 with 2 Axes>"
      ]
     },
     "metadata": {},
     "output_type": "display_data"
    }
   ],
   "source": [
    "sns.set(font_scale=1.5)\n",
    "sns.heatmap(cm_log, annot=True, cmap='Blues', linecolor='black', linewidths=1.5)"
   ]
  },
  {
   "cell_type": "markdown",
   "metadata": {},
   "source": []
  },
  {
   "cell_type": "markdown",
   "metadata": {},
   "source": [
    "# スペクトルの2次元可視化"
   ]
  },
  {
   "cell_type": "markdown",
   "metadata": {},
   "source": [
    "## データの読み込み"
   ]
  },
  {
   "cell_type": "code",
   "execution_count": 45,
   "metadata": {},
   "outputs": [],
   "source": [
    "# label_list = ['CH3:COOH=1:0', 'CH3:COOH=3:1', 'CH3:COOH=1:1', 'CH3:COOH=1:3', 'CH3:COOH=0:1']\n",
    "# label_list = ['CH3:OH=1:0', 'CH3:OH=3:1', 'CH3:OH=1:1', 'CH3:OH=1:3', 'CH3:OH=0:1']\n",
    "# label_list = ['CH3:NH2=1:0', 'CH3:NH2=3:1', 'CH3:NH2=1:1', 'CH3:NH2=1:3', 'CH3:NH2=0:1']\n",
    "CH3_SH_label_list = ['CH3:SH=1:0', 'CH3:SH=3:1', 'CH3:SH=1:1', 'CH3:SH=1:3', 'CH3:SH=0:1']\n",
    "\n",
    "CH3_COOH_OH_NH2_label_list = ['CH3:COOH=1:0', 'CH3:COOH=3:1', 'CH3:COOH=1:1', 'CH3:COOH=1:3', 'CH3:COOH=0:1',\n",
    "                             'CH3:OH=3:1', 'CH3:OH=1:1', 'CH3:OH=1:3', 'CH3:OH=0:1',\n",
    "                             'CH3:NH2=3:1', 'CH3:NH2=1:1', 'CH3:NH2=1:3', 'CH3:NH2=0:1']\n",
    "\n",
    "CH3_COOH_OH_NH2_SH_label_list = ['CH3:COOH=1:0', 'CH3:COOH=3:1', 'CH3:COOH=1:1', 'CH3:COOH=1:3', 'CH3:COOH=0:1',\n",
    "                                 'CH3:OH=3:1', 'CH3:OH=1:1', 'CH3:OH=1:3', 'CH3:OH=0:1',\n",
    "                                 'CH3:NH2=3:1', 'CH3:NH2=1:1', 'CH3:NH2=1:3', 'CH3:NH2=0:1',\n",
    "                                 'CH3:SH=3:1', 'CH3:SH=1:1', 'CH3:SH=1:3', 'CH3:SH=0:1']\n",
    "\n",
    "# データフレームの読み込み\n",
    "dataframe_path = r'.\\input\\dataframe\\\\'\n",
    "# excelファイルの保存先のパス\n",
    "output_path = r'.\\output\\\\'\n",
    "\n",
    "# pickleファイルの読み込み\n",
    "all_title = 'CH3_COOH_OH_NH2_SH_standard_df'\n",
    "ch3_cooh_oh_nh2_title = \"CH3_COOH_OH_NH2_standard_df\"\n",
    "ch3_sh_title = 'CH3_SH_standard_df'\n",
    "\n",
    "all_df = pd.read_pickle(dataframe_path + all_title + '.pkl')\n",
    "ch3_cooh_oh_nh2_df = pd.read_pickle(dataframe_path + ch3_cooh_oh_nh2_title + '.pkl')\n",
    "ch3_sh_df = pd.read_pickle(dataframe_path + ch3_sh_title + '.pkl')\n",
    "\n",
    "# 特徴量とラベルの分離\n",
    "all_label = all_df['label']\n",
    "ch3_cooh_oh_nh2_label = ch3_cooh_oh_nh2_df['label']\n",
    "ch3_sh_label = ch3_sh_df[\"label\"]\n",
    "all_df = all_df.drop('label', axis=1)\n",
    "ch3_cooh_oh_nh2_df = ch3_cooh_oh_nh2_df.drop('label', axis=1)\n",
    "ch3_sh_df = ch3_sh_df.drop('label', axis=1)"
   ]
  },
  {
   "cell_type": "markdown",
   "metadata": {},
   "source": [
    "## 前処理"
   ]
  },
  {
   "cell_type": "code",
   "execution_count": 24,
   "metadata": {},
   "outputs": [
    {
     "data": {
      "text/html": [
       "<div>\n",
       "<style scoped>\n",
       "    .dataframe tbody tr th:only-of-type {\n",
       "        vertical-align: middle;\n",
       "    }\n",
       "\n",
       "    .dataframe tbody tr th {\n",
       "        vertical-align: top;\n",
       "    }\n",
       "\n",
       "    .dataframe thead th {\n",
       "        text-align: right;\n",
       "    }\n",
       "</style>\n",
       "<table border=\"1\" class=\"dataframe\">\n",
       "  <thead>\n",
       "    <tr style=\"text-align: right;\">\n",
       "      <th>Raman Shift</th>\n",
       "      <th>199.147424</th>\n",
       "      <th>201.192791</th>\n",
       "      <th>203.237476</th>\n",
       "      <th>205.281480</th>\n",
       "      <th>207.324801</th>\n",
       "      <th>209.367441</th>\n",
       "      <th>211.409400</th>\n",
       "      <th>213.450678</th>\n",
       "      <th>215.491276</th>\n",
       "      <th>217.531194</th>\n",
       "      <th>...</th>\n",
       "      <th>1735.286945</th>\n",
       "      <th>1736.849012</th>\n",
       "      <th>1738.410618</th>\n",
       "      <th>1739.971761</th>\n",
       "      <th>1741.532444</th>\n",
       "      <th>1743.092665</th>\n",
       "      <th>1744.652426</th>\n",
       "      <th>1746.211725</th>\n",
       "      <th>1747.770565</th>\n",
       "      <th>1749.328943</th>\n",
       "    </tr>\n",
       "  </thead>\n",
       "  <tbody>\n",
       "    <tr>\n",
       "      <th>CH3-COOH_1-0_01</th>\n",
       "      <td>-0.255826</td>\n",
       "      <td>-0.329458</td>\n",
       "      <td>-0.243873</td>\n",
       "      <td>-0.323636</td>\n",
       "      <td>-0.339238</td>\n",
       "      <td>-0.418278</td>\n",
       "      <td>-0.362079</td>\n",
       "      <td>-0.320504</td>\n",
       "      <td>-0.263580</td>\n",
       "      <td>-0.275232</td>\n",
       "      <td>...</td>\n",
       "      <td>-0.228963</td>\n",
       "      <td>-0.209584</td>\n",
       "      <td>-0.226174</td>\n",
       "      <td>-0.225639</td>\n",
       "      <td>-0.210549</td>\n",
       "      <td>-0.185184</td>\n",
       "      <td>-0.224050</td>\n",
       "      <td>-0.199547</td>\n",
       "      <td>-0.215296</td>\n",
       "      <td>-0.195079</td>\n",
       "    </tr>\n",
       "    <tr>\n",
       "      <th>CH3-COOH_1-0_02</th>\n",
       "      <td>-0.335234</td>\n",
       "      <td>-0.394590</td>\n",
       "      <td>-0.428526</td>\n",
       "      <td>-0.446909</td>\n",
       "      <td>-0.425066</td>\n",
       "      <td>-0.418104</td>\n",
       "      <td>-0.471261</td>\n",
       "      <td>-0.382197</td>\n",
       "      <td>-0.317061</td>\n",
       "      <td>-0.399231</td>\n",
       "      <td>...</td>\n",
       "      <td>-0.217711</td>\n",
       "      <td>-0.232014</td>\n",
       "      <td>-0.272639</td>\n",
       "      <td>-0.222789</td>\n",
       "      <td>-0.217358</td>\n",
       "      <td>-0.249764</td>\n",
       "      <td>-0.249271</td>\n",
       "      <td>-0.241378</td>\n",
       "      <td>-0.219504</td>\n",
       "      <td>-0.259321</td>\n",
       "    </tr>\n",
       "    <tr>\n",
       "      <th>CH3-COOH_1-0_03</th>\n",
       "      <td>-0.351962</td>\n",
       "      <td>-0.466334</td>\n",
       "      <td>-0.471799</td>\n",
       "      <td>-0.476556</td>\n",
       "      <td>-0.493150</td>\n",
       "      <td>-0.488650</td>\n",
       "      <td>-0.419933</td>\n",
       "      <td>-0.423423</td>\n",
       "      <td>-0.328197</td>\n",
       "      <td>-0.377310</td>\n",
       "      <td>...</td>\n",
       "      <td>-0.258174</td>\n",
       "      <td>-0.263040</td>\n",
       "      <td>-0.253794</td>\n",
       "      <td>-0.226517</td>\n",
       "      <td>-0.254124</td>\n",
       "      <td>-0.275460</td>\n",
       "      <td>-0.241131</td>\n",
       "      <td>-0.227972</td>\n",
       "      <td>-0.241471</td>\n",
       "      <td>-0.239291</td>\n",
       "    </tr>\n",
       "    <tr>\n",
       "      <th>CH3-COOH_1-0_04</th>\n",
       "      <td>-0.340418</td>\n",
       "      <td>-0.305730</td>\n",
       "      <td>-0.410646</td>\n",
       "      <td>-0.369136</td>\n",
       "      <td>-0.407863</td>\n",
       "      <td>-0.415038</td>\n",
       "      <td>-0.330525</td>\n",
       "      <td>-0.370193</td>\n",
       "      <td>-0.338219</td>\n",
       "      <td>-0.343306</td>\n",
       "      <td>...</td>\n",
       "      <td>-0.252784</td>\n",
       "      <td>-0.222816</td>\n",
       "      <td>-0.259152</td>\n",
       "      <td>-0.236897</td>\n",
       "      <td>-0.247796</td>\n",
       "      <td>-0.240964</td>\n",
       "      <td>-0.248012</td>\n",
       "      <td>-0.234246</td>\n",
       "      <td>-0.224337</td>\n",
       "      <td>-0.246040</td>\n",
       "    </tr>\n",
       "    <tr>\n",
       "      <th>CH3-COOH_1-0_05</th>\n",
       "      <td>-0.223680</td>\n",
       "      <td>-0.361366</td>\n",
       "      <td>-0.423412</td>\n",
       "      <td>-0.405274</td>\n",
       "      <td>-0.327401</td>\n",
       "      <td>-0.456380</td>\n",
       "      <td>-0.439284</td>\n",
       "      <td>-0.332157</td>\n",
       "      <td>-0.366749</td>\n",
       "      <td>-0.355235</td>\n",
       "      <td>...</td>\n",
       "      <td>-0.210957</td>\n",
       "      <td>-0.217217</td>\n",
       "      <td>-0.220450</td>\n",
       "      <td>-0.215355</td>\n",
       "      <td>-0.219351</td>\n",
       "      <td>-0.229408</td>\n",
       "      <td>-0.245527</td>\n",
       "      <td>-0.213935</td>\n",
       "      <td>-0.204309</td>\n",
       "      <td>-0.226495</td>\n",
       "    </tr>\n",
       "    <tr>\n",
       "      <th>...</th>\n",
       "      <td>...</td>\n",
       "      <td>...</td>\n",
       "      <td>...</td>\n",
       "      <td>...</td>\n",
       "      <td>...</td>\n",
       "      <td>...</td>\n",
       "      <td>...</td>\n",
       "      <td>...</td>\n",
       "      <td>...</td>\n",
       "      <td>...</td>\n",
       "      <td>...</td>\n",
       "      <td>...</td>\n",
       "      <td>...</td>\n",
       "      <td>...</td>\n",
       "      <td>...</td>\n",
       "      <td>...</td>\n",
       "      <td>...</td>\n",
       "      <td>...</td>\n",
       "      <td>...</td>\n",
       "      <td>...</td>\n",
       "      <td>...</td>\n",
       "    </tr>\n",
       "    <tr>\n",
       "      <th>CH3-SH_0-1_46</th>\n",
       "      <td>-0.841421</td>\n",
       "      <td>-0.803090</td>\n",
       "      <td>-0.707791</td>\n",
       "      <td>-0.803811</td>\n",
       "      <td>-0.722997</td>\n",
       "      <td>-0.636583</td>\n",
       "      <td>-0.624477</td>\n",
       "      <td>-0.723779</td>\n",
       "      <td>-0.623414</td>\n",
       "      <td>-0.811398</td>\n",
       "      <td>...</td>\n",
       "      <td>-0.054829</td>\n",
       "      <td>-0.143301</td>\n",
       "      <td>-0.154724</td>\n",
       "      <td>-0.034874</td>\n",
       "      <td>-0.140490</td>\n",
       "      <td>-0.177619</td>\n",
       "      <td>-0.089183</td>\n",
       "      <td>-0.163428</td>\n",
       "      <td>-0.177748</td>\n",
       "      <td>-0.115019</td>\n",
       "    </tr>\n",
       "    <tr>\n",
       "      <th>CH3-SH_0-1_47</th>\n",
       "      <td>-0.703034</td>\n",
       "      <td>-0.496107</td>\n",
       "      <td>-0.713924</td>\n",
       "      <td>-0.751378</td>\n",
       "      <td>-0.746475</td>\n",
       "      <td>-0.685061</td>\n",
       "      <td>-0.867919</td>\n",
       "      <td>-0.633323</td>\n",
       "      <td>-0.657152</td>\n",
       "      <td>-0.652776</td>\n",
       "      <td>...</td>\n",
       "      <td>-0.132729</td>\n",
       "      <td>0.004924</td>\n",
       "      <td>-0.129904</td>\n",
       "      <td>-0.130270</td>\n",
       "      <td>-0.088180</td>\n",
       "      <td>-0.138101</td>\n",
       "      <td>-0.145565</td>\n",
       "      <td>-0.057494</td>\n",
       "      <td>-0.121590</td>\n",
       "      <td>0.033702</td>\n",
       "    </tr>\n",
       "    <tr>\n",
       "      <th>CH3-SH_0-1_48</th>\n",
       "      <td>-0.797512</td>\n",
       "      <td>-0.820236</td>\n",
       "      <td>-0.800051</td>\n",
       "      <td>-0.868487</td>\n",
       "      <td>-0.684073</td>\n",
       "      <td>-0.722337</td>\n",
       "      <td>-0.803690</td>\n",
       "      <td>-0.561370</td>\n",
       "      <td>-0.617607</td>\n",
       "      <td>-0.527228</td>\n",
       "      <td>...</td>\n",
       "      <td>-0.082957</td>\n",
       "      <td>-0.024863</td>\n",
       "      <td>-0.128658</td>\n",
       "      <td>-0.121167</td>\n",
       "      <td>-0.106095</td>\n",
       "      <td>-0.040441</td>\n",
       "      <td>-0.134147</td>\n",
       "      <td>-0.114038</td>\n",
       "      <td>-0.091406</td>\n",
       "      <td>-0.121899</td>\n",
       "    </tr>\n",
       "    <tr>\n",
       "      <th>CH3-SH_0-1_49</th>\n",
       "      <td>-0.646984</td>\n",
       "      <td>-0.595498</td>\n",
       "      <td>-0.821033</td>\n",
       "      <td>-0.707852</td>\n",
       "      <td>-0.783729</td>\n",
       "      <td>-0.944412</td>\n",
       "      <td>-0.583937</td>\n",
       "      <td>-0.787173</td>\n",
       "      <td>-0.768973</td>\n",
       "      <td>-0.646622</td>\n",
       "      <td>...</td>\n",
       "      <td>-0.117589</td>\n",
       "      <td>-0.183139</td>\n",
       "      <td>-0.043450</td>\n",
       "      <td>-0.177427</td>\n",
       "      <td>-0.109422</td>\n",
       "      <td>0.004186</td>\n",
       "      <td>-0.256866</td>\n",
       "      <td>-0.117206</td>\n",
       "      <td>-0.199087</td>\n",
       "      <td>-0.056182</td>\n",
       "    </tr>\n",
       "    <tr>\n",
       "      <th>CH3-SH_0-1_50</th>\n",
       "      <td>-0.730221</td>\n",
       "      <td>-0.622288</td>\n",
       "      <td>-0.599370</td>\n",
       "      <td>-0.617436</td>\n",
       "      <td>-0.538104</td>\n",
       "      <td>-0.584672</td>\n",
       "      <td>-0.527551</td>\n",
       "      <td>-0.467382</td>\n",
       "      <td>-0.489081</td>\n",
       "      <td>-0.605226</td>\n",
       "      <td>...</td>\n",
       "      <td>-0.051709</td>\n",
       "      <td>-0.127442</td>\n",
       "      <td>-0.118267</td>\n",
       "      <td>-0.061926</td>\n",
       "      <td>-0.178569</td>\n",
       "      <td>-0.200870</td>\n",
       "      <td>-0.191729</td>\n",
       "      <td>-0.081956</td>\n",
       "      <td>-0.123152</td>\n",
       "      <td>-0.082586</td>\n",
       "    </tr>\n",
       "  </tbody>\n",
       "</table>\n",
       "<p>850 rows × 869 columns</p>\n",
       "</div>"
      ],
      "text/plain": [
       "Raman Shift      199.147424   201.192791   203.237476   205.281480   \\\n",
       "CH3-COOH_1-0_01    -0.255826    -0.329458    -0.243873    -0.323636   \n",
       "CH3-COOH_1-0_02    -0.335234    -0.394590    -0.428526    -0.446909   \n",
       "CH3-COOH_1-0_03    -0.351962    -0.466334    -0.471799    -0.476556   \n",
       "CH3-COOH_1-0_04    -0.340418    -0.305730    -0.410646    -0.369136   \n",
       "CH3-COOH_1-0_05    -0.223680    -0.361366    -0.423412    -0.405274   \n",
       "...                      ...          ...          ...          ...   \n",
       "CH3-SH_0-1_46      -0.841421    -0.803090    -0.707791    -0.803811   \n",
       "CH3-SH_0-1_47      -0.703034    -0.496107    -0.713924    -0.751378   \n",
       "CH3-SH_0-1_48      -0.797512    -0.820236    -0.800051    -0.868487   \n",
       "CH3-SH_0-1_49      -0.646984    -0.595498    -0.821033    -0.707852   \n",
       "CH3-SH_0-1_50      -0.730221    -0.622288    -0.599370    -0.617436   \n",
       "\n",
       "Raman Shift      207.324801   209.367441   211.409400   213.450678   \\\n",
       "CH3-COOH_1-0_01    -0.339238    -0.418278    -0.362079    -0.320504   \n",
       "CH3-COOH_1-0_02    -0.425066    -0.418104    -0.471261    -0.382197   \n",
       "CH3-COOH_1-0_03    -0.493150    -0.488650    -0.419933    -0.423423   \n",
       "CH3-COOH_1-0_04    -0.407863    -0.415038    -0.330525    -0.370193   \n",
       "CH3-COOH_1-0_05    -0.327401    -0.456380    -0.439284    -0.332157   \n",
       "...                      ...          ...          ...          ...   \n",
       "CH3-SH_0-1_46      -0.722997    -0.636583    -0.624477    -0.723779   \n",
       "CH3-SH_0-1_47      -0.746475    -0.685061    -0.867919    -0.633323   \n",
       "CH3-SH_0-1_48      -0.684073    -0.722337    -0.803690    -0.561370   \n",
       "CH3-SH_0-1_49      -0.783729    -0.944412    -0.583937    -0.787173   \n",
       "CH3-SH_0-1_50      -0.538104    -0.584672    -0.527551    -0.467382   \n",
       "\n",
       "Raman Shift      215.491276   217.531194   ...  1735.286945  1736.849012  \\\n",
       "CH3-COOH_1-0_01    -0.263580    -0.275232  ...    -0.228963    -0.209584   \n",
       "CH3-COOH_1-0_02    -0.317061    -0.399231  ...    -0.217711    -0.232014   \n",
       "CH3-COOH_1-0_03    -0.328197    -0.377310  ...    -0.258174    -0.263040   \n",
       "CH3-COOH_1-0_04    -0.338219    -0.343306  ...    -0.252784    -0.222816   \n",
       "CH3-COOH_1-0_05    -0.366749    -0.355235  ...    -0.210957    -0.217217   \n",
       "...                      ...          ...  ...          ...          ...   \n",
       "CH3-SH_0-1_46      -0.623414    -0.811398  ...    -0.054829    -0.143301   \n",
       "CH3-SH_0-1_47      -0.657152    -0.652776  ...    -0.132729     0.004924   \n",
       "CH3-SH_0-1_48      -0.617607    -0.527228  ...    -0.082957    -0.024863   \n",
       "CH3-SH_0-1_49      -0.768973    -0.646622  ...    -0.117589    -0.183139   \n",
       "CH3-SH_0-1_50      -0.489081    -0.605226  ...    -0.051709    -0.127442   \n",
       "\n",
       "Raman Shift      1738.410618  1739.971761  1741.532444  1743.092665  \\\n",
       "CH3-COOH_1-0_01    -0.226174    -0.225639    -0.210549    -0.185184   \n",
       "CH3-COOH_1-0_02    -0.272639    -0.222789    -0.217358    -0.249764   \n",
       "CH3-COOH_1-0_03    -0.253794    -0.226517    -0.254124    -0.275460   \n",
       "CH3-COOH_1-0_04    -0.259152    -0.236897    -0.247796    -0.240964   \n",
       "CH3-COOH_1-0_05    -0.220450    -0.215355    -0.219351    -0.229408   \n",
       "...                      ...          ...          ...          ...   \n",
       "CH3-SH_0-1_46      -0.154724    -0.034874    -0.140490    -0.177619   \n",
       "CH3-SH_0-1_47      -0.129904    -0.130270    -0.088180    -0.138101   \n",
       "CH3-SH_0-1_48      -0.128658    -0.121167    -0.106095    -0.040441   \n",
       "CH3-SH_0-1_49      -0.043450    -0.177427    -0.109422     0.004186   \n",
       "CH3-SH_0-1_50      -0.118267    -0.061926    -0.178569    -0.200870   \n",
       "\n",
       "Raman Shift      1744.652426  1746.211725  1747.770565  1749.328943  \n",
       "CH3-COOH_1-0_01    -0.224050    -0.199547    -0.215296    -0.195079  \n",
       "CH3-COOH_1-0_02    -0.249271    -0.241378    -0.219504    -0.259321  \n",
       "CH3-COOH_1-0_03    -0.241131    -0.227972    -0.241471    -0.239291  \n",
       "CH3-COOH_1-0_04    -0.248012    -0.234246    -0.224337    -0.246040  \n",
       "CH3-COOH_1-0_05    -0.245527    -0.213935    -0.204309    -0.226495  \n",
       "...                      ...          ...          ...          ...  \n",
       "CH3-SH_0-1_46      -0.089183    -0.163428    -0.177748    -0.115019  \n",
       "CH3-SH_0-1_47      -0.145565    -0.057494    -0.121590     0.033702  \n",
       "CH3-SH_0-1_48      -0.134147    -0.114038    -0.091406    -0.121899  \n",
       "CH3-SH_0-1_49      -0.256866    -0.117206    -0.199087    -0.056182  \n",
       "CH3-SH_0-1_50      -0.191729    -0.081956    -0.123152    -0.082586  \n",
       "\n",
       "[850 rows x 869 columns]"
      ]
     },
     "execution_count": 24,
     "metadata": {},
     "output_type": "execute_result"
    }
   ],
   "source": []
  },
  {
   "cell_type": "markdown",
   "metadata": {},
   "source": [
    "## PCA"
   ]
  },
  {
   "cell_type": "code",
   "execution_count": 46,
   "metadata": {},
   "outputs": [],
   "source": [
    "def pca_2d_plot(df, df_label, label_list):\n",
    "    pca = PCA(n_components=2)\n",
    "\n",
    "    pca_X = pca.fit_transform(df.values)\n",
    "    pca_result_df = pd.DataFrame(pca_X)\n",
    "    pca_result_df.columns = ['PC1', 'PC2']\n",
    "    pca_result_df['label'] = df_label.values\n",
    "\n",
    "    color_list = ['red', 'orange', 'green', 'blue', 'purple', 'cyan', 'gold', 'grey', 'black', 'lime',\n",
    "                  'navy', 'pink', 'brown', 'darkorange', 'darkcyan', 'lightsalmon', 'darkviolet']\n",
    "\n",
    "    for i in range(np.unique(df_label).size):\n",
    "        data = pca_result_df[pca_result_df['label'] == i]\n",
    "        plt.scatter(data['PC1'], data['PC2'], c=color_list[i], label=label_list[i])\n",
    "\n",
    "    # 寄与率の算出\n",
    "    exp_var_ratio = pd.DataFrame([pca.explained_variance_ratio_], columns=['PC1', 'PC2'])\n",
    "    print(exp_var_ratio)\n",
    "\n",
    "    #各主成分の固有ベクトル\n",
    "    pca_vec_df = pd.DataFrame(pca.components_, columns=df.columns, index=['PC1', 'PC2'])\n",
    "\n",
    "    plt.xlabel('PC1')\n",
    "    plt.ylabel('PC2')\n",
    "    plt.legend(loc='best')\n",
    "    plt.show()\n",
    "\n",
    "    return pca_result_df, pca_vec_df"
   ]
  },
  {
   "cell_type": "code",
   "execution_count": 47,
   "metadata": {},
   "outputs": [
    {
     "name": "stdout",
     "output_type": "stream",
     "text": [
      "        PC1      PC2\n",
      "0  0.686831  0.10816\n"
     ]
    },
    {
     "data": {
      "image/png": "[encoded data removed]",
      "text/plain": [
       "<Figure size 432x288 with 1 Axes>"
      ]
     },
     "metadata": {
      "needs_background": "light"
     },
     "output_type": "display_data"
    }
   ],
   "source": [
    "standard_pca_result_df, standard_pca_vec_df = pca_2d_plot(all_df, all_label, CH3_COOH_OH_NH2_SH_label_list)"
   ]
  },
  {
   "cell_type": "code",
   "execution_count": null,
   "metadata": {},
   "outputs": [],
   "source": [
    "# 固有ベクトルの可視化\n",
    "standard_pca_vec_df.T.plot()"
   ]
  },
  {
   "cell_type": "markdown",
   "metadata": {},
   "source": [
    "## tSNE"
   ]
  },
  {
   "cell_type": "code",
   "execution_count": null,
   "metadata": {},
   "outputs": [],
   "source": [
    "# tSNEのパラメータ検討\n",
    "def create_2d_tsne(target_X, y, y_labels, perplexity_list=[5, 10, 20, 30, 40, 50, 100]):\n",
    "    \"\"\"\n",
    "    params target_X: 特徴量データ\n",
    "    params y: ラベルデータ\n",
    "    params y_labels: ラベルのリスト（ラベルのユニーク）\n",
    "    \"\"\"\n",
    "    fig, axes = plt.subplots(nrows=1, ncols=len(perplexity_list), figsize=(5*len(perplexity_list), 4))\n",
    "    for ax, perplexity in zip(axes.flatten(), perplexity_list):\n",
    "\n",
    "        tsne = TSNE(n_components=2, random_state=0, perplexity=perplexity)\n",
    "        Y = tsne.fit_transform(target_X)\n",
    "        for each_label in y_labels:\n",
    "            c_plot_bool = y == y_labels.index(each_label)\n",
    "            ax.scatter(Y[c_plot_bool, 0], Y[c_plot_bool, 1], label=\"{}\".format(each_label))\n",
    "\n",
    "        ax.legend()\n",
    "        ax.set_title(\"perplexity: {}\".format(perplexity))\n",
    "\n",
    "    plt.show()"
   ]
  },
  {
   "cell_type": "code",
   "execution_count": null,
   "metadata": {},
   "outputs": [],
   "source": [
    "create_2d_tsne(std_data_df, std_data_label, label_list)"
   ]
  },
  {
   "cell_type": "code",
   "execution_count": 50,
   "metadata": {},
   "outputs": [],
   "source": [
    "def tsne_2D_plot(df, df_label, label_list, perplexity=30):\n",
    "    tsne = TSNE(n_components=2, random_state=0, perplexity=perplexity, init='pca')\n",
    "\n",
    "    X = tsne.fit_transform(df.values)\n",
    "    tsne_result_df = pd.DataFrame(X)\n",
    "    tsne_result_df.columns = ['tSNE1', 'tSNE2']\n",
    "    tsne_result_df['label'] = df_label.values\n",
    "\n",
    "    color_list = ['red', 'orange', 'green', 'blue', 'purple', 'cyan', 'gold', 'grey', 'black', 'lime',\n",
    "                  'navy', 'pink', 'brown', 'darkorange', 'darkcyan', 'lightsalmon', 'darkviolet']\n",
    "\n",
    "    for i in range(np.unique(df_label).size):\n",
    "        data = tsne_result_df[tsne_result_df['label'] == i]\n",
    "        plt.scatter(data['tSNE1'], data['tSNE2'], c=color_list[i], label=label_list[i])\n",
    "\n",
    "    plt.xlabel('tSNE1')\n",
    "    plt.ylabel('tSNE2')\n",
    "    plt.legend(loc='best')\n",
    "    plt.show()\n",
    "\n",
    "    return tsne_result_df"
   ]
  },
  {
   "cell_type": "code",
   "execution_count": 51,
   "metadata": {},
   "outputs": [
    {
     "data": {
      "image/png": "[encoded data removed]",
      "text/plain": [
       "<Figure size 432x288 with 1 Axes>"
      ]
     },
     "metadata": {
      "needs_background": "light"
     },
     "output_type": "display_data"
    }
   ],
   "source": [
    "standard_tsne_result_df = tsne_2D_plot(all_df, all_label, CH3_COOH_OH_NH2_SH_label_list)"
   ]
  },
  {
   "attachments": {},
   "cell_type": "markdown",
   "metadata": {},
   "source": [
    "## LDA"
   ]
  },
  {
   "cell_type": "code",
   "execution_count": 52,
   "metadata": {},
   "outputs": [],
   "source": [
    "def lda_2D_plot(df, df_label, label_list):\n",
    "    lda = LDA(n_components=2)\n",
    "    X_r2 = lda.fit(df, df_label).transform(df)\n",
    "\n",
    "    color_list = ['red', 'orange', 'green', 'blue', 'purple', 'cyan', 'gold', 'grey', 'black', 'lime',\n",
    "                  'navy', 'pink', 'brown', 'darkorange', 'darkcyan', 'lightsalmon', 'darkviolet']\n",
    "\n",
    "    # Percentage of variance explained for each components\n",
    "    print('explained variance ratio (first two components): %s' % str(lda.explained_variance_ratio_))\n",
    "\n",
    "    for i in range(np.unique(df_label).size):\n",
    "        plt.scatter(X_r2[df_label == i, 0], X_r2[df_label == i, 1],\n",
    "        c=color_list[i], label=label_list[i])\n",
    "\n",
    "    # ldaの結果をデータフレーム化\n",
    "    lda_result_df = pd.DataFrame(X_r2)\n",
    "    lda_result_df.columns = ['LDA1', 'LDA2']\n",
    "    lda_result_df['label'] = df_label.values\n",
    "\n",
    "    # 重みベクトルの取得\n",
    "    lda_weight_vec_df = pd.DataFrame(lda.coef_, columns=df.columns, index=label_list)\n",
    "\n",
    "    plt.xlabel('LDA1')\n",
    "    plt.ylabel('LDA2')\n",
    "    plt.legend(loc='best')\n",
    "    plt.show()\n",
    "\n",
    "    return lda_result_df, lda_weight_vec_df"
   ]
  },
  {
   "cell_type": "code",
   "execution_count": 53,
   "metadata": {},
   "outputs": [
    {
     "name": "stdout",
     "output_type": "stream",
     "text": [
      "explained variance ratio (first two components): [0.71707565 0.14100996]\n"
     ]
    },
    {
     "data": {
      "image/png": "[encoded data removed]",
      "text/plain": [
       "<Figure size 432x288 with 1 Axes>"
      ]
     },
     "metadata": {
      "needs_background": "light"
     },
     "output_type": "display_data"
    }
   ],
   "source": [
    "standard_lda_result_df, standard_lda_weight_vec_df = lda_2D_plot(all_df, all_label, CH3_COOH_OH_NH2_SH_label_list)"
   ]
  },
  {
   "cell_type": "markdown",
   "metadata": {},
   "source": [
    "### 異常値検出"
   ]
  },
  {
   "cell_type": "code",
   "execution_count": 54,
   "metadata": {},
   "outputs": [],
   "source": [
    "def lda_2D_plot(df, df_label, test_df, test_data_label, label_list):\n",
    "    lda = LDA(n_components=2)\n",
    "    X_r2 = lda.fit(df, df_label).transform(test_df)\n",
    "\n",
    "    color_list = ['red', 'orange', 'green', 'blue', 'purple', 'cyan', 'gold', 'grey', 'black', 'lime',\n",
    "                  'navy', 'pink', 'brown', 'darkorange', 'darkcyan', 'lightsalmon', 'darkviolet']\n",
    "\n",
    "    # Percentage of variance explained for each components\n",
    "    print('explained variance ratio (first two components): %s' % str(lda.explained_variance_ratio_))\n",
    "\n",
    "    for i in range(np.unique(test_data_label).size):\n",
    "        plt.scatter(X_r2[test_data_label == i, 0], X_r2[test_data_label == i, 1],\n",
    "        c=color_list[i], label=label_list[i])\n",
    "\n",
    "    # ldaの結果をデータフレーム化\n",
    "    lda_result_df = pd.DataFrame(X_r2)\n",
    "    lda_result_df.columns = ['LDA1', 'LDA2']\n",
    "    lda_result_df['label'] = test_data_label.values\n",
    "\n",
    "    plt.xlabel('LDA1')\n",
    "    plt.ylabel('LDA2')\n",
    "    plt.legend(loc='best')\n",
    "    plt.show()\n",
    "\n",
    "    return lda_result_df"
   ]
  },
  {
   "cell_type": "code",
   "execution_count": 55,
   "metadata": {},
   "outputs": [
    {
     "name": "stdout",
     "output_type": "stream",
     "text": [
      "explained variance ratio (first two components): [0.47067456 0.27250756]\n"
     ]
    },
    {
     "data": {
      "image/png": "[encoded data removed]",
      "text/plain": [
       "<Figure size 432x288 with 1 Axes>"
      ]
     },
     "metadata": {
      "needs_background": "light"
     },
     "output_type": "display_data"
    }
   ],
   "source": [
    "standard_lda_result_df = lda_2D_plot(ch3_cooh_oh_nh2_df, ch3_cooh_oh_nh2_label, all_df, all_label, CH3_COOH_OH_NH2_SH_label_list)"
   ]
  },
  {
   "cell_type": "code",
   "execution_count": 30,
   "metadata": {},
   "outputs": [],
   "source": [
    "graph_title = 'standard_lda_result_OH'\n",
    "standard_lda_result_df.to_excel(output_path + graph_title + '.xlsx', index=False)"
   ]
  },
  {
   "cell_type": "code",
   "execution_count": null,
   "metadata": {},
   "outputs": [],
   "source": []
  },
  {
   "cell_type": "code",
   "execution_count": 27,
   "metadata": {},
   "outputs": [],
   "source": [
    "# データフレームの読み込み\n",
    "dataframe_path = r'.\\input\\dataframe\\\\'\n",
    "# excelファイルの保存先のパス\n",
    "output_path = r'.\\output\\\\'\n",
    "\n",
    "# pickleファイルの読み込み\n",
    "df_title = 'CH3_COOH_OH_NH2_standard_df'\n",
    "connect_title = 'CH3_SH_connect_standard_df'\n",
    "\n",
    "df = pd.read_pickle(dataframe_path + df_title + '.pkl')\n",
    "connect_df = pd.read_pickle(dataframe_path + connect_title + '.pkl')"
   ]
  },
  {
   "cell_type": "code",
   "execution_count": 40,
   "metadata": {},
   "outputs": [],
   "source": [
    "a = connect_df[connect_df.label == 0].copy()\n",
    "a[\"label\"] = 13\n",
    "\n",
    "b = connect_df[connect_df.label == 1].copy()\n",
    "b[\"label\"] = 14\n",
    "\n",
    "c = connect_df[connect_df.label == 2].copy()\n",
    "c[\"label\"] = 15\n",
    "\n",
    "d = connect_df[connect_df.label == 3].copy()\n",
    "d[\"label\"] = 16"
   ]
  },
  {
   "cell_type": "code",
   "execution_count": 41,
   "metadata": {},
   "outputs": [
    {
     "data": {
      "text/html": [
       "<div>\n",
       "<style scoped>\n",
       "    .dataframe tbody tr th:only-of-type {\n",
       "        vertical-align: middle;\n",
       "    }\n",
       "\n",
       "    .dataframe tbody tr th {\n",
       "        vertical-align: top;\n",
       "    }\n",
       "\n",
       "    .dataframe thead th {\n",
       "        text-align: right;\n",
       "    }\n",
       "</style>\n",
       "<table border=\"1\" class=\"dataframe\">\n",
       "  <thead>\n",
       "    <tr style=\"text-align: right;\">\n",
       "      <th>Raman Shift</th>\n",
       "      <th>199.147423618928</th>\n",
       "      <th>201.192791188876</th>\n",
       "      <th>203.237476388369</th>\n",
       "      <th>205.281479548654</th>\n",
       "      <th>207.324801000766</th>\n",
       "      <th>209.367441075527</th>\n",
       "      <th>211.409400103543</th>\n",
       "      <th>213.450678415207</th>\n",
       "      <th>215.491276340697</th>\n",
       "      <th>217.53119420998</th>\n",
       "      <th>...</th>\n",
       "      <th>1736.84901220951</th>\n",
       "      <th>1738.41061757765</th>\n",
       "      <th>1739.97176141826</th>\n",
       "      <th>1741.53244392806</th>\n",
       "      <th>1743.09266530367</th>\n",
       "      <th>1744.65242574159</th>\n",
       "      <th>1746.21172543821</th>\n",
       "      <th>1747.7705645898</th>\n",
       "      <th>1749.32894339254</th>\n",
       "      <th>label</th>\n",
       "    </tr>\n",
       "  </thead>\n",
       "  <tbody>\n",
       "    <tr>\n",
       "      <th>CH3-SH_3-1_01</th>\n",
       "      <td>-0.651816</td>\n",
       "      <td>-0.576817</td>\n",
       "      <td>-0.664302</td>\n",
       "      <td>-0.357886</td>\n",
       "      <td>-0.560028</td>\n",
       "      <td>-0.469429</td>\n",
       "      <td>-0.535988</td>\n",
       "      <td>-0.480180</td>\n",
       "      <td>-0.581529</td>\n",
       "      <td>-0.573822</td>\n",
       "      <td>...</td>\n",
       "      <td>-0.371662</td>\n",
       "      <td>-0.285349</td>\n",
       "      <td>-0.364088</td>\n",
       "      <td>-0.317706</td>\n",
       "      <td>-0.260677</td>\n",
       "      <td>-0.318120</td>\n",
       "      <td>-0.338293</td>\n",
       "      <td>-0.323859</td>\n",
       "      <td>-0.367992</td>\n",
       "      <td>13</td>\n",
       "    </tr>\n",
       "    <tr>\n",
       "      <th>CH3-SH_3-1_02</th>\n",
       "      <td>-0.505540</td>\n",
       "      <td>-0.621943</td>\n",
       "      <td>-0.444849</td>\n",
       "      <td>-0.592593</td>\n",
       "      <td>-0.384617</td>\n",
       "      <td>-0.433422</td>\n",
       "      <td>-0.439563</td>\n",
       "      <td>-0.469150</td>\n",
       "      <td>-0.399682</td>\n",
       "      <td>-0.417825</td>\n",
       "      <td>...</td>\n",
       "      <td>-0.312335</td>\n",
       "      <td>-0.271914</td>\n",
       "      <td>-0.287888</td>\n",
       "      <td>-0.257199</td>\n",
       "      <td>-0.304294</td>\n",
       "      <td>-0.258060</td>\n",
       "      <td>-0.254609</td>\n",
       "      <td>-0.130607</td>\n",
       "      <td>-0.286611</td>\n",
       "      <td>13</td>\n",
       "    </tr>\n",
       "    <tr>\n",
       "      <th>CH3-SH_3-1_03</th>\n",
       "      <td>-0.511662</td>\n",
       "      <td>-0.665181</td>\n",
       "      <td>-0.818793</td>\n",
       "      <td>-0.762330</td>\n",
       "      <td>-0.687139</td>\n",
       "      <td>-0.671640</td>\n",
       "      <td>-0.634277</td>\n",
       "      <td>-0.741300</td>\n",
       "      <td>-0.644520</td>\n",
       "      <td>-0.579199</td>\n",
       "      <td>...</td>\n",
       "      <td>-0.354729</td>\n",
       "      <td>-0.237941</td>\n",
       "      <td>-0.303095</td>\n",
       "      <td>-0.239642</td>\n",
       "      <td>-0.154233</td>\n",
       "      <td>-0.216262</td>\n",
       "      <td>-0.243788</td>\n",
       "      <td>-0.217992</td>\n",
       "      <td>-0.270621</td>\n",
       "      <td>13</td>\n",
       "    </tr>\n",
       "    <tr>\n",
       "      <th>CH3-SH_3-1_04</th>\n",
       "      <td>-0.452961</td>\n",
       "      <td>-0.585494</td>\n",
       "      <td>-0.467671</td>\n",
       "      <td>-0.497043</td>\n",
       "      <td>-0.588799</td>\n",
       "      <td>-0.526935</td>\n",
       "      <td>-0.490349</td>\n",
       "      <td>-0.404831</td>\n",
       "      <td>-0.583120</td>\n",
       "      <td>-0.565381</td>\n",
       "      <td>...</td>\n",
       "      <td>-0.305825</td>\n",
       "      <td>-0.364253</td>\n",
       "      <td>-0.307395</td>\n",
       "      <td>-0.286320</td>\n",
       "      <td>-0.250674</td>\n",
       "      <td>-0.335621</td>\n",
       "      <td>-0.323836</td>\n",
       "      <td>-0.289528</td>\n",
       "      <td>-0.314857</td>\n",
       "      <td>13</td>\n",
       "    </tr>\n",
       "    <tr>\n",
       "      <th>CH3-SH_3-1_05</th>\n",
       "      <td>-0.577436</td>\n",
       "      <td>-0.613385</td>\n",
       "      <td>-0.734301</td>\n",
       "      <td>-0.640060</td>\n",
       "      <td>-0.643835</td>\n",
       "      <td>-0.669506</td>\n",
       "      <td>-0.751869</td>\n",
       "      <td>-0.664743</td>\n",
       "      <td>-0.638657</td>\n",
       "      <td>-0.623590</td>\n",
       "      <td>...</td>\n",
       "      <td>-0.201031</td>\n",
       "      <td>-0.275474</td>\n",
       "      <td>-0.188987</td>\n",
       "      <td>-0.211248</td>\n",
       "      <td>-0.190021</td>\n",
       "      <td>-0.238397</td>\n",
       "      <td>-0.230234</td>\n",
       "      <td>-0.226430</td>\n",
       "      <td>-0.263955</td>\n",
       "      <td>13</td>\n",
       "    </tr>\n",
       "    <tr>\n",
       "      <th>...</th>\n",
       "      <td>...</td>\n",
       "      <td>...</td>\n",
       "      <td>...</td>\n",
       "      <td>...</td>\n",
       "      <td>...</td>\n",
       "      <td>...</td>\n",
       "      <td>...</td>\n",
       "      <td>...</td>\n",
       "      <td>...</td>\n",
       "      <td>...</td>\n",
       "      <td>...</td>\n",
       "      <td>...</td>\n",
       "      <td>...</td>\n",
       "      <td>...</td>\n",
       "      <td>...</td>\n",
       "      <td>...</td>\n",
       "      <td>...</td>\n",
       "      <td>...</td>\n",
       "      <td>...</td>\n",
       "      <td>...</td>\n",
       "      <td>...</td>\n",
       "    </tr>\n",
       "    <tr>\n",
       "      <th>CH3-SH_0-1_46</th>\n",
       "      <td>-0.841421</td>\n",
       "      <td>-0.803090</td>\n",
       "      <td>-0.707791</td>\n",
       "      <td>-0.803811</td>\n",
       "      <td>-0.722997</td>\n",
       "      <td>-0.636583</td>\n",
       "      <td>-0.624477</td>\n",
       "      <td>-0.723779</td>\n",
       "      <td>-0.623414</td>\n",
       "      <td>-0.811398</td>\n",
       "      <td>...</td>\n",
       "      <td>-0.143301</td>\n",
       "      <td>-0.154724</td>\n",
       "      <td>-0.034874</td>\n",
       "      <td>-0.140490</td>\n",
       "      <td>-0.177619</td>\n",
       "      <td>-0.089183</td>\n",
       "      <td>-0.163428</td>\n",
       "      <td>-0.177748</td>\n",
       "      <td>-0.115019</td>\n",
       "      <td>16</td>\n",
       "    </tr>\n",
       "    <tr>\n",
       "      <th>CH3-SH_0-1_47</th>\n",
       "      <td>-0.703034</td>\n",
       "      <td>-0.496107</td>\n",
       "      <td>-0.713924</td>\n",
       "      <td>-0.751378</td>\n",
       "      <td>-0.746475</td>\n",
       "      <td>-0.685061</td>\n",
       "      <td>-0.867919</td>\n",
       "      <td>-0.633323</td>\n",
       "      <td>-0.657152</td>\n",
       "      <td>-0.652776</td>\n",
       "      <td>...</td>\n",
       "      <td>0.004924</td>\n",
       "      <td>-0.129904</td>\n",
       "      <td>-0.130270</td>\n",
       "      <td>-0.088180</td>\n",
       "      <td>-0.138101</td>\n",
       "      <td>-0.145565</td>\n",
       "      <td>-0.057494</td>\n",
       "      <td>-0.121590</td>\n",
       "      <td>0.033702</td>\n",
       "      <td>16</td>\n",
       "    </tr>\n",
       "    <tr>\n",
       "      <th>CH3-SH_0-1_48</th>\n",
       "      <td>-0.797512</td>\n",
       "      <td>-0.820236</td>\n",
       "      <td>-0.800051</td>\n",
       "      <td>-0.868487</td>\n",
       "      <td>-0.684073</td>\n",
       "      <td>-0.722337</td>\n",
       "      <td>-0.803690</td>\n",
       "      <td>-0.561370</td>\n",
       "      <td>-0.617607</td>\n",
       "      <td>-0.527228</td>\n",
       "      <td>...</td>\n",
       "      <td>-0.024863</td>\n",
       "      <td>-0.128658</td>\n",
       "      <td>-0.121167</td>\n",
       "      <td>-0.106095</td>\n",
       "      <td>-0.040441</td>\n",
       "      <td>-0.134147</td>\n",
       "      <td>-0.114038</td>\n",
       "      <td>-0.091406</td>\n",
       "      <td>-0.121899</td>\n",
       "      <td>16</td>\n",
       "    </tr>\n",
       "    <tr>\n",
       "      <th>CH3-SH_0-1_49</th>\n",
       "      <td>-0.646984</td>\n",
       "      <td>-0.595498</td>\n",
       "      <td>-0.821033</td>\n",
       "      <td>-0.707852</td>\n",
       "      <td>-0.783729</td>\n",
       "      <td>-0.944412</td>\n",
       "      <td>-0.583937</td>\n",
       "      <td>-0.787173</td>\n",
       "      <td>-0.768973</td>\n",
       "      <td>-0.646622</td>\n",
       "      <td>...</td>\n",
       "      <td>-0.183139</td>\n",
       "      <td>-0.043450</td>\n",
       "      <td>-0.177427</td>\n",
       "      <td>-0.109422</td>\n",
       "      <td>0.004186</td>\n",
       "      <td>-0.256866</td>\n",
       "      <td>-0.117206</td>\n",
       "      <td>-0.199087</td>\n",
       "      <td>-0.056182</td>\n",
       "      <td>16</td>\n",
       "    </tr>\n",
       "    <tr>\n",
       "      <th>CH3-SH_0-1_50</th>\n",
       "      <td>-0.730221</td>\n",
       "      <td>-0.622288</td>\n",
       "      <td>-0.599370</td>\n",
       "      <td>-0.617436</td>\n",
       "      <td>-0.538104</td>\n",
       "      <td>-0.584672</td>\n",
       "      <td>-0.527551</td>\n",
       "      <td>-0.467382</td>\n",
       "      <td>-0.489081</td>\n",
       "      <td>-0.605226</td>\n",
       "      <td>...</td>\n",
       "      <td>-0.127442</td>\n",
       "      <td>-0.118267</td>\n",
       "      <td>-0.061926</td>\n",
       "      <td>-0.178569</td>\n",
       "      <td>-0.200870</td>\n",
       "      <td>-0.191729</td>\n",
       "      <td>-0.081956</td>\n",
       "      <td>-0.123152</td>\n",
       "      <td>-0.082586</td>\n",
       "      <td>16</td>\n",
       "    </tr>\n",
       "  </tbody>\n",
       "</table>\n",
       "<p>200 rows × 870 columns</p>\n",
       "</div>"
      ],
      "text/plain": [
       "Raman Shift    199.147423618928  201.192791188876  203.237476388369  \\\n",
       "CH3-SH_3-1_01         -0.651816         -0.576817         -0.664302   \n",
       "CH3-SH_3-1_02         -0.505540         -0.621943         -0.444849   \n",
       "CH3-SH_3-1_03         -0.511662         -0.665181         -0.818793   \n",
       "CH3-SH_3-1_04         -0.452961         -0.585494         -0.467671   \n",
       "CH3-SH_3-1_05         -0.577436         -0.613385         -0.734301   \n",
       "...                         ...               ...               ...   \n",
       "CH3-SH_0-1_46         -0.841421         -0.803090         -0.707791   \n",
       "CH3-SH_0-1_47         -0.703034         -0.496107         -0.713924   \n",
       "CH3-SH_0-1_48         -0.797512         -0.820236         -0.800051   \n",
       "CH3-SH_0-1_49         -0.646984         -0.595498         -0.821033   \n",
       "CH3-SH_0-1_50         -0.730221         -0.622288         -0.599370   \n",
       "\n",
       "Raman Shift    205.281479548654  207.324801000766  209.367441075527  \\\n",
       "CH3-SH_3-1_01         -0.357886         -0.560028         -0.469429   \n",
       "CH3-SH_3-1_02         -0.592593         -0.384617         -0.433422   \n",
       "CH3-SH_3-1_03         -0.762330         -0.687139         -0.671640   \n",
       "CH3-SH_3-1_04         -0.497043         -0.588799         -0.526935   \n",
       "CH3-SH_3-1_05         -0.640060         -0.643835         -0.669506   \n",
       "...                         ...               ...               ...   \n",
       "CH3-SH_0-1_46         -0.803811         -0.722997         -0.636583   \n",
       "CH3-SH_0-1_47         -0.751378         -0.746475         -0.685061   \n",
       "CH3-SH_0-1_48         -0.868487         -0.684073         -0.722337   \n",
       "CH3-SH_0-1_49         -0.707852         -0.783729         -0.944412   \n",
       "CH3-SH_0-1_50         -0.617436         -0.538104         -0.584672   \n",
       "\n",
       "Raman Shift    211.409400103543  213.450678415207  215.491276340697  \\\n",
       "CH3-SH_3-1_01         -0.535988         -0.480180         -0.581529   \n",
       "CH3-SH_3-1_02         -0.439563         -0.469150         -0.399682   \n",
       "CH3-SH_3-1_03         -0.634277         -0.741300         -0.644520   \n",
       "CH3-SH_3-1_04         -0.490349         -0.404831         -0.583120   \n",
       "CH3-SH_3-1_05         -0.751869         -0.664743         -0.638657   \n",
       "...                         ...               ...               ...   \n",
       "CH3-SH_0-1_46         -0.624477         -0.723779         -0.623414   \n",
       "CH3-SH_0-1_47         -0.867919         -0.633323         -0.657152   \n",
       "CH3-SH_0-1_48         -0.803690         -0.561370         -0.617607   \n",
       "CH3-SH_0-1_49         -0.583937         -0.787173         -0.768973   \n",
       "CH3-SH_0-1_50         -0.527551         -0.467382         -0.489081   \n",
       "\n",
       "Raman Shift    217.53119420998  ...  1736.84901220951  1738.41061757765  \\\n",
       "CH3-SH_3-1_01        -0.573822  ...         -0.371662         -0.285349   \n",
       "CH3-SH_3-1_02        -0.417825  ...         -0.312335         -0.271914   \n",
       "CH3-SH_3-1_03        -0.579199  ...         -0.354729         -0.237941   \n",
       "CH3-SH_3-1_04        -0.565381  ...         -0.305825         -0.364253   \n",
       "CH3-SH_3-1_05        -0.623590  ...         -0.201031         -0.275474   \n",
       "...                        ...  ...               ...               ...   \n",
       "CH3-SH_0-1_46        -0.811398  ...         -0.143301         -0.154724   \n",
       "CH3-SH_0-1_47        -0.652776  ...          0.004924         -0.129904   \n",
       "CH3-SH_0-1_48        -0.527228  ...         -0.024863         -0.128658   \n",
       "CH3-SH_0-1_49        -0.646622  ...         -0.183139         -0.043450   \n",
       "CH3-SH_0-1_50        -0.605226  ...         -0.127442         -0.118267   \n",
       "\n",
       "Raman Shift    1739.97176141826  1741.53244392806  1743.09266530367  \\\n",
       "CH3-SH_3-1_01         -0.364088         -0.317706         -0.260677   \n",
       "CH3-SH_3-1_02         -0.287888         -0.257199         -0.304294   \n",
       "CH3-SH_3-1_03         -0.303095         -0.239642         -0.154233   \n",
       "CH3-SH_3-1_04         -0.307395         -0.286320         -0.250674   \n",
       "CH3-SH_3-1_05         -0.188987         -0.211248         -0.190021   \n",
       "...                         ...               ...               ...   \n",
       "CH3-SH_0-1_46         -0.034874         -0.140490         -0.177619   \n",
       "CH3-SH_0-1_47         -0.130270         -0.088180         -0.138101   \n",
       "CH3-SH_0-1_48         -0.121167         -0.106095         -0.040441   \n",
       "CH3-SH_0-1_49         -0.177427         -0.109422          0.004186   \n",
       "CH3-SH_0-1_50         -0.061926         -0.178569         -0.200870   \n",
       "\n",
       "Raman Shift    1744.65242574159  1746.21172543821  1747.7705645898  \\\n",
       "CH3-SH_3-1_01         -0.318120         -0.338293        -0.323859   \n",
       "CH3-SH_3-1_02         -0.258060         -0.254609        -0.130607   \n",
       "CH3-SH_3-1_03         -0.216262         -0.243788        -0.217992   \n",
       "CH3-SH_3-1_04         -0.335621         -0.323836        -0.289528   \n",
       "CH3-SH_3-1_05         -0.238397         -0.230234        -0.226430   \n",
       "...                         ...               ...              ...   \n",
       "CH3-SH_0-1_46         -0.089183         -0.163428        -0.177748   \n",
       "CH3-SH_0-1_47         -0.145565         -0.057494        -0.121590   \n",
       "CH3-SH_0-1_48         -0.134147         -0.114038        -0.091406   \n",
       "CH3-SH_0-1_49         -0.256866         -0.117206        -0.199087   \n",
       "CH3-SH_0-1_50         -0.191729         -0.081956        -0.123152   \n",
       "\n",
       "Raman Shift    1749.32894339254  label  \n",
       "CH3-SH_3-1_01         -0.367992     13  \n",
       "CH3-SH_3-1_02         -0.286611     13  \n",
       "CH3-SH_3-1_03         -0.270621     13  \n",
       "CH3-SH_3-1_04         -0.314857     13  \n",
       "CH3-SH_3-1_05         -0.263955     13  \n",
       "...                         ...    ...  \n",
       "CH3-SH_0-1_46         -0.115019     16  \n",
       "CH3-SH_0-1_47          0.033702     16  \n",
       "CH3-SH_0-1_48         -0.121899     16  \n",
       "CH3-SH_0-1_49         -0.056182     16  \n",
       "CH3-SH_0-1_50         -0.082586     16  \n",
       "\n",
       "[200 rows x 870 columns]"
      ]
     },
     "execution_count": 41,
     "metadata": {},
     "output_type": "execute_result"
    }
   ],
   "source": [
    "temp_df = pd.concat([a, b, c, d])\n",
    "temp_df"
   ]
  },
  {
   "cell_type": "code",
   "execution_count": 42,
   "metadata": {},
   "outputs": [
    {
     "data": {
      "text/plain": [
       "(850, 870)"
      ]
     },
     "execution_count": 42,
     "metadata": {},
     "output_type": "execute_result"
    }
   ],
   "source": [
    "hozon_df = pd.concat([df, temp_df])\n",
    "hozon_df.shape"
   ]
  },
  {
   "cell_type": "code",
   "execution_count": 43,
   "metadata": {},
   "outputs": [
    {
     "data": {
      "text/plain": [
       "array([ 0.,  1.,  2.,  3.,  4.,  5.,  6.,  7.,  8.,  9., 10., 11., 12.,\n",
       "       13., 14., 15., 16.])"
      ]
     },
     "execution_count": 43,
     "metadata": {},
     "output_type": "execute_result"
    }
   ],
   "source": [
    "np.unique(hozon_df.label)"
   ]
  },
  {
   "cell_type": "code",
   "execution_count": 44,
   "metadata": {},
   "outputs": [],
   "source": [
    "df_title = 'CH3_COOH_OH_NH2_SH_standard_df'\n",
    "save_df = hozon_df.copy()\n",
    "save_df.to_pickle(output_path + df_title + '.pkl')"
   ]
  },
  {
   "cell_type": "code",
   "execution_count": null,
   "metadata": {},
   "outputs": [],
   "source": []
  }
 ],
 "metadata": {
  "kernelspec": {
   "display_name": "For_study",
   "language": "python",
   "name": "python3"
  },
  "language_info": {
   "codemirror_mode": {
    "name": "ipython",
    "version": 3
   },
   "file_extension": ".py",
   "mimetype": "text/x-python",
   "name": "python",
   "nbconvert_exporter": "python",
   "pygments_lexer": "ipython3",
   "version": "3.7.9"
  },
  "orig_nbformat": 4
 },
 "nbformat": 4,
 "nbformat_minor": 2
}
