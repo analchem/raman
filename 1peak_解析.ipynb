{
 "cells": [
  {
   "cell_type": "code",
   "execution_count": 2,
   "metadata": {},
   "outputs": [],
   "source": [
    "import re\n",
    "import numpy as np\n",
    "import pandas as pd\n",
    "import glob\n",
    "import seaborn as sns\n",
    "import matplotlib.pyplot as plt\n",
    "import japanize_matplotlib\n",
    "%matplotlib inline\n",
    "\n",
    "from sklearn.preprocessing import MinMaxScaler\n",
    "from sklearn.preprocessing import StandardScaler\n",
    "from sklearn.linear_model import Perceptron\n",
    "from sklearn.linear_model import LogisticRegression\n",
    "from sklearn.discriminant_analysis import LinearDiscriminantAnalysis as LDA\n",
    "from sklearn.svm import LinearSVC\n",
    "from sklearn.metrics import accuracy_score\n",
    "from sklearn.metrics import confusion_matrix\n",
    "from sklearn.model_selection import KFold\n",
    "from sklearn.model_selection import GridSearchCV\n",
    "\n",
    "import openpyxl\n",
    "from openpyxl.drawing.line import LineProperties\n",
    "from openpyxl.chart.shapes import GraphicalProperties\n",
    "from openpyxl.chart.text import RichText\n",
    "from openpyxl.drawing.text import Paragraph, ParagraphProperties, CharacterProperties, Font"
   ]
  },
  {
   "cell_type": "code",
   "execution_count": 81,
   "metadata": {},
   "outputs": [],
   "source": [
    "# 各フォルダの読み込み\n",
    "folder_list = glob.glob(r'.\\input\\spectra_data\\*')\n",
    "\n",
    "# データの区切りを指定（タブ：'\\t', コンマ：',', セミコロン：';'）\n",
    "sep = '[,;\\t]'\n",
    "\n",
    "# excelファイルの保存先のパス\n",
    "output_path = r'.\\output\\\\'"
   ]
  },
  {
   "cell_type": "code",
   "execution_count": 82,
   "metadata": {},
   "outputs": [
    {
     "data": {
      "text/html": [
       "<div>\n",
       "<style scoped>\n",
       "    .dataframe tbody tr th:only-of-type {\n",
       "        vertical-align: middle;\n",
       "    }\n",
       "\n",
       "    .dataframe tbody tr th {\n",
       "        vertical-align: top;\n",
       "    }\n",
       "\n",
       "    .dataframe thead th {\n",
       "        text-align: right;\n",
       "    }\n",
       "</style>\n",
       "<table border=\"1\" class=\"dataframe\">\n",
       "  <thead>\n",
       "    <tr style=\"text-align: right;\">\n",
       "      <th></th>\n",
       "      <th>Index</th>\n",
       "      <th>raw_peak1</th>\n",
       "      <th>raw_peak2</th>\n",
       "      <th>raw_peak3</th>\n",
       "      <th>raw_peak4</th>\n",
       "      <th>raw_peak5</th>\n",
       "      <th>std_peak1</th>\n",
       "      <th>std_peak2</th>\n",
       "      <th>std_peak3</th>\n",
       "      <th>std_peak4</th>\n",
       "      <th>std_peak5</th>\n",
       "      <th>label</th>\n",
       "    </tr>\n",
       "  </thead>\n",
       "  <tbody>\n",
       "    <tr>\n",
       "      <th>0</th>\n",
       "      <td>CH3-COOH_1-0_01</td>\n",
       "      <td>5103.738329</td>\n",
       "      <td>-190.438947</td>\n",
       "      <td>3683.338417</td>\n",
       "      <td>15008.388339</td>\n",
       "      <td>2495.599180</td>\n",
       "      <td>0.985504</td>\n",
       "      <td>-1.281596</td>\n",
       "      <td>1.603149</td>\n",
       "      <td>2.807891</td>\n",
       "      <td>-1.408493</td>\n",
       "      <td>0</td>\n",
       "    </tr>\n",
       "    <tr>\n",
       "      <th>1</th>\n",
       "      <td>CH3-COOH_1-0_02</td>\n",
       "      <td>7812.295705</td>\n",
       "      <td>-194.556679</td>\n",
       "      <td>4414.272363</td>\n",
       "      <td>13674.507873</td>\n",
       "      <td>2396.694976</td>\n",
       "      <td>2.357140</td>\n",
       "      <td>-1.341189</td>\n",
       "      <td>2.553350</td>\n",
       "      <td>3.504776</td>\n",
       "      <td>-1.522716</td>\n",
       "      <td>0</td>\n",
       "    </tr>\n",
       "    <tr>\n",
       "      <th>2</th>\n",
       "      <td>CH3-COOH_1-0_03</td>\n",
       "      <td>6766.516954</td>\n",
       "      <td>-197.440682</td>\n",
       "      <td>4061.869953</td>\n",
       "      <td>15787.879885</td>\n",
       "      <td>2984.004149</td>\n",
       "      <td>1.827549</td>\n",
       "      <td>-1.262702</td>\n",
       "      <td>2.205239</td>\n",
       "      <td>4.876685</td>\n",
       "      <td>-0.896542</td>\n",
       "      <td>0</td>\n",
       "    </tr>\n",
       "    <tr>\n",
       "      <th>3</th>\n",
       "      <td>CH3-COOH_1-0_04</td>\n",
       "      <td>6495.640211</td>\n",
       "      <td>-140.306765</td>\n",
       "      <td>3963.427044</td>\n",
       "      <td>16377.685418</td>\n",
       "      <td>2759.395509</td>\n",
       "      <td>1.690375</td>\n",
       "      <td>-1.186554</td>\n",
       "      <td>1.991127</td>\n",
       "      <td>2.524528</td>\n",
       "      <td>-1.136014</td>\n",
       "      <td>0</td>\n",
       "    </tr>\n",
       "    <tr>\n",
       "      <th>4</th>\n",
       "      <td>CH3-COOH_1-0_05</td>\n",
       "      <td>7921.366032</td>\n",
       "      <td>-250.325583</td>\n",
       "      <td>4436.995675</td>\n",
       "      <td>15268.477283</td>\n",
       "      <td>2591.922039</td>\n",
       "      <td>2.412374</td>\n",
       "      <td>-1.365968</td>\n",
       "      <td>2.478621</td>\n",
       "      <td>3.846731</td>\n",
       "      <td>-1.314570</td>\n",
       "      <td>0</td>\n",
       "    </tr>\n",
       "  </tbody>\n",
       "</table>\n",
       "</div>"
      ],
      "text/plain": [
       "             Index    raw_peak1   raw_peak2    raw_peak3     raw_peak4  \\\n",
       "0  CH3-COOH_1-0_01  5103.738329 -190.438947  3683.338417  15008.388339   \n",
       "1  CH3-COOH_1-0_02  7812.295705 -194.556679  4414.272363  13674.507873   \n",
       "2  CH3-COOH_1-0_03  6766.516954 -197.440682  4061.869953  15787.879885   \n",
       "3  CH3-COOH_1-0_04  6495.640211 -140.306765  3963.427044  16377.685418   \n",
       "4  CH3-COOH_1-0_05  7921.366032 -250.325583  4436.995675  15268.477283   \n",
       "\n",
       "     raw_peak5  std_peak1  std_peak2  std_peak3  std_peak4  std_peak5  label  \n",
       "0  2495.599180   0.985504  -1.281596   1.603149   2.807891  -1.408493      0  \n",
       "1  2396.694976   2.357140  -1.341189   2.553350   3.504776  -1.522716      0  \n",
       "2  2984.004149   1.827549  -1.262702   2.205239   4.876685  -0.896542      0  \n",
       "3  2759.395509   1.690375  -1.186554   1.991127   2.524528  -1.136014      0  \n",
       "4  2591.922039   2.412374  -1.365968   2.478621   3.846731  -1.314570      0  "
      ]
     },
     "execution_count": 82,
     "metadata": {},
     "output_type": "execute_result"
    }
   ],
   "source": [
    "label_list = ['CH3:COOH=1:0', 'CH3:COOH=3:1', 'CH3:COOH=1:1', 'CH3:COOH=1:3', 'CH3:COOH=0:1']\n",
    "# label_list = ['CH3:OH=1:0', 'CH3:OH=3:1', 'CH3:OH=1:1', 'CH3:OH=1:3', 'CH3:OH=0:1']\n",
    "# label_list = ['CH3:NH2=1:0', 'CH3:NH2=3:1', 'CH3:NH2=1:1', 'CH3:NH2=1:3', 'CH3:NH2=0:1']\n",
    "# label_list = ['CH3:COOH=0:1', 'CH3:COOH=1:3', 'CH3:COOH=1:1', 'CH3:COOH=3:1', 'CH3:COOH=1:0', 'CH3:NH2=3:1', 'CH3:NH2=1:1', 'CH3:NH2=1:3', 'CH3:NH2=0:1']\n",
    "\n",
    "# データフレームの読み込み\n",
    "dataframe_path = r'.\\input\\dataframe\\\\'\n",
    "# excelファイルの保存先のパス\n",
    "output_path = r'.\\output\\\\'\n",
    "\n",
    "dataframe_title = '1variable_analysis_data'\n",
    "\n",
    "data_df = pd.read_excel(dataframe_path + dataframe_title + '.xlsx')\n",
    "data_df.head()"
   ]
  },
  {
   "cell_type": "code",
   "execution_count": 83,
   "metadata": {},
   "outputs": [],
   "source": [
    "# 特徴量とラベルの分離\n",
    "data_label = data_df['label']\n",
    "data_df = data_df.drop(['Index', 'label'], axis=1)"
   ]
  },
  {
   "cell_type": "code",
   "execution_count": 157,
   "metadata": {},
   "outputs": [],
   "source": [
    "analysis_data_df = data_df[['std_peak5']]"
   ]
  },
  {
   "attachments": {},
   "cell_type": "markdown",
   "metadata": {},
   "source": [
    "# Linear SVC"
   ]
  },
  {
   "attachments": {},
   "cell_type": "markdown",
   "metadata": {},
   "source": [
    "## クロスバリデーションでの予測"
   ]
  },
  {
   "cell_type": "code",
   "execution_count": 158,
   "metadata": {},
   "outputs": [],
   "source": [
    "# kernel:rbf(ガウス関数) その他：linear(線形回帰)、poly(多項式展開)、sigmoidなどがある\n",
    "def linear_svc(C, data_df, label):\n",
    "    # SVM処理\n",
    "    # 特徴量とラベルの分割\n",
    "    X = data_df\n",
    "    y = label\n",
    "    oof = np.zeros(len(y))\n",
    "\n",
    "    kf = KFold(n_splits=5, shuffle=True, random_state=1234)\n",
    "    for train_idx, val_idx in kf.split(X):\n",
    "        train_x, val_x = X.iloc[train_idx], X.iloc[val_idx]\n",
    "        train_y, val_y = y.iloc[train_idx], y.iloc[val_idx]\n",
    "\n",
    "        svm_model = LinearSVC(C=C, max_iter=5000)\n",
    "        svm_model.fit(train_x, train_y)\n",
    "        y_pred = svm_model.predict(val_x)\n",
    "        oof[val_idx] = y_pred\n",
    "\n",
    "    cm = confusion_matrix(y, oof)\n",
    "    # 正解率\n",
    "    Accuracy = accuracy_score(y, oof)\n",
    "\n",
    "    return cm, Accuracy"
   ]
  },
  {
   "cell_type": "code",
   "execution_count": 159,
   "metadata": {},
   "outputs": [
    {
     "name": "stderr",
     "output_type": "stream",
     "text": [
      "c:\\Users\\west7\\anaconda3\\envs\\xeus-python\\lib\\site-packages\\sklearn\\svm\\_base.py:1206: ConvergenceWarning: Liblinear failed to converge, increase the number of iterations.\n",
      "  warnings.warn(\n",
      "c:\\Users\\west7\\anaconda3\\envs\\xeus-python\\lib\\site-packages\\sklearn\\svm\\_base.py:1206: ConvergenceWarning: Liblinear failed to converge, increase the number of iterations.\n",
      "  warnings.warn(\n",
      "c:\\Users\\west7\\anaconda3\\envs\\xeus-python\\lib\\site-packages\\sklearn\\svm\\_base.py:1206: ConvergenceWarning: Liblinear failed to converge, increase the number of iterations.\n",
      "  warnings.warn(\n",
      "c:\\Users\\west7\\anaconda3\\envs\\xeus-python\\lib\\site-packages\\sklearn\\svm\\_base.py:1206: ConvergenceWarning: Liblinear failed to converge, increase the number of iterations.\n",
      "  warnings.warn(\n",
      "c:\\Users\\west7\\anaconda3\\envs\\xeus-python\\lib\\site-packages\\sklearn\\svm\\_base.py:1206: ConvergenceWarning: Liblinear failed to converge, increase the number of iterations.\n",
      "  warnings.warn(\n",
      "c:\\Users\\west7\\anaconda3\\envs\\xeus-python\\lib\\site-packages\\sklearn\\svm\\_base.py:1206: ConvergenceWarning: Liblinear failed to converge, increase the number of iterations.\n",
      "  warnings.warn(\n",
      "c:\\Users\\west7\\anaconda3\\envs\\xeus-python\\lib\\site-packages\\sklearn\\svm\\_base.py:1206: ConvergenceWarning: Liblinear failed to converge, increase the number of iterations.\n",
      "  warnings.warn(\n",
      "c:\\Users\\west7\\anaconda3\\envs\\xeus-python\\lib\\site-packages\\sklearn\\svm\\_base.py:1206: ConvergenceWarning: Liblinear failed to converge, increase the number of iterations.\n",
      "  warnings.warn(\n",
      "c:\\Users\\west7\\anaconda3\\envs\\xeus-python\\lib\\site-packages\\sklearn\\svm\\_base.py:1206: ConvergenceWarning: Liblinear failed to converge, increase the number of iterations.\n",
      "  warnings.warn(\n",
      "c:\\Users\\west7\\anaconda3\\envs\\xeus-python\\lib\\site-packages\\sklearn\\svm\\_base.py:1206: ConvergenceWarning: Liblinear failed to converge, increase the number of iterations.\n",
      "  warnings.warn(\n",
      "c:\\Users\\west7\\anaconda3\\envs\\xeus-python\\lib\\site-packages\\sklearn\\svm\\_base.py:1206: ConvergenceWarning: Liblinear failed to converge, increase the number of iterations.\n",
      "  warnings.warn(\n",
      "c:\\Users\\west7\\anaconda3\\envs\\xeus-python\\lib\\site-packages\\sklearn\\svm\\_base.py:1206: ConvergenceWarning: Liblinear failed to converge, increase the number of iterations.\n",
      "  warnings.warn(\n",
      "c:\\Users\\west7\\anaconda3\\envs\\xeus-python\\lib\\site-packages\\sklearn\\svm\\_base.py:1206: ConvergenceWarning: Liblinear failed to converge, increase the number of iterations.\n",
      "  warnings.warn(\n",
      "c:\\Users\\west7\\anaconda3\\envs\\xeus-python\\lib\\site-packages\\sklearn\\svm\\_base.py:1206: ConvergenceWarning: Liblinear failed to converge, increase the number of iterations.\n",
      "  warnings.warn(\n",
      "c:\\Users\\west7\\anaconda3\\envs\\xeus-python\\lib\\site-packages\\sklearn\\svm\\_base.py:1206: ConvergenceWarning: Liblinear failed to converge, increase the number of iterations.\n",
      "  warnings.warn(\n",
      "c:\\Users\\west7\\anaconda3\\envs\\xeus-python\\lib\\site-packages\\sklearn\\svm\\_base.py:1206: ConvergenceWarning: Liblinear failed to converge, increase the number of iterations.\n",
      "  warnings.warn(\n",
      "c:\\Users\\west7\\anaconda3\\envs\\xeus-python\\lib\\site-packages\\sklearn\\svm\\_base.py:1206: ConvergenceWarning: Liblinear failed to converge, increase the number of iterations.\n",
      "  warnings.warn(\n",
      "c:\\Users\\west7\\anaconda3\\envs\\xeus-python\\lib\\site-packages\\sklearn\\svm\\_base.py:1206: ConvergenceWarning: Liblinear failed to converge, increase the number of iterations.\n",
      "  warnings.warn(\n",
      "c:\\Users\\west7\\anaconda3\\envs\\xeus-python\\lib\\site-packages\\sklearn\\svm\\_base.py:1206: ConvergenceWarning: Liblinear failed to converge, increase the number of iterations.\n",
      "  warnings.warn(\n",
      "c:\\Users\\west7\\anaconda3\\envs\\xeus-python\\lib\\site-packages\\sklearn\\svm\\_base.py:1206: ConvergenceWarning: Liblinear failed to converge, increase the number of iterations.\n",
      "  warnings.warn(\n"
     ]
    },
    {
     "data": {
      "image/png": "[encoded data removed]",
      "text/plain": [
       "<Figure size 432x288 with 1 Axes>"
      ]
     },
     "metadata": {},
     "output_type": "display_data"
    }
   ],
   "source": [
    "# Cの決定\n",
    "temp_accuracy_dict = {}\n",
    "\n",
    "for i in range(-5, 6, 1):\n",
    "    _, accuracy_svm = linear_svc(10**i, analysis_data_df, data_label)\n",
    "    temp_accuracy_dict[i] = accuracy_svm\n",
    "\n",
    "temp_accuracy_list = temp_accuracy_dict.items()\n",
    "x, y = zip(*temp_accuracy_list)\n",
    "\n",
    "plt.plot(x, y, marker='o', markersize=5)\n",
    "plt.xlabel('C(10**i)')\n",
    "plt.ylabel('Accuracy')\n",
    "plt.show()"
   ]
  },
  {
   "cell_type": "code",
   "execution_count": 160,
   "metadata": {},
   "outputs": [
    {
     "name": "stderr",
     "output_type": "stream",
     "text": [
      "c:\\Users\\west7\\anaconda3\\envs\\xeus-python\\lib\\site-packages\\sklearn\\svm\\_base.py:1206: ConvergenceWarning: Liblinear failed to converge, increase the number of iterations.\n",
      "  warnings.warn(\n",
      "c:\\Users\\west7\\anaconda3\\envs\\xeus-python\\lib\\site-packages\\sklearn\\svm\\_base.py:1206: ConvergenceWarning: Liblinear failed to converge, increase the number of iterations.\n",
      "  warnings.warn(\n",
      "c:\\Users\\west7\\anaconda3\\envs\\xeus-python\\lib\\site-packages\\sklearn\\svm\\_base.py:1206: ConvergenceWarning: Liblinear failed to converge, increase the number of iterations.\n",
      "  warnings.warn(\n",
      "c:\\Users\\west7\\anaconda3\\envs\\xeus-python\\lib\\site-packages\\sklearn\\svm\\_base.py:1206: ConvergenceWarning: Liblinear failed to converge, increase the number of iterations.\n",
      "  warnings.warn(\n",
      "c:\\Users\\west7\\anaconda3\\envs\\xeus-python\\lib\\site-packages\\sklearn\\svm\\_base.py:1206: ConvergenceWarning: Liblinear failed to converge, increase the number of iterations.\n",
      "  warnings.warn(\n"
     ]
    },
    {
     "name": "stdout",
     "output_type": "stream",
     "text": [
      "Accuracy: 0.472\n"
     ]
    }
   ],
   "source": [
    "cm_linear_svc, accuracy_linear_svc = linear_svc(100, analysis_data_df, data_label)\n",
    "print('Accuracy:', accuracy_linear_svc)"
   ]
  },
  {
   "cell_type": "code",
   "execution_count": 161,
   "metadata": {},
   "outputs": [
    {
     "data": {
      "text/plain": [
       "<AxesSubplot:>"
      ]
     },
     "execution_count": 161,
     "metadata": {},
     "output_type": "execute_result"
    },
    {
     "data": {
      "image/png": "[encoded data removed]",
      "text/plain": [
       "<Figure size 432x288 with 2 Axes>"
      ]
     },
     "metadata": {},
     "output_type": "display_data"
    }
   ],
   "source": [
    "sns.set(font_scale=1.5)\n",
    "sns.heatmap(cm_linear_svc, annot=True, cmap='Blues', linecolor='black', linewidths=1.5)"
   ]
  },
  {
   "attachments": {},
   "cell_type": "markdown",
   "metadata": {},
   "source": [
    "## 学習データでの予測"
   ]
  },
  {
   "cell_type": "code",
   "execution_count": 100,
   "metadata": {},
   "outputs": [],
   "source": [
    "def train_linear_svc(C, data_df, label):\n",
    "    # SVM処理\n",
    "    # 特徴量とラベルの分割\n",
    "    X = data_df\n",
    "    X.columns = [str(i) for i in data_df.columns]\n",
    "    y = label\n",
    "\n",
    "    svm_model = LinearSVC(C=C, max_iter=5000)\n",
    "    svm_model.fit(X, y)\n",
    "    y_pred = svm_model.predict(X)\n",
    "\n",
    "    cm = confusion_matrix(y, y_pred)\n",
    "    # 正解率\n",
    "    Accuracy = accuracy_score(y, y_pred)\n",
    "\n",
    "    return cm, Accuracy"
   ]
  },
  {
   "cell_type": "code",
   "execution_count": 109,
   "metadata": {},
   "outputs": [
    {
     "name": "stdout",
     "output_type": "stream",
     "text": [
      "Accuracy: 0.4\n"
     ]
    },
    {
     "name": "stderr",
     "output_type": "stream",
     "text": [
      "c:\\Users\\west7\\anaconda3\\envs\\xeus-python\\lib\\site-packages\\sklearn\\svm\\_base.py:1206: ConvergenceWarning: Liblinear failed to converge, increase the number of iterations.\n",
      "  warnings.warn(\n"
     ]
    }
   ],
   "source": [
    "train_cm_linear_svc, train_accuracy_linear_svc = train_linear_svc(0.1, analysis_data_df, data_label)\n",
    "print('Accuracy:', train_accuracy_linear_svc)"
   ]
  },
  {
   "cell_type": "code",
   "execution_count": 110,
   "metadata": {},
   "outputs": [
    {
     "data": {
      "text/plain": [
       "<AxesSubplot:>"
      ]
     },
     "execution_count": 110,
     "metadata": {},
     "output_type": "execute_result"
    },
    {
     "data": {
      "image/png": "[encoded data removed]",
      "text/plain": [
       "<Figure size 432x288 with 2 Axes>"
      ]
     },
     "metadata": {},
     "output_type": "display_data"
    }
   ],
   "source": [
    "sns.set(font_scale=1.5)\n",
    "sns.heatmap(train_cm_linear_svc, annot=True, cmap='Blues', linecolor='black', linewidths=1.5)"
   ]
  },
  {
   "attachments": {},
   "cell_type": "markdown",
   "metadata": {},
   "source": [
    "# Perceptron"
   ]
  },
  {
   "attachments": {},
   "cell_type": "markdown",
   "metadata": {},
   "source": [
    "## クロスバリデーションでの予測"
   ]
  },
  {
   "cell_type": "code",
   "execution_count": 103,
   "metadata": {},
   "outputs": [],
   "source": [
    "def perceptron(data_df, label):\n",
    "    # SVM処理\n",
    "    # 特徴量とラベルの分割\n",
    "    X = data_df\n",
    "    X.columns = [str(i) for i in data_df.columns]\n",
    "    y = label\n",
    "    oof = np.zeros(len(y))\n",
    "\n",
    "    kf = KFold(n_splits=5, shuffle=True, random_state=1234)\n",
    "    for train_idx, val_idx in kf.split(X):\n",
    "        train_x, val_x = X.iloc[train_idx], X.iloc[val_idx]\n",
    "        train_y, val_y = y.iloc[train_idx], y.iloc[val_idx]\n",
    "\n",
    "        per_model = Perceptron()\n",
    "        per_model.fit(train_x, train_y)\n",
    "        y_pred = per_model.predict(val_x)\n",
    "        oof[val_idx] = y_pred\n",
    "\n",
    "    cm = confusion_matrix(y, oof)\n",
    "    # 正解率\n",
    "    Accuracy = accuracy_score(y, oof)\n",
    "\n",
    "    return cm, Accuracy"
   ]
  },
  {
   "cell_type": "code",
   "execution_count": 104,
   "metadata": {},
   "outputs": [
    {
     "name": "stdout",
     "output_type": "stream",
     "text": [
      "Accuracy: 0.224\n"
     ]
    }
   ],
   "source": [
    "cm_per, accuracy_per = perceptron(analysis_data_df, data_label)\n",
    "print('Accuracy:', accuracy_per)"
   ]
  },
  {
   "cell_type": "code",
   "execution_count": 105,
   "metadata": {},
   "outputs": [
    {
     "data": {
      "text/plain": [
       "<AxesSubplot:>"
      ]
     },
     "execution_count": 105,
     "metadata": {},
     "output_type": "execute_result"
    },
    {
     "data": {
      "image/png": "[encoded data removed]",
      "text/plain": [
       "<Figure size 432x288 with 2 Axes>"
      ]
     },
     "metadata": {},
     "output_type": "display_data"
    }
   ],
   "source": [
    "sns.set(font_scale=1.5)\n",
    "sns.heatmap(cm_per, annot=True, cmap='Blues', linecolor='black', linewidths=1.5)"
   ]
  },
  {
   "attachments": {},
   "cell_type": "markdown",
   "metadata": {},
   "source": [
    "# Logistic Regression"
   ]
  },
  {
   "cell_type": "code",
   "execution_count": 106,
   "metadata": {},
   "outputs": [],
   "source": [
    "def logistic(data_df, label):\n",
    "    # 特徴量とラベルの分割\n",
    "    X = data_df\n",
    "    X.columns = [str(i) for i in data_df.columns]\n",
    "    y = label\n",
    "    oof = np.zeros(len(y))\n",
    "\n",
    "    kf = KFold(n_splits=5, shuffle=True, random_state=1234)\n",
    "    for train_idx, val_idx in kf.split(X):\n",
    "        train_x, val_x = X.iloc[train_idx], X.iloc[val_idx]\n",
    "        train_y, val_y = y.iloc[train_idx], y.iloc[val_idx]\n",
    "\n",
    "        log_model = LogisticRegression()\n",
    "        log_model.fit(train_x, train_y)\n",
    "        y_pred = log_model.predict(val_x)\n",
    "        oof[val_idx] = y_pred\n",
    "\n",
    "    cm = confusion_matrix(y, oof)\n",
    "    # 正解率\n",
    "    Accuracy = accuracy_score(y, oof)\n",
    "\n",
    "    return cm, Accuracy"
   ]
  },
  {
   "cell_type": "code",
   "execution_count": 107,
   "metadata": {},
   "outputs": [
    {
     "name": "stdout",
     "output_type": "stream",
     "text": [
      "Accuracy: 0.224\n"
     ]
    }
   ],
   "source": [
    "cm_log, accuracy_log = perceptron(analysis_data_df, data_label)\n",
    "print('Accuracy:', accuracy_log)"
   ]
  },
  {
   "cell_type": "code",
   "execution_count": 108,
   "metadata": {},
   "outputs": [
    {
     "data": {
      "text/plain": [
       "<AxesSubplot:>"
      ]
     },
     "execution_count": 108,
     "metadata": {},
     "output_type": "execute_result"
    },
    {
     "data": {
      "image/png": "[encoded data removed]",
      "text/plain": [
       "<Figure size 432x288 with 2 Axes>"
      ]
     },
     "metadata": {},
     "output_type": "display_data"
    }
   ],
   "source": [
    "sns.set(font_scale=1.5)\n",
    "sns.heatmap(cm_log, annot=True, cmap='Blues', linecolor='black', linewidths=1.5)"
   ]
  },
  {
   "attachments": {},
   "cell_type": "markdown",
   "metadata": {},
   "source": [
    "# LDA"
   ]
  },
  {
   "cell_type": "code",
   "execution_count": 27,
   "metadata": {},
   "outputs": [],
   "source": [
    "# label_list = ['CH3:COOH=1:0', 'CH3:COOH=3:1', 'CH3:COOH=1:1', 'CH3:COOH=1:3', 'CH3:COOH=0:1']\n",
    "# label_list = ['CH3:OH=1:0', 'CH3:OH=3:1', 'CH3:OH=1:1', 'CH3:OH=1:3', 'CH3:OH=0:1']\n",
    "# label_list = ['CH3:NH2=1:0', 'CH3:NH2=3:1', 'CH3:NH2=1:1', 'CH3:NH2=1:3', 'CH3:NH2=0:1']\n",
    "label_list = ['CH3:COOH=1:0', 'CH3:COOH=3:1', 'CH3:COOH=1:1', 'CH3:COOH=1:3', 'CH3:COOH=0:1',\n",
    "              'CH3:OH=3:1', 'CH3:OH=1:1', 'CH3:OH=1:3', 'CH3:OH=0:1',\n",
    "              'CH3:NH2=3:1', 'CH3:NH2=1:1', 'CH3:NH2=1:3', 'CH3:NH2=0:1']\n",
    "\n",
    "# データフレームの読み込み\n",
    "dataframe_path = r'.\\input\\dataframe\\\\'\n",
    "# excelファイルの保存先のパス\n",
    "output_path = r'.\\output\\\\'\n",
    "\n",
    "dataframe_title = 'CH3_COOH_NH2_standard_df'\n",
    "test_dataframe_title = 'CH3_COOH_OH_NH2_standard_df'\n",
    "data_df = pd.read_pickle(dataframe_path + dataframe_title + '.pkl')\n",
    "test_data_df = pd.read_pickle(dataframe_path + test_dataframe_title + '.pkl')\n",
    "\n",
    "# 特徴量とラベルの分離\n",
    "data_label = data_df['label']\n",
    "test_data_label = test_data_df['label']\n",
    "data_df = data_df.drop('label', axis=1)\n",
    "test_data_df = test_data_df.drop('label', axis=1)"
   ]
  },
  {
   "cell_type": "code",
   "execution_count": 28,
   "metadata": {},
   "outputs": [],
   "source": [
    "def lda_2D_plot(df, df_label, test_df):\n",
    "    lda = LDA(n_components=2)\n",
    "    X_r2 = lda.fit(df, df_label).transform(test_df)\n",
    "\n",
    "    color_list = ['red', 'orange', 'green', 'blue', 'purple', 'cyan', 'gold', 'grey', 'black', 'lime', 'navy', 'pink', 'brown']\n",
    "\n",
    "    # Percentage of variance explained for each components\n",
    "    print('explained variance ratio (first two components): %s' % str(lda.explained_variance_ratio_))\n",
    "\n",
    "    for i in range(np.unique(test_data_label).size):\n",
    "        plt.scatter(X_r2[test_data_label == i, 0], X_r2[test_data_label == i, 1],\n",
    "        c=color_list[i], label=label_list[i])\n",
    "\n",
    "    # ldaの結果をデータフレーム化\n",
    "    lda_result_df = pd.DataFrame(X_r2)\n",
    "    lda_result_df.columns = ['LDA1', 'LDA2']\n",
    "    lda_result_df['label'] = test_data_label.values\n",
    "\n",
    "    # 重みベクトルの取得\n",
    "    # lda_weight_vec_df = pd.DataFrame(lda.coef_, columns=data_df.columns, index=label_list)\n",
    "\n",
    "    plt.xlabel('LDA1')\n",
    "    plt.ylabel('LDA2')\n",
    "    plt.legend(loc='best')\n",
    "    plt.show()\n",
    "\n",
    "    return lda_result_df"
   ]
  },
  {
   "cell_type": "code",
   "execution_count": 29,
   "metadata": {},
   "outputs": [
    {
     "name": "stderr",
     "output_type": "stream",
     "text": [
      "c:\\Users\\west7\\anaconda3\\envs\\xeus-python\\lib\\site-packages\\sklearn\\utils\\validation.py:1688: FutureWarning: Feature names only support names that are all strings. Got feature names with dtypes: ['float']. An error will be raised in 1.2.\n",
      "  warnings.warn(\n",
      "c:\\Users\\west7\\anaconda3\\envs\\xeus-python\\lib\\site-packages\\sklearn\\utils\\validation.py:1688: FutureWarning: Feature names only support names that are all strings. Got feature names with dtypes: ['float']. An error will be raised in 1.2.\n",
      "  warnings.warn(\n"
     ]
    },
    {
     "name": "stdout",
     "output_type": "stream",
     "text": [
      "explained variance ratio (first two components): [0.68334055 0.26513247]\n"
     ]
    },
    {
     "data": {
      "image/png": "[encoded data removed]",
      "text/plain": [
       "<Figure size 432x288 with 1 Axes>"
      ]
     },
     "metadata": {
      "needs_background": "light"
     },
     "output_type": "display_data"
    }
   ],
   "source": [
    "standard_lda_result_df = lda_2D_plot(data_df, data_label, test_data_df)"
   ]
  },
  {
   "cell_type": "code",
   "execution_count": 30,
   "metadata": {},
   "outputs": [],
   "source": [
    "graph_title = 'standard_lda_result_OH'\n",
    "standard_lda_result_df.to_excel(output_path + graph_title + '.xlsx', index=False)"
   ]
  },
  {
   "cell_type": "code",
   "execution_count": null,
   "metadata": {},
   "outputs": [],
   "source": []
  }
 ],
 "metadata": {
  "kernelspec": {
   "display_name": "For_study",
   "language": "python",
   "name": "python3"
  },
  "language_info": {
   "codemirror_mode": {
    "name": "ipython",
    "version": 3
   },
   "file_extension": ".py",
   "mimetype": "text/x-python",
   "name": "python",
   "nbconvert_exporter": "python",
   "pygments_lexer": "ipython3",
   "version": "3.9.4"
  },
  "orig_nbformat": 4
 },
 "nbformat": 4,
 "nbformat_minor": 2
}
