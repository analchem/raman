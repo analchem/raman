{
 "cells": [
  {
   "cell_type": "code",
   "execution_count": null,
   "metadata": {},
   "outputs": [],
   "source": [
    "import re\n",
    "import numpy as np\n",
    "import pandas as pd\n",
    "import glob\n",
    "import seaborn as sns\n",
    "import matplotlib.pyplot as plt\n",
    "import japanize_matplotlib\n",
    "%matplotlib inline\n",
    "\n",
    "from sklearn.preprocessing import MinMaxScaler\n",
    "from sklearn.preprocessing import StandardScaler\n",
    "from sklearn.linear_model import Perceptron\n",
    "from sklearn.linear_model import LogisiticRegression\n",
    "from sklearn.discriminant_analysis import LinearDiscriminantAnalysis as LDA\n",
    "from sklearn.svm import LinearSVC\n",
    "from sklearn.metrics import accuracy_score\n",
    "from sklearn.metrics import confusion_matrix\n",
    "from sklearn.model_selection import KFold\n",
    "from sklearn.model_selection import GridSearchCV\n",
    "\n",
    "import openpyxl\n",
    "from openpyxl.drawing.line import LineProperties\n",
    "from openpyxl.chart.shapes import GraphicalProperties\n",
    "from openpyxl.chart.text import RichText\n",
    "from openpyxl.drawing.text import Paragraph, ParagraphProperties, CharacterProperties, Font"
   ]
  },
  {
   "cell_type": "code",
   "execution_count": null,
   "metadata": {},
   "outputs": [],
   "source": [
    "# 各フォルダの読み込み\n",
    "folder_list = glob.glob(r'.\\input\\spectra_data\\*')\n",
    "\n",
    "# データの区切りを指定（タブ：'\\t', コンマ：',', セミコロン：';'）\n",
    "sep = '[,;\\t]'\n",
    "\n",
    "# excelファイルの保存先のパス\n",
    "output_path = r'.\\output\\\\'"
   ]
  },
  {
   "cell_type": "code",
   "execution_count": null,
   "metadata": {},
   "outputs": [],
   "source": [
    "label_list = ['CH3:COOH=1:0', 'CH3:COOH=3:1', 'CH3:COOH=1:1', 'CH3:COOH=1:3', 'CH3:COOH=0:1']\n",
    "# label_list = ['CH3:OH=1:0', 'CH3:OH=3:1', 'CH3:OH=1:1', 'CH3:OH=1:3', 'CH3:OH=0:1']\n",
    "# label_list = ['CH3:NH2=1:0', 'CH3:NH2=3:1', 'CH3:NH2=1:1', 'CH3:NH2=1:3', 'CH3:NH2=0:1']\n",
    "# label_list = ['CH3:COOH=0:1', 'CH3:COOH=1:3', 'CH3:COOH=1:1', 'CH3:COOH=3:1', 'CH3:COOH=1:0', 'CH3:NH2=3:1', 'CH3:NH2=1:1', 'CH3:NH2=1:3', 'CH3:NH2=0:1']\n",
    "\n",
    "# データフレームの読み込み\n",
    "dataframe_path = r'.\\input\\dataframe\\\\'\n",
    "# excelファイルの保存先のパス\n",
    "output_path = r'.\\output\\\\'\n",
    "\n",
    "dataframe_title = 'P50_CH3_COOH_df'\n",
    "\n",
    "data_df = pd.read_excel(dataframe_path + dataframe_title + '.xlsx')\n",
    "data_df.head()"
   ]
  },
  {
   "cell_type": "code",
   "execution_count": null,
   "metadata": {},
   "outputs": [],
   "source": [
    "data_df = pd.read_pickle(dataframe_path + dataframe_title + '.pkl')\n",
    "data_df.head()"
   ]
  },
  {
   "attachments": {},
   "cell_type": "markdown",
   "metadata": {},
   "source": [
    "# Linear SVC"
   ]
  },
  {
   "attachments": {},
   "cell_type": "markdown",
   "metadata": {},
   "source": [
    "## クロスバリデーションでの予測"
   ]
  },
  {
   "cell_type": "code",
   "execution_count": null,
   "metadata": {},
   "outputs": [],
   "source": [
    "# kernel:rbf(ガウス関数) その他：linear(線形回帰)、poly(多項式展開)、sigmoidなどがある\n",
    "def linear_svc(C, data_df, label):\n",
    "    # SVM処理\n",
    "    # 特徴量とラベルの分割\n",
    "    X = data_df\n",
    "    X.columns = [str(i) for i in data_df.columns]\n",
    "    y = label\n",
    "    oof = np.zeros(len(y))\n",
    "\n",
    "    kf = KFold(n_splits=5, shuffle=True, random_state=1234)\n",
    "    for train_idx, val_idx in kf.split(X):\n",
    "        train_x, val_x = X.iloc[train_idx], X.iloc[val_idx]\n",
    "        train_y, val_y = y.iloc[train_idx], y.iloc[val_idx]\n",
    "\n",
    "        svm_model = LinearSVC(C=C)\n",
    "        svm_model.fit(train_x, train_y)\n",
    "        y_pred = svm_model.predict(val_x)\n",
    "        oof[val_idx] = y_pred\n",
    "\n",
    "    cm = confusion_matrix(y, oof)\n",
    "    # 正解率\n",
    "    Accuracy = accuracy_score(y, oof)\n",
    "\n",
    "    return cm, Accuracy"
   ]
  },
  {
   "cell_type": "code",
   "execution_count": null,
   "metadata": {},
   "outputs": [],
   "source": [
    "# Cの決定\n",
    "temp_accuracy_dict = {}\n",
    "\n",
    "for i in range(-5, 6, 1):\n",
    "    _, accuracy_svm = linear_svc(10**i, data_df, data_label)\n",
    "    temp_accuracy_dict[i] = accuracy_svm\n",
    "\n",
    "temp_accuracy_list = temp_accuracy_dict.items()\n",
    "x, y = zip(*temp_accuracy_list)\n",
    "\n",
    "plt.plot(x, y, marker='o', markersize=5)\n",
    "plt.xlabel('C(10**i)')\n",
    "plt.ylabel('Accuracy')\n",
    "plt.show()"
   ]
  },
  {
   "cell_type": "code",
   "execution_count": null,
   "metadata": {},
   "outputs": [],
   "source": [
    "cm_linear_svc, accuracy_linear_svc = linear_svc(1, data_df, data_label)\n",
    "print('Accuracy:', accuracy_linear_svc)"
   ]
  },
  {
   "cell_type": "code",
   "execution_count": null,
   "metadata": {},
   "outputs": [],
   "source": [
    "sns.set(font_scale=1.5)\n",
    "sns.heatmap(cm_linear_svc, annot=True, cmap='Blues', linecolor='black', linewidths=1.5)"
   ]
  },
  {
   "attachments": {},
   "cell_type": "markdown",
   "metadata": {},
   "source": [
    "## 学習データでの予測"
   ]
  },
  {
   "cell_type": "code",
   "execution_count": null,
   "metadata": {},
   "outputs": [],
   "source": [
    "def train_linear_svc(C, data_df, label):\n",
    "    # SVM処理\n",
    "    # 特徴量とラベルの分割\n",
    "    X = data_df\n",
    "    X.columns = [str(i) for i in data_df.columns]\n",
    "    y = label\n",
    "\n",
    "    svm_model = LinearSVC(C=C)\n",
    "    svm_model.fit(X, y)\n",
    "    y_pred = svm_model.predict(X)\n",
    "\n",
    "    cm = confusion_matrix(y, y_pred)\n",
    "    # 正解率\n",
    "    Accuracy = accuracy_score(y, y_pred)\n",
    "\n",
    "    return cm, Accuracy"
   ]
  },
  {
   "cell_type": "code",
   "execution_count": null,
   "metadata": {},
   "outputs": [],
   "source": [
    "train_cm_linear_svc, train_accuracy_linear_svc = train_linear_svc(100, data_df, data_label)\n",
    "print('Accuracy:', train_accuracy_linear_svc)"
   ]
  },
  {
   "cell_type": "code",
   "execution_count": null,
   "metadata": {},
   "outputs": [],
   "source": [
    "sns.set(font_scale=1.5)\n",
    "sns.heatmap(train_cm_linear_svc, annot=True, cmap='Blues', linecolor='black', linewidths=1.5)"
   ]
  },
  {
   "attachments": {},
   "cell_type": "markdown",
   "metadata": {},
   "source": [
    "# Perceptron"
   ]
  },
  {
   "cell_type": "code",
   "execution_count": null,
   "metadata": {},
   "outputs": [],
   "source": []
  },
  {
   "attachments": {},
   "cell_type": "markdown",
   "metadata": {},
   "source": [
    "# Logistic Regression"
   ]
  },
  {
   "cell_type": "code",
   "execution_count": null,
   "metadata": {},
   "outputs": [],
   "source": []
  },
  {
   "attachments": {},
   "cell_type": "markdown",
   "metadata": {},
   "source": [
    "# LDA"
   ]
  },
  {
   "cell_type": "code",
   "execution_count": null,
   "metadata": {},
   "outputs": [],
   "source": []
  }
 ],
 "metadata": {
  "language_info": {
   "name": "python"
  },
  "orig_nbformat": 4
 },
 "nbformat": 4,
 "nbformat_minor": 2
}
