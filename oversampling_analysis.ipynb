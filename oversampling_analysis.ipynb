{
 "cells": [
  {
   "attachments": {},
   "cell_type": "markdown",
   "metadata": {},
   "source": [
    "# 標準ライブラリのインポート"
   ]
  },
  {
   "cell_type": "code",
   "execution_count": 1,
   "metadata": {},
   "outputs": [],
   "source": [
    "\n",
    "import re\n",
    "import random\n",
    "import numpy as np\n",
    "import pandas as pd\n",
    "import glob\n",
    "import seaborn as sns\n",
    "import matplotlib.pyplot as plt\n",
    "import japanize_matplotlib\n",
    "%matplotlib inline\n",
    "\n",
    "from imblearn.over_sampling import SMOTE\n",
    "import shap\n",
    "\n",
    "from sklearn.preprocessing import MinMaxScaler\n",
    "from sklearn.preprocessing import StandardScaler\n",
    "from sklearn.decomposition import PCA\n",
    "from sklearn.discriminant_analysis import LinearDiscriminantAnalysis as LDA\n",
    "from sklearn.manifold import TSNE\n",
    "from sklearn.neural_network import MLPClassifier\n",
    "from sklearn.tree import DecisionTreeClassifier\n",
    "from sklearn.model_selection import KFold\n",
    "from sklearn.svm import LinearSVC\n",
    "from sklearn.svm import SVC\n",
    "from sklearn.metrics import accuracy_score\n",
    "from sklearn.metrics import confusion_matrix\n",
    "from sklearn.model_selection import GridSearchCV\n",
    "from sklearn.inspection import permutation_importance\n",
    "\n",
    "import openpyxl\n",
    "from openpyxl.drawing.line import LineProperties\n",
    "from openpyxl.chart.shapes import GraphicalProperties\n",
    "from openpyxl.chart.text import RichText\n",
    "from openpyxl.drawing.text import Paragraph, ParagraphProperties, CharacterProperties, Font"
   ]
  },
  {
   "attachments": {},
   "cell_type": "markdown",
   "metadata": {},
   "source": [
    "# データの読み込み"
   ]
  },
  {
   "attachments": {},
   "cell_type": "markdown",
   "metadata": {},
   "source": [
    "## 正規化データ"
   ]
  },
  {
   "cell_type": "code",
   "execution_count": 2,
   "metadata": {},
   "outputs": [],
   "source": [
    "label_list = ['CH3:COOH=1:0', 'CH3:COOH=3:1', 'CH3:COOH=1:1', 'CH3:COOH=1:3', 'CH3:COOH=0:1']\n",
    "# label_list = ['CH3:OH=1:0', 'CH3:OH=3:1', 'CH3:OH=1:1', 'CH3:OH=1:3', 'CH3:OH=0:1']\n",
    "# label_list = ['CH3:NH2=1:0', 'CH3:NH2=3:1', 'CH3:NH2=1:1', 'CH3:NH2=1:3', 'CH3:NH2=0:1']\n",
    "# label_list = ['CH3:COOH=0:1', 'CH3:COOH=1:3', 'CH3:COOH=1:1', 'CH3:COOH=3:1', 'CH3:COOH=1:0', 'CH3:NH2=3:1', 'CH3:NH2=1:1', 'CH3:NH2=1:3', 'CH3:NH2=0:1']\n",
    "\n",
    "# データフレームの読み込み\n",
    "dataframe_path = r'.\\input\\dataframe\\\\'\n",
    "# excelファイルの保存先のパス\n",
    "output_path = r'.\\output\\\\'\n",
    "# 各フォルダの読み込み\n",
    "folder_list = glob.glob(r'.\\input\\spectra_data\\*')\n",
    "# データの区切りを指定（タブ：'\\t', コンマ：',', セミコロン：';'）\n",
    "sep = '[,;\\t]'"
   ]
  },
  {
   "attachments": {},
   "cell_type": "markdown",
   "metadata": {},
   "source": [
    "# csvファイルからの読み込み"
   ]
  },
  {
   "cell_type": "code",
   "execution_count": 3,
   "metadata": {},
   "outputs": [],
   "source": [
    "file_dic = {}\n",
    "for n, folder in enumerate(folder_list):\n",
    "    file_dic[f'data_{n+1}'] = glob.glob(folder + '\\*')\n",
    "\n",
    "df_list = []\n",
    "\n",
    "for folder in file_dic:\n",
    "    # フォルダ内にファイルがある場合\n",
    "    if len(file_dic[folder]) > 0:\n",
    "        # 各種データ保存用のディクショナリを作成\n",
    "        data_dic = {}\n",
    "\n",
    "        # テクストファイルの読み込み\n",
    "        for file in file_dic[folder]:\n",
    "            # ファイル名の切り取り\n",
    "            file_name = re.split('[\\\\\\\\.]', file)[5]\n",
    "\n",
    "            # 一時保存用リストの作成\n",
    "            temp_list = []\n",
    "\n",
    "            # スペクトルデータの読み込み\n",
    "            with open(file, encoding='utf-8') as f:\n",
    "                for row in f:\n",
    "                    row = row.strip()\n",
    "                    temp_list.append(re.split(sep, row))\n",
    "            temp_list = temp_list[31:870]\n",
    "\n",
    "            # ディクショナリへデータの格納\n",
    "            data_dic[file_name] = temp_list\n",
    "\n",
    "        # 空のデータフレームを作成\n",
    "        df = pd.DataFrame()\n",
    "\n",
    "        # フォルダ内データをデータフレームに追加\n",
    "        for key in data_dic:\n",
    "            intensity_list = []\n",
    "            wave_list = []\n",
    "\n",
    "            for n in range(len(data_dic[key])):\n",
    "                intensity_list.append(data_dic[key][n][3])\n",
    "\n",
    "            for n in range(len(data_dic[key])):\n",
    "                wave_list.append(data_dic[key][n][0])\n",
    "\n",
    "            df['Raman Shift'] = wave_list\n",
    "            df[key] = intensity_list\n",
    "\n",
    "        df = df.astype(float)\n",
    "        df = df.sort_values(by=['Raman Shift'], ascending=True).reset_index(drop=True)\n",
    "\n",
    "        df_list.append(df)\n",
    "\n",
    "    else:\n",
    "        break"
   ]
  },
  {
   "attachments": {},
   "cell_type": "markdown",
   "metadata": {},
   "source": [
    "# スペクトルの標準化＆データフレーム作成"
   ]
  },
  {
   "cell_type": "code",
   "execution_count": 4,
   "metadata": {},
   "outputs": [],
   "source": [
    "standard_df_list = []\n",
    "\n",
    "# スペクトルを波数方向に標準化\n",
    "for df in df_list:\n",
    "    yaxis_list = [y for y in df.columns if not 'Raman Shift' in y]\n",
    "\n",
    "    scaler = StandardScaler()\n",
    "    series = scaler.fit_transform(df[yaxis_list])\n",
    "    standard_df = pd.DataFrame(series)\n",
    "    standard_df.columns = yaxis_list\n",
    "    standard_df.insert(0, 'Raman Shift', df['Raman Shift'])\n",
    "\n",
    "    standard_df_list.append(standard_df)\n",
    "\n",
    "RAMAN_SHIFT = df_list[0]['Raman Shift']\n",
    "RAMAN_SHIFT[\"label\"] = \"label\"\n",
    "\n",
    "# 解析用に形状変更\n",
    "for n, df in enumerate(standard_df_list):\n",
    "    df.loc[-1] = int(n)\n",
    "\n",
    "std_data_df = pd.concat(standard_df_list, axis=1)\n",
    "std_data_df = std_data_df.drop(['Raman Shift'], axis=1)\n",
    "std_data_df = std_data_df.T\n",
    "std_data_df.columns = RAMAN_SHIFT"
   ]
  },
  {
   "attachments": {},
   "cell_type": "markdown",
   "metadata": {},
   "source": [
    "# pklファイルからの読み込み"
   ]
  },
  {
   "cell_type": "code",
   "execution_count": 9,
   "metadata": {},
   "outputs": [
    {
     "data": {
      "text/html": [
       "<div>\n",
       "<style scoped>\n",
       "    .dataframe tbody tr th:only-of-type {\n",
       "        vertical-align: middle;\n",
       "    }\n",
       "\n",
       "    .dataframe tbody tr th {\n",
       "        vertical-align: top;\n",
       "    }\n",
       "\n",
       "    .dataframe thead th {\n",
       "        text-align: right;\n",
       "    }\n",
       "</style>\n",
       "<table border=\"1\" class=\"dataframe\">\n",
       "  <thead>\n",
       "    <tr style=\"text-align: right;\">\n",
       "      <th>Raman Shift</th>\n",
       "      <th>201.192791188876</th>\n",
       "      <th>203.237476388369</th>\n",
       "      <th>205.281479548654</th>\n",
       "      <th>207.324801000766</th>\n",
       "      <th>209.367441075527</th>\n",
       "      <th>211.409400103543</th>\n",
       "      <th>213.450678415207</th>\n",
       "      <th>215.491276340697</th>\n",
       "      <th>217.53119420998</th>\n",
       "      <th>219.570432352812</th>\n",
       "      <th>...</th>\n",
       "      <th>1994.36035611163</th>\n",
       "      <th>1995.84667029798</th>\n",
       "      <th>1997.33255467823</th>\n",
       "      <th>1998.81800943131</th>\n",
       "      <th>2000.30303473604</th>\n",
       "      <th>2001.78763077115</th>\n",
       "      <th>2003.27179771526</th>\n",
       "      <th>2004.7555357469</th>\n",
       "      <th>2006.2388450445</th>\n",
       "      <th>label</th>\n",
       "    </tr>\n",
       "  </thead>\n",
       "  <tbody>\n",
       "    <tr>\n",
       "      <th>CH3-COOH_1-0_01</th>\n",
       "      <td>0.009167</td>\n",
       "      <td>0.015687</td>\n",
       "      <td>0.009611</td>\n",
       "      <td>0.008422</td>\n",
       "      <td>0.002401</td>\n",
       "      <td>0.006682</td>\n",
       "      <td>0.009849</td>\n",
       "      <td>0.014186</td>\n",
       "      <td>0.013298</td>\n",
       "      <td>0.015276</td>\n",
       "      <td>...</td>\n",
       "      <td>0.022375</td>\n",
       "      <td>0.021647</td>\n",
       "      <td>0.020201</td>\n",
       "      <td>0.020255</td>\n",
       "      <td>0.023505</td>\n",
       "      <td>0.021797</td>\n",
       "      <td>0.023807</td>\n",
       "      <td>0.022947</td>\n",
       "      <td>0.021759</td>\n",
       "      <td>0.0</td>\n",
       "    </tr>\n",
       "    <tr>\n",
       "      <th>CH3-COOH_1-0_02</th>\n",
       "      <td>0.014455</td>\n",
       "      <td>0.011535</td>\n",
       "      <td>0.009954</td>\n",
       "      <td>0.011833</td>\n",
       "      <td>0.012432</td>\n",
       "      <td>0.007859</td>\n",
       "      <td>0.015521</td>\n",
       "      <td>0.021124</td>\n",
       "      <td>0.014055</td>\n",
       "      <td>0.027501</td>\n",
       "      <td>...</td>\n",
       "      <td>0.032174</td>\n",
       "      <td>0.032943</td>\n",
       "      <td>0.031873</td>\n",
       "      <td>0.033845</td>\n",
       "      <td>0.034684</td>\n",
       "      <td>0.034886</td>\n",
       "      <td>0.035371</td>\n",
       "      <td>0.033591</td>\n",
       "      <td>0.034924</td>\n",
       "      <td>0.0</td>\n",
       "    </tr>\n",
       "    <tr>\n",
       "      <th>CH3-COOH_1-0_03</th>\n",
       "      <td>0.003706</td>\n",
       "      <td>0.003276</td>\n",
       "      <td>0.002901</td>\n",
       "      <td>0.001596</td>\n",
       "      <td>0.001950</td>\n",
       "      <td>0.007356</td>\n",
       "      <td>0.007082</td>\n",
       "      <td>0.014574</td>\n",
       "      <td>0.010710</td>\n",
       "      <td>0.014859</td>\n",
       "      <td>...</td>\n",
       "      <td>0.025391</td>\n",
       "      <td>0.027310</td>\n",
       "      <td>0.027440</td>\n",
       "      <td>0.026706</td>\n",
       "      <td>0.027451</td>\n",
       "      <td>0.025421</td>\n",
       "      <td>0.025981</td>\n",
       "      <td>0.025985</td>\n",
       "      <td>0.026236</td>\n",
       "      <td>0.0</td>\n",
       "    </tr>\n",
       "    <tr>\n",
       "      <th>CH3-COOH_1-0_04</th>\n",
       "      <td>0.012741</td>\n",
       "      <td>0.004619</td>\n",
       "      <td>0.007832</td>\n",
       "      <td>0.004834</td>\n",
       "      <td>0.004279</td>\n",
       "      <td>0.010822</td>\n",
       "      <td>0.007751</td>\n",
       "      <td>0.010226</td>\n",
       "      <td>0.009832</td>\n",
       "      <td>0.013910</td>\n",
       "      <td>...</td>\n",
       "      <td>0.021855</td>\n",
       "      <td>0.023413</td>\n",
       "      <td>0.023656</td>\n",
       "      <td>0.022050</td>\n",
       "      <td>0.022651</td>\n",
       "      <td>0.022595</td>\n",
       "      <td>0.022241</td>\n",
       "      <td>0.024333</td>\n",
       "      <td>0.024754</td>\n",
       "      <td>0.0</td>\n",
       "    </tr>\n",
       "    <tr>\n",
       "      <th>CH3-COOH_1-0_05</th>\n",
       "      <td>0.020207</td>\n",
       "      <td>0.015031</td>\n",
       "      <td>0.016544</td>\n",
       "      <td>0.023040</td>\n",
       "      <td>0.012281</td>\n",
       "      <td>0.013707</td>\n",
       "      <td>0.022644</td>\n",
       "      <td>0.019758</td>\n",
       "      <td>0.020718</td>\n",
       "      <td>0.023377</td>\n",
       "      <td>...</td>\n",
       "      <td>0.036726</td>\n",
       "      <td>0.036650</td>\n",
       "      <td>0.036573</td>\n",
       "      <td>0.036054</td>\n",
       "      <td>0.036355</td>\n",
       "      <td>0.038046</td>\n",
       "      <td>0.034999</td>\n",
       "      <td>0.035362</td>\n",
       "      <td>0.035726</td>\n",
       "      <td>0.0</td>\n",
       "    </tr>\n",
       "  </tbody>\n",
       "</table>\n",
       "<p>5 rows × 1038 columns</p>\n",
       "</div>"
      ],
      "text/plain": [
       "Raman Shift      201.192791188876  203.237476388369  205.281479548654  \\\n",
       "CH3-COOH_1-0_01          0.009167          0.015687          0.009611   \n",
       "CH3-COOH_1-0_02          0.014455          0.011535          0.009954   \n",
       "CH3-COOH_1-0_03          0.003706          0.003276          0.002901   \n",
       "CH3-COOH_1-0_04          0.012741          0.004619          0.007832   \n",
       "CH3-COOH_1-0_05          0.020207          0.015031          0.016544   \n",
       "\n",
       "Raman Shift      207.324801000766  209.367441075527  211.409400103543  \\\n",
       "CH3-COOH_1-0_01          0.008422          0.002401          0.006682   \n",
       "CH3-COOH_1-0_02          0.011833          0.012432          0.007859   \n",
       "CH3-COOH_1-0_03          0.001596          0.001950          0.007356   \n",
       "CH3-COOH_1-0_04          0.004834          0.004279          0.010822   \n",
       "CH3-COOH_1-0_05          0.023040          0.012281          0.013707   \n",
       "\n",
       "Raman Shift      213.450678415207  215.491276340697  217.53119420998  \\\n",
       "CH3-COOH_1-0_01          0.009849          0.014186         0.013298   \n",
       "CH3-COOH_1-0_02          0.015521          0.021124         0.014055   \n",
       "CH3-COOH_1-0_03          0.007082          0.014574         0.010710   \n",
       "CH3-COOH_1-0_04          0.007751          0.010226         0.009832   \n",
       "CH3-COOH_1-0_05          0.022644          0.019758         0.020718   \n",
       "\n",
       "Raman Shift      219.570432352812  ...  1994.36035611163  1995.84667029798  \\\n",
       "CH3-COOH_1-0_01          0.015276  ...          0.022375          0.021647   \n",
       "CH3-COOH_1-0_02          0.027501  ...          0.032174          0.032943   \n",
       "CH3-COOH_1-0_03          0.014859  ...          0.025391          0.027310   \n",
       "CH3-COOH_1-0_04          0.013910  ...          0.021855          0.023413   \n",
       "CH3-COOH_1-0_05          0.023377  ...          0.036726          0.036650   \n",
       "\n",
       "Raman Shift      1997.33255467823  1998.81800943131  2000.30303473604  \\\n",
       "CH3-COOH_1-0_01          0.020201          0.020255          0.023505   \n",
       "CH3-COOH_1-0_02          0.031873          0.033845          0.034684   \n",
       "CH3-COOH_1-0_03          0.027440          0.026706          0.027451   \n",
       "CH3-COOH_1-0_04          0.023656          0.022050          0.022651   \n",
       "CH3-COOH_1-0_05          0.036573          0.036054          0.036355   \n",
       "\n",
       "Raman Shift      2001.78763077115  2003.27179771526  2004.7555357469  \\\n",
       "CH3-COOH_1-0_01          0.021797          0.023807         0.022947   \n",
       "CH3-COOH_1-0_02          0.034886          0.035371         0.033591   \n",
       "CH3-COOH_1-0_03          0.025421          0.025981         0.025985   \n",
       "CH3-COOH_1-0_04          0.022595          0.022241         0.024333   \n",
       "CH3-COOH_1-0_05          0.038046          0.034999         0.035362   \n",
       "\n",
       "Raman Shift      2006.2388450445  label  \n",
       "CH3-COOH_1-0_01         0.021759    0.0  \n",
       "CH3-COOH_1-0_02         0.034924    0.0  \n",
       "CH3-COOH_1-0_03         0.026236    0.0  \n",
       "CH3-COOH_1-0_04         0.024754    0.0  \n",
       "CH3-COOH_1-0_05         0.035726    0.0  \n",
       "\n",
       "[5 rows x 1038 columns]"
      ]
     },
     "execution_count": 9,
     "metadata": {},
     "output_type": "execute_result"
    }
   ],
   "source": [
    "# ファイル名\n",
    "dataframe_title = 'CH3_COOH_scaled_df'\n",
    "\n",
    "# pickelファイルの読み込み\n",
    "norm_data_df = pd.read_pickle(dataframe_path + dataframe_title + '.pkl')\n",
    "# データフレームの表示\n",
    "norm_data_df.head()"
   ]
  },
  {
   "cell_type": "code",
   "execution_count": 10,
   "metadata": {},
   "outputs": [],
   "source": [
    "# 特徴量とラベルの分離\n",
    "norm_data_label = norm_data_df['label']\n",
    "norm_data_feature = norm_data_df.drop('label', axis=1)"
   ]
  },
  {
   "attachments": {},
   "cell_type": "markdown",
   "metadata": {},
   "source": [
    "# 各ラベルの平均スペクトル計算"
   ]
  },
  {
   "cell_type": "code",
   "execution_count": 53,
   "metadata": {},
   "outputs": [
    {
     "data": {
      "text/html": [
       "<div>\n",
       "<style scoped>\n",
       "    .dataframe tbody tr th:only-of-type {\n",
       "        vertical-align: middle;\n",
       "    }\n",
       "\n",
       "    .dataframe tbody tr th {\n",
       "        vertical-align: top;\n",
       "    }\n",
       "\n",
       "    .dataframe thead th {\n",
       "        text-align: right;\n",
       "    }\n",
       "</style>\n",
       "<table border=\"1\" class=\"dataframe\">\n",
       "  <thead>\n",
       "    <tr style=\"text-align: right;\">\n",
       "      <th>Raman Shift</th>\n",
       "      <th>199.147424</th>\n",
       "      <th>201.192791</th>\n",
       "      <th>203.237476</th>\n",
       "      <th>205.281480</th>\n",
       "      <th>207.324801</th>\n",
       "      <th>209.367441</th>\n",
       "      <th>211.409400</th>\n",
       "      <th>213.450678</th>\n",
       "      <th>215.491276</th>\n",
       "      <th>217.531194</th>\n",
       "      <th>...</th>\n",
       "      <th>1688.209250</th>\n",
       "      <th>1689.785261</th>\n",
       "      <th>1691.360804</th>\n",
       "      <th>1692.935879</th>\n",
       "      <th>1694.510488</th>\n",
       "      <th>1696.084629</th>\n",
       "      <th>1697.658304</th>\n",
       "      <th>1699.231512</th>\n",
       "      <th>1700.804253</th>\n",
       "      <th>1702.376528</th>\n",
       "    </tr>\n",
       "    <tr>\n",
       "      <th>label</th>\n",
       "      <th></th>\n",
       "      <th></th>\n",
       "      <th></th>\n",
       "      <th></th>\n",
       "      <th></th>\n",
       "      <th></th>\n",
       "      <th></th>\n",
       "      <th></th>\n",
       "      <th></th>\n",
       "      <th></th>\n",
       "      <th></th>\n",
       "      <th></th>\n",
       "      <th></th>\n",
       "      <th></th>\n",
       "      <th></th>\n",
       "      <th></th>\n",
       "      <th></th>\n",
       "      <th></th>\n",
       "      <th></th>\n",
       "      <th></th>\n",
       "      <th></th>\n",
       "    </tr>\n",
       "  </thead>\n",
       "  <tbody>\n",
       "    <tr>\n",
       "      <th>0.0</th>\n",
       "      <td>-0.319297</td>\n",
       "      <td>-0.364494</td>\n",
       "      <td>-0.390672</td>\n",
       "      <td>-0.401126</td>\n",
       "      <td>-0.401864</td>\n",
       "      <td>-0.396517</td>\n",
       "      <td>-0.391197</td>\n",
       "      <td>-0.373773</td>\n",
       "      <td>-0.351517</td>\n",
       "      <td>-0.330747</td>\n",
       "      <td>...</td>\n",
       "      <td>-0.240290</td>\n",
       "      <td>-0.239099</td>\n",
       "      <td>-0.232143</td>\n",
       "      <td>-0.236293</td>\n",
       "      <td>-0.228718</td>\n",
       "      <td>-0.229274</td>\n",
       "      <td>-0.220300</td>\n",
       "      <td>-0.215889</td>\n",
       "      <td>-0.206692</td>\n",
       "      <td>-0.202399</td>\n",
       "    </tr>\n",
       "    <tr>\n",
       "      <th>1.0</th>\n",
       "      <td>-0.320699</td>\n",
       "      <td>-0.357344</td>\n",
       "      <td>-0.357379</td>\n",
       "      <td>-0.379641</td>\n",
       "      <td>-0.372982</td>\n",
       "      <td>-0.352879</td>\n",
       "      <td>-0.351169</td>\n",
       "      <td>-0.346582</td>\n",
       "      <td>-0.326114</td>\n",
       "      <td>-0.293908</td>\n",
       "      <td>...</td>\n",
       "      <td>-0.231501</td>\n",
       "      <td>-0.225501</td>\n",
       "      <td>-0.216139</td>\n",
       "      <td>-0.216462</td>\n",
       "      <td>-0.212568</td>\n",
       "      <td>-0.215501</td>\n",
       "      <td>-0.212587</td>\n",
       "      <td>-0.201661</td>\n",
       "      <td>-0.198531</td>\n",
       "      <td>-0.196544</td>\n",
       "    </tr>\n",
       "    <tr>\n",
       "      <th>2.0</th>\n",
       "      <td>-0.349761</td>\n",
       "      <td>-0.364231</td>\n",
       "      <td>-0.375025</td>\n",
       "      <td>-0.374224</td>\n",
       "      <td>-0.364880</td>\n",
       "      <td>-0.360441</td>\n",
       "      <td>-0.337917</td>\n",
       "      <td>-0.334787</td>\n",
       "      <td>-0.323866</td>\n",
       "      <td>-0.300725</td>\n",
       "      <td>...</td>\n",
       "      <td>-0.221665</td>\n",
       "      <td>-0.219665</td>\n",
       "      <td>-0.213666</td>\n",
       "      <td>-0.217368</td>\n",
       "      <td>-0.215158</td>\n",
       "      <td>-0.204531</td>\n",
       "      <td>-0.201462</td>\n",
       "      <td>-0.199798</td>\n",
       "      <td>-0.193373</td>\n",
       "      <td>-0.187550</td>\n",
       "    </tr>\n",
       "    <tr>\n",
       "      <th>3.0</th>\n",
       "      <td>-0.357952</td>\n",
       "      <td>-0.364175</td>\n",
       "      <td>-0.372916</td>\n",
       "      <td>-0.369714</td>\n",
       "      <td>-0.369312</td>\n",
       "      <td>-0.347814</td>\n",
       "      <td>-0.338304</td>\n",
       "      <td>-0.325363</td>\n",
       "      <td>-0.307308</td>\n",
       "      <td>-0.296233</td>\n",
       "      <td>...</td>\n",
       "      <td>-0.205159</td>\n",
       "      <td>-0.207949</td>\n",
       "      <td>-0.201101</td>\n",
       "      <td>-0.200393</td>\n",
       "      <td>-0.199008</td>\n",
       "      <td>-0.194206</td>\n",
       "      <td>-0.186349</td>\n",
       "      <td>-0.189771</td>\n",
       "      <td>-0.186228</td>\n",
       "      <td>-0.183855</td>\n",
       "    </tr>\n",
       "    <tr>\n",
       "      <th>4.0</th>\n",
       "      <td>-0.327091</td>\n",
       "      <td>-0.316662</td>\n",
       "      <td>-0.317961</td>\n",
       "      <td>-0.309244</td>\n",
       "      <td>-0.305316</td>\n",
       "      <td>-0.291535</td>\n",
       "      <td>-0.285251</td>\n",
       "      <td>-0.291314</td>\n",
       "      <td>-0.280824</td>\n",
       "      <td>-0.280883</td>\n",
       "      <td>...</td>\n",
       "      <td>-0.154520</td>\n",
       "      <td>-0.147799</td>\n",
       "      <td>-0.138956</td>\n",
       "      <td>-0.140206</td>\n",
       "      <td>-0.138590</td>\n",
       "      <td>-0.129800</td>\n",
       "      <td>-0.134296</td>\n",
       "      <td>-0.134238</td>\n",
       "      <td>-0.134480</td>\n",
       "      <td>-0.126175</td>\n",
       "    </tr>\n",
       "  </tbody>\n",
       "</table>\n",
       "<p>5 rows × 839 columns</p>\n",
       "</div>"
      ],
      "text/plain": [
       "Raman Shift  199.147424   201.192791   203.237476   205.281480   207.324801   \\\n",
       "label                                                                          \n",
       "0.0            -0.319297    -0.364494    -0.390672    -0.401126    -0.401864   \n",
       "1.0            -0.320699    -0.357344    -0.357379    -0.379641    -0.372982   \n",
       "2.0            -0.349761    -0.364231    -0.375025    -0.374224    -0.364880   \n",
       "3.0            -0.357952    -0.364175    -0.372916    -0.369714    -0.369312   \n",
       "4.0            -0.327091    -0.316662    -0.317961    -0.309244    -0.305316   \n",
       "\n",
       "Raman Shift  209.367441   211.409400   213.450678   215.491276   217.531194   \\\n",
       "label                                                                          \n",
       "0.0            -0.396517    -0.391197    -0.373773    -0.351517    -0.330747   \n",
       "1.0            -0.352879    -0.351169    -0.346582    -0.326114    -0.293908   \n",
       "2.0            -0.360441    -0.337917    -0.334787    -0.323866    -0.300725   \n",
       "3.0            -0.347814    -0.338304    -0.325363    -0.307308    -0.296233   \n",
       "4.0            -0.291535    -0.285251    -0.291314    -0.280824    -0.280883   \n",
       "\n",
       "Raman Shift  ...  1688.209250  1689.785261  1691.360804  1692.935879  \\\n",
       "label        ...                                                       \n",
       "0.0          ...    -0.240290    -0.239099    -0.232143    -0.236293   \n",
       "1.0          ...    -0.231501    -0.225501    -0.216139    -0.216462   \n",
       "2.0          ...    -0.221665    -0.219665    -0.213666    -0.217368   \n",
       "3.0          ...    -0.205159    -0.207949    -0.201101    -0.200393   \n",
       "4.0          ...    -0.154520    -0.147799    -0.138956    -0.140206   \n",
       "\n",
       "Raman Shift  1694.510488  1696.084629  1697.658304  1699.231512  1700.804253  \\\n",
       "label                                                                          \n",
       "0.0            -0.228718    -0.229274    -0.220300    -0.215889    -0.206692   \n",
       "1.0            -0.212568    -0.215501    -0.212587    -0.201661    -0.198531   \n",
       "2.0            -0.215158    -0.204531    -0.201462    -0.199798    -0.193373   \n",
       "3.0            -0.199008    -0.194206    -0.186349    -0.189771    -0.186228   \n",
       "4.0            -0.138590    -0.129800    -0.134296    -0.134238    -0.134480   \n",
       "\n",
       "Raman Shift  1702.376528  \n",
       "label                     \n",
       "0.0            -0.202399  \n",
       "1.0            -0.196544  \n",
       "2.0            -0.187550  \n",
       "3.0            -0.183855  \n",
       "4.0            -0.126175  \n",
       "\n",
       "[5 rows x 839 columns]"
      ]
     },
     "execution_count": 53,
     "metadata": {},
     "output_type": "execute_result"
    }
   ],
   "source": [
    "std_avg_spectra_df = std_data_df.groupby(\"label\").mean()\n",
    "std_avg_spectra_df"
   ]
  },
  {
   "cell_type": "code",
   "execution_count": 54,
   "metadata": {},
   "outputs": [],
   "source": [
    "# X軸の最大・最小の設定\n",
    "XLIM_MIN = 200\n",
    "XLIM_MAX = 1700\n",
    "# Y軸の最大・最小の設定\n",
    "YLIM_MIN = -1\n",
    "YLIM_MAX = 20\n",
    "# 軸ラベルの設定\n",
    "XLABEL = 'Raman Shift [$cm^{-1}$]'\n",
    "YLABEL = 'Intensity [a.u.]'\n",
    "# グラフサイズ\n",
    "GRAPH_SIZE = (8, 6)\n",
    "# フォントサイズ\n",
    "FONTS_SIZE = 14\n",
    "\n",
    "def show_raman_spectra(spectra_df):\n",
    "    \"\"\"\n",
    "    ラマンスペクトルを表示する関数\n",
    "    :param spectra_df_list: 各スペクトルデータフレームのリスト\n",
    "    \"\"\"\n",
    "    plt.figure(figsize=(25, 4))\n",
    "    for i in range(len(spectra_df)):\n",
    "        plt.subplot(1, 5, i+1)\n",
    "        plt.plot(spectra_df.columns , spectra_df.iloc[i])\n",
    "        plt.title(label_list[i])\n",
    "        plt.xlim(XLIM_MIN, XLIM_MAX)\n",
    "        plt.ylim(YLIM_MIN, YLIM_MAX)\n",
    "\n",
    "        plt.xlabel(XLABEL)\n",
    "        plt.ylabel(YLABEL)\n",
    "        plt.xticks(fontsize=FONTS_SIZE)\n",
    "        plt.yticks(fontsize=FONTS_SIZE)\n",
    "\n",
    "    plt.tight_layout()\n",
    "    plt.show()"
   ]
  },
  {
   "cell_type": "code",
   "execution_count": 55,
   "metadata": {},
   "outputs": [
    {
     "data": {
      "image/png": "[encoded data removed]",
      "text/plain": [
       "<Figure size 1800x288 with 5 Axes>"
      ]
     },
     "metadata": {
      "needs_background": "light"
     },
     "output_type": "display_data"
    }
   ],
   "source": [
    "\n",
    "# グラフの表示\n",
    "show_raman_spectra(std_avg_spectra_df)"
   ]
  },
  {
   "cell_type": "markdown",
   "metadata": {},
   "source": [
    "# PCAによるノイズ除去"
   ]
  },
  {
   "cell_type": "code",
   "execution_count": 48,
   "metadata": {},
   "outputs": [
    {
     "name": "stdout",
     "output_type": "stream",
     "text": [
      "        PC1       PC2       PC3       PC4       PC5       PC6       PC7  \\\n",
      "0  0.840379  0.091912  0.025041  0.008975  0.007715  0.004253  0.001695   \n",
      "\n",
      "       PC8      PC9      PC10  \n",
      "0  0.00145  0.00111  0.000902  \n",
      "合計: [0.98343093]\n"
     ]
    }
   ],
   "source": [
    "# PCAの要素数の定義\n",
    "N_COMP = 10\n",
    "# labelなしのスペクトル\n",
    "std_data_X = std_data_df.drop(\"label\", axis=1)\n",
    "\n",
    "# PCA処理\n",
    "pca = PCA(n_components=N_COMP)\n",
    "std_data_pca = pca.fit_transform(std_data_X.values)\n",
    "\n",
    "# 寄与率の算出\n",
    "std_data_exp_var_ratio = pd.DataFrame([pca.explained_variance_ratio_], columns=[f'PC{n+1}' for n in range(N_COMP)])\n",
    "#各主成分の固有ベクトル\n",
    "std_data_pca_vec_df = pd.DataFrame(pca.components_, columns=std_data_X.columns, index=[f'PC{n+1}' for n in range(N_COMP)])\n",
    "\n",
    "# 寄与率の確認\n",
    "print(std_data_exp_var_ratio)\n",
    "print(\"合計:\", np.sum(std_data_exp_var_ratio, axis=1).values)"
   ]
  },
  {
   "cell_type": "code",
   "execution_count": 49,
   "metadata": {},
   "outputs": [
    {
     "data": {
      "text/html": [
       "<div>\n",
       "<style scoped>\n",
       "    .dataframe tbody tr th:only-of-type {\n",
       "        vertical-align: middle;\n",
       "    }\n",
       "\n",
       "    .dataframe tbody tr th {\n",
       "        vertical-align: top;\n",
       "    }\n",
       "\n",
       "    .dataframe thead th {\n",
       "        text-align: right;\n",
       "    }\n",
       "</style>\n",
       "<table border=\"1\" class=\"dataframe\">\n",
       "  <thead>\n",
       "    <tr style=\"text-align: right;\">\n",
       "      <th>Raman Shift</th>\n",
       "      <th>199.147424</th>\n",
       "      <th>201.192791</th>\n",
       "      <th>203.237476</th>\n",
       "      <th>205.281480</th>\n",
       "      <th>207.324801</th>\n",
       "      <th>209.367441</th>\n",
       "      <th>211.409400</th>\n",
       "      <th>213.450678</th>\n",
       "      <th>215.491276</th>\n",
       "      <th>217.531194</th>\n",
       "      <th>...</th>\n",
       "      <th>1688.209250</th>\n",
       "      <th>1689.785261</th>\n",
       "      <th>1691.360804</th>\n",
       "      <th>1692.935879</th>\n",
       "      <th>1694.510488</th>\n",
       "      <th>1696.084629</th>\n",
       "      <th>1697.658304</th>\n",
       "      <th>1699.231512</th>\n",
       "      <th>1700.804253</th>\n",
       "      <th>1702.376528</th>\n",
       "    </tr>\n",
       "  </thead>\n",
       "  <tbody>\n",
       "    <tr>\n",
       "      <th>PC1</th>\n",
       "      <td>0.001002</td>\n",
       "      <td>-0.001589</td>\n",
       "      <td>-0.002406</td>\n",
       "      <td>-0.003504</td>\n",
       "      <td>-0.003676</td>\n",
       "      <td>-0.004067</td>\n",
       "      <td>-0.004314</td>\n",
       "      <td>-0.003337</td>\n",
       "      <td>-0.002984</td>\n",
       "      <td>-0.002050</td>\n",
       "      <td>...</td>\n",
       "      <td>-0.003570</td>\n",
       "      <td>-0.003664</td>\n",
       "      <td>-0.003678</td>\n",
       "      <td>-0.003787</td>\n",
       "      <td>-0.003454</td>\n",
       "      <td>-0.003975</td>\n",
       "      <td>-0.003516</td>\n",
       "      <td>-0.003158</td>\n",
       "      <td>-0.002847</td>\n",
       "      <td>-0.002955</td>\n",
       "    </tr>\n",
       "    <tr>\n",
       "      <th>PC2</th>\n",
       "      <td>0.006089</td>\n",
       "      <td>0.007309</td>\n",
       "      <td>0.007319</td>\n",
       "      <td>0.006465</td>\n",
       "      <td>0.005844</td>\n",
       "      <td>0.005322</td>\n",
       "      <td>0.003288</td>\n",
       "      <td>0.003544</td>\n",
       "      <td>0.002603</td>\n",
       "      <td>-0.000759</td>\n",
       "      <td>...</td>\n",
       "      <td>0.003962</td>\n",
       "      <td>0.004681</td>\n",
       "      <td>0.005390</td>\n",
       "      <td>0.004978</td>\n",
       "      <td>0.005831</td>\n",
       "      <td>0.005383</td>\n",
       "      <td>0.004996</td>\n",
       "      <td>0.004813</td>\n",
       "      <td>0.004464</td>\n",
       "      <td>0.004936</td>\n",
       "    </tr>\n",
       "    <tr>\n",
       "      <th>PC3</th>\n",
       "      <td>-0.000170</td>\n",
       "      <td>-0.005817</td>\n",
       "      <td>-0.005961</td>\n",
       "      <td>-0.003285</td>\n",
       "      <td>-0.003982</td>\n",
       "      <td>-0.005962</td>\n",
       "      <td>-0.004083</td>\n",
       "      <td>-0.004847</td>\n",
       "      <td>-0.004137</td>\n",
       "      <td>-0.003337</td>\n",
       "      <td>...</td>\n",
       "      <td>0.004141</td>\n",
       "      <td>0.005607</td>\n",
       "      <td>0.004185</td>\n",
       "      <td>0.003060</td>\n",
       "      <td>0.002239</td>\n",
       "      <td>0.002488</td>\n",
       "      <td>0.003287</td>\n",
       "      <td>0.003460</td>\n",
       "      <td>0.001416</td>\n",
       "      <td>0.002404</td>\n",
       "    </tr>\n",
       "    <tr>\n",
       "      <th>PC4</th>\n",
       "      <td>-0.002025</td>\n",
       "      <td>-0.001917</td>\n",
       "      <td>0.002758</td>\n",
       "      <td>0.001650</td>\n",
       "      <td>0.001817</td>\n",
       "      <td>-0.000021</td>\n",
       "      <td>-0.001041</td>\n",
       "      <td>-0.001824</td>\n",
       "      <td>-0.000957</td>\n",
       "      <td>0.002295</td>\n",
       "      <td>...</td>\n",
       "      <td>-0.001514</td>\n",
       "      <td>0.000934</td>\n",
       "      <td>0.001297</td>\n",
       "      <td>0.002250</td>\n",
       "      <td>0.000348</td>\n",
       "      <td>-0.000117</td>\n",
       "      <td>0.000359</td>\n",
       "      <td>0.001413</td>\n",
       "      <td>-0.001418</td>\n",
       "      <td>0.002344</td>\n",
       "    </tr>\n",
       "    <tr>\n",
       "      <th>PC5</th>\n",
       "      <td>0.002806</td>\n",
       "      <td>-0.005539</td>\n",
       "      <td>-0.003035</td>\n",
       "      <td>-0.003261</td>\n",
       "      <td>-0.001122</td>\n",
       "      <td>-0.005414</td>\n",
       "      <td>-0.005389</td>\n",
       "      <td>0.001436</td>\n",
       "      <td>-0.007110</td>\n",
       "      <td>-0.005662</td>\n",
       "      <td>...</td>\n",
       "      <td>-0.001188</td>\n",
       "      <td>-0.000727</td>\n",
       "      <td>-0.001514</td>\n",
       "      <td>-0.002835</td>\n",
       "      <td>-0.000050</td>\n",
       "      <td>-0.000227</td>\n",
       "      <td>0.000123</td>\n",
       "      <td>0.000323</td>\n",
       "      <td>-0.001944</td>\n",
       "      <td>-0.003127</td>\n",
       "    </tr>\n",
       "    <tr>\n",
       "      <th>PC6</th>\n",
       "      <td>0.008600</td>\n",
       "      <td>0.009863</td>\n",
       "      <td>0.021362</td>\n",
       "      <td>0.007855</td>\n",
       "      <td>0.007325</td>\n",
       "      <td>0.012386</td>\n",
       "      <td>0.011396</td>\n",
       "      <td>0.009980</td>\n",
       "      <td>0.017564</td>\n",
       "      <td>0.013902</td>\n",
       "      <td>...</td>\n",
       "      <td>-0.009253</td>\n",
       "      <td>-0.007926</td>\n",
       "      <td>-0.004417</td>\n",
       "      <td>-0.007645</td>\n",
       "      <td>-0.009198</td>\n",
       "      <td>-0.011087</td>\n",
       "      <td>-0.005400</td>\n",
       "      <td>-0.009150</td>\n",
       "      <td>-0.012205</td>\n",
       "      <td>-0.012202</td>\n",
       "    </tr>\n",
       "    <tr>\n",
       "      <th>PC7</th>\n",
       "      <td>0.021740</td>\n",
       "      <td>0.015189</td>\n",
       "      <td>0.021242</td>\n",
       "      <td>0.005378</td>\n",
       "      <td>0.013509</td>\n",
       "      <td>-0.007748</td>\n",
       "      <td>0.006328</td>\n",
       "      <td>-0.006146</td>\n",
       "      <td>0.003680</td>\n",
       "      <td>-0.005322</td>\n",
       "      <td>...</td>\n",
       "      <td>-0.006231</td>\n",
       "      <td>0.004084</td>\n",
       "      <td>0.001953</td>\n",
       "      <td>-0.002109</td>\n",
       "      <td>-0.005265</td>\n",
       "      <td>-0.006081</td>\n",
       "      <td>-0.009321</td>\n",
       "      <td>-0.008081</td>\n",
       "      <td>-0.006724</td>\n",
       "      <td>-0.007360</td>\n",
       "    </tr>\n",
       "    <tr>\n",
       "      <th>PC8</th>\n",
       "      <td>-0.065034</td>\n",
       "      <td>-0.064973</td>\n",
       "      <td>-0.073828</td>\n",
       "      <td>-0.059627</td>\n",
       "      <td>-0.065953</td>\n",
       "      <td>-0.078814</td>\n",
       "      <td>-0.057134</td>\n",
       "      <td>-0.055545</td>\n",
       "      <td>-0.035426</td>\n",
       "      <td>-0.054423</td>\n",
       "      <td>...</td>\n",
       "      <td>-0.011795</td>\n",
       "      <td>-0.008229</td>\n",
       "      <td>-0.006451</td>\n",
       "      <td>-0.011604</td>\n",
       "      <td>-0.011058</td>\n",
       "      <td>-0.016669</td>\n",
       "      <td>-0.007754</td>\n",
       "      <td>-0.009787</td>\n",
       "      <td>-0.019208</td>\n",
       "      <td>-0.009679</td>\n",
       "    </tr>\n",
       "    <tr>\n",
       "      <th>PC9</th>\n",
       "      <td>-0.020355</td>\n",
       "      <td>0.005649</td>\n",
       "      <td>-0.005792</td>\n",
       "      <td>-0.021081</td>\n",
       "      <td>0.014551</td>\n",
       "      <td>0.001861</td>\n",
       "      <td>-0.003069</td>\n",
       "      <td>-0.008691</td>\n",
       "      <td>-0.005775</td>\n",
       "      <td>-0.016488</td>\n",
       "      <td>...</td>\n",
       "      <td>-0.023505</td>\n",
       "      <td>-0.026078</td>\n",
       "      <td>-0.018027</td>\n",
       "      <td>-0.021712</td>\n",
       "      <td>-0.022340</td>\n",
       "      <td>-0.018351</td>\n",
       "      <td>-0.007315</td>\n",
       "      <td>-0.025650</td>\n",
       "      <td>-0.016623</td>\n",
       "      <td>-0.017600</td>\n",
       "    </tr>\n",
       "    <tr>\n",
       "      <th>PC10</th>\n",
       "      <td>0.008457</td>\n",
       "      <td>0.017221</td>\n",
       "      <td>0.036167</td>\n",
       "      <td>0.044471</td>\n",
       "      <td>0.025507</td>\n",
       "      <td>0.034545</td>\n",
       "      <td>0.013263</td>\n",
       "      <td>0.019870</td>\n",
       "      <td>0.031627</td>\n",
       "      <td>0.022371</td>\n",
       "      <td>...</td>\n",
       "      <td>-0.004160</td>\n",
       "      <td>0.003377</td>\n",
       "      <td>-0.006983</td>\n",
       "      <td>-0.000620</td>\n",
       "      <td>0.006916</td>\n",
       "      <td>0.011028</td>\n",
       "      <td>0.017070</td>\n",
       "      <td>0.001136</td>\n",
       "      <td>0.000910</td>\n",
       "      <td>-0.005443</td>\n",
       "    </tr>\n",
       "  </tbody>\n",
       "</table>\n",
       "<p>10 rows × 839 columns</p>\n",
       "</div>"
      ],
      "text/plain": [
       "Raman Shift  199.147424   201.192791   203.237476   205.281480   207.324801   \\\n",
       "PC1             0.001002    -0.001589    -0.002406    -0.003504    -0.003676   \n",
       "PC2             0.006089     0.007309     0.007319     0.006465     0.005844   \n",
       "PC3            -0.000170    -0.005817    -0.005961    -0.003285    -0.003982   \n",
       "PC4            -0.002025    -0.001917     0.002758     0.001650     0.001817   \n",
       "PC5             0.002806    -0.005539    -0.003035    -0.003261    -0.001122   \n",
       "PC6             0.008600     0.009863     0.021362     0.007855     0.007325   \n",
       "PC7             0.021740     0.015189     0.021242     0.005378     0.013509   \n",
       "PC8            -0.065034    -0.064973    -0.073828    -0.059627    -0.065953   \n",
       "PC9            -0.020355     0.005649    -0.005792    -0.021081     0.014551   \n",
       "PC10            0.008457     0.017221     0.036167     0.044471     0.025507   \n",
       "\n",
       "Raman Shift  209.367441   211.409400   213.450678   215.491276   217.531194   \\\n",
       "PC1            -0.004067    -0.004314    -0.003337    -0.002984    -0.002050   \n",
       "PC2             0.005322     0.003288     0.003544     0.002603    -0.000759   \n",
       "PC3            -0.005962    -0.004083    -0.004847    -0.004137    -0.003337   \n",
       "PC4            -0.000021    -0.001041    -0.001824    -0.000957     0.002295   \n",
       "PC5            -0.005414    -0.005389     0.001436    -0.007110    -0.005662   \n",
       "PC6             0.012386     0.011396     0.009980     0.017564     0.013902   \n",
       "PC7            -0.007748     0.006328    -0.006146     0.003680    -0.005322   \n",
       "PC8            -0.078814    -0.057134    -0.055545    -0.035426    -0.054423   \n",
       "PC9             0.001861    -0.003069    -0.008691    -0.005775    -0.016488   \n",
       "PC10            0.034545     0.013263     0.019870     0.031627     0.022371   \n",
       "\n",
       "Raman Shift  ...  1688.209250  1689.785261  1691.360804  1692.935879  \\\n",
       "PC1          ...    -0.003570    -0.003664    -0.003678    -0.003787   \n",
       "PC2          ...     0.003962     0.004681     0.005390     0.004978   \n",
       "PC3          ...     0.004141     0.005607     0.004185     0.003060   \n",
       "PC4          ...    -0.001514     0.000934     0.001297     0.002250   \n",
       "PC5          ...    -0.001188    -0.000727    -0.001514    -0.002835   \n",
       "PC6          ...    -0.009253    -0.007926    -0.004417    -0.007645   \n",
       "PC7          ...    -0.006231     0.004084     0.001953    -0.002109   \n",
       "PC8          ...    -0.011795    -0.008229    -0.006451    -0.011604   \n",
       "PC9          ...    -0.023505    -0.026078    -0.018027    -0.021712   \n",
       "PC10         ...    -0.004160     0.003377    -0.006983    -0.000620   \n",
       "\n",
       "Raman Shift  1694.510488  1696.084629  1697.658304  1699.231512  1700.804253  \\\n",
       "PC1            -0.003454    -0.003975    -0.003516    -0.003158    -0.002847   \n",
       "PC2             0.005831     0.005383     0.004996     0.004813     0.004464   \n",
       "PC3             0.002239     0.002488     0.003287     0.003460     0.001416   \n",
       "PC4             0.000348    -0.000117     0.000359     0.001413    -0.001418   \n",
       "PC5            -0.000050    -0.000227     0.000123     0.000323    -0.001944   \n",
       "PC6            -0.009198    -0.011087    -0.005400    -0.009150    -0.012205   \n",
       "PC7            -0.005265    -0.006081    -0.009321    -0.008081    -0.006724   \n",
       "PC8            -0.011058    -0.016669    -0.007754    -0.009787    -0.019208   \n",
       "PC9            -0.022340    -0.018351    -0.007315    -0.025650    -0.016623   \n",
       "PC10            0.006916     0.011028     0.017070     0.001136     0.000910   \n",
       "\n",
       "Raman Shift  1702.376528  \n",
       "PC1            -0.002955  \n",
       "PC2             0.004936  \n",
       "PC3             0.002404  \n",
       "PC4             0.002344  \n",
       "PC5            -0.003127  \n",
       "PC6            -0.012202  \n",
       "PC7            -0.007360  \n",
       "PC8            -0.009679  \n",
       "PC9            -0.017600  \n",
       "PC10           -0.005443  \n",
       "\n",
       "[10 rows x 839 columns]"
      ]
     },
     "metadata": {},
     "output_type": "display_data"
    },
    {
     "data": {
      "text/html": [
       "<div>\n",
       "<style scoped>\n",
       "    .dataframe tbody tr th:only-of-type {\n",
       "        vertical-align: middle;\n",
       "    }\n",
       "\n",
       "    .dataframe tbody tr th {\n",
       "        vertical-align: top;\n",
       "    }\n",
       "\n",
       "    .dataframe thead th {\n",
       "        text-align: right;\n",
       "    }\n",
       "</style>\n",
       "<table border=\"1\" class=\"dataframe\">\n",
       "  <thead>\n",
       "    <tr style=\"text-align: right;\">\n",
       "      <th></th>\n",
       "      <th>PC1</th>\n",
       "      <th>PC2</th>\n",
       "      <th>PC3</th>\n",
       "      <th>PC4</th>\n",
       "      <th>PC5</th>\n",
       "      <th>PC6</th>\n",
       "      <th>PC7</th>\n",
       "      <th>PC8</th>\n",
       "      <th>PC9</th>\n",
       "      <th>PC10</th>\n",
       "    </tr>\n",
       "    <tr>\n",
       "      <th>label</th>\n",
       "      <th></th>\n",
       "      <th></th>\n",
       "      <th></th>\n",
       "      <th></th>\n",
       "      <th></th>\n",
       "      <th></th>\n",
       "      <th></th>\n",
       "      <th></th>\n",
       "      <th></th>\n",
       "      <th></th>\n",
       "    </tr>\n",
       "  </thead>\n",
       "  <tbody>\n",
       "    <tr>\n",
       "      <th>0.0</th>\n",
       "      <td>11.698546</td>\n",
       "      <td>1.648284</td>\n",
       "      <td>0.878254</td>\n",
       "      <td>-0.335697</td>\n",
       "      <td>-0.472516</td>\n",
       "      <td>-0.131808</td>\n",
       "      <td>-0.053831</td>\n",
       "      <td>0.022872</td>\n",
       "      <td>0.042544</td>\n",
       "      <td>0.022516</td>\n",
       "    </tr>\n",
       "    <tr>\n",
       "      <th>1.0</th>\n",
       "      <td>3.628316</td>\n",
       "      <td>-1.103008</td>\n",
       "      <td>-0.668008</td>\n",
       "      <td>0.423300</td>\n",
       "      <td>0.184057</td>\n",
       "      <td>-0.013694</td>\n",
       "      <td>0.189992</td>\n",
       "      <td>-0.105548</td>\n",
       "      <td>-0.082467</td>\n",
       "      <td>-0.040687</td>\n",
       "    </tr>\n",
       "    <tr>\n",
       "      <th>2.0</th>\n",
       "      <td>-0.375480</td>\n",
       "      <td>-1.823158</td>\n",
       "      <td>-0.576970</td>\n",
       "      <td>0.018170</td>\n",
       "      <td>0.338072</td>\n",
       "      <td>0.113730</td>\n",
       "      <td>-0.004005</td>\n",
       "      <td>0.034865</td>\n",
       "      <td>0.010211</td>\n",
       "      <td>0.043344</td>\n",
       "    </tr>\n",
       "    <tr>\n",
       "      <th>3.0</th>\n",
       "      <td>-3.984593</td>\n",
       "      <td>-1.736247</td>\n",
       "      <td>-0.155683</td>\n",
       "      <td>-0.200243</td>\n",
       "      <td>0.134560</td>\n",
       "      <td>0.272724</td>\n",
       "      <td>-0.166631</td>\n",
       "      <td>0.073278</td>\n",
       "      <td>0.043242</td>\n",
       "      <td>-0.055747</td>\n",
       "    </tr>\n",
       "    <tr>\n",
       "      <th>4.0</th>\n",
       "      <td>-10.966790</td>\n",
       "      <td>3.014129</td>\n",
       "      <td>0.522407</td>\n",
       "      <td>0.094470</td>\n",
       "      <td>-0.184174</td>\n",
       "      <td>-0.240951</td>\n",
       "      <td>0.034475</td>\n",
       "      <td>-0.025467</td>\n",
       "      <td>-0.013529</td>\n",
       "      <td>0.030574</td>\n",
       "    </tr>\n",
       "  </tbody>\n",
       "</table>\n",
       "</div>"
      ],
      "text/plain": [
       "             PC1       PC2       PC3       PC4       PC5       PC6       PC7  \\\n",
       "label                                                                          \n",
       "0.0    11.698546  1.648284  0.878254 -0.335697 -0.472516 -0.131808 -0.053831   \n",
       "1.0     3.628316 -1.103008 -0.668008  0.423300  0.184057 -0.013694  0.189992   \n",
       "2.0    -0.375480 -1.823158 -0.576970  0.018170  0.338072  0.113730 -0.004005   \n",
       "3.0    -3.984593 -1.736247 -0.155683 -0.200243  0.134560  0.272724 -0.166631   \n",
       "4.0   -10.966790  3.014129  0.522407  0.094470 -0.184174 -0.240951  0.034475   \n",
       "\n",
       "            PC8       PC9      PC10  \n",
       "label                                \n",
       "0.0    0.022872  0.042544  0.022516  \n",
       "1.0   -0.105548 -0.082467 -0.040687  \n",
       "2.0    0.034865  0.010211  0.043344  \n",
       "3.0    0.073278  0.043242 -0.055747  \n",
       "4.0   -0.025467 -0.013529  0.030574  "
      ]
     },
     "metadata": {},
     "output_type": "display_data"
    }
   ],
   "source": [
    "# 固有ベクトルの表示\n",
    "display(std_data_pca_vec_df)\n",
    "\n",
    "# PCA結果のデータフレーム化\n",
    "std_data_pca_df = pd.DataFrame(std_data_pca, columns=[f'PC{n+1}' for n in range(N_COMP)])\n",
    "std_data_pca_df[\"label\"] = std_data_df[\"label\"].values\n",
    "\n",
    "# 平均化したPCAデータフレームの表示\n",
    "std_data_pca_avg_df = std_data_pca_df.groupby(\"label\").mean()\n",
    "display(std_data_pca_avg_df)"
   ]
  },
  {
   "cell_type": "code",
   "execution_count": 50,
   "metadata": {},
   "outputs": [
    {
     "data": {
      "text/html": [
       "<div>\n",
       "<style scoped>\n",
       "    .dataframe tbody tr th:only-of-type {\n",
       "        vertical-align: middle;\n",
       "    }\n",
       "\n",
       "    .dataframe tbody tr th {\n",
       "        vertical-align: top;\n",
       "    }\n",
       "\n",
       "    .dataframe thead th {\n",
       "        text-align: right;\n",
       "    }\n",
       "</style>\n",
       "<table border=\"1\" class=\"dataframe\">\n",
       "  <thead>\n",
       "    <tr style=\"text-align: right;\">\n",
       "      <th>Raman Shift</th>\n",
       "      <th>199.147424</th>\n",
       "      <th>201.192791</th>\n",
       "      <th>203.237476</th>\n",
       "      <th>205.281480</th>\n",
       "      <th>207.324801</th>\n",
       "      <th>209.367441</th>\n",
       "      <th>211.409400</th>\n",
       "      <th>213.450678</th>\n",
       "      <th>215.491276</th>\n",
       "      <th>217.531194</th>\n",
       "      <th>...</th>\n",
       "      <th>1688.209250</th>\n",
       "      <th>1689.785261</th>\n",
       "      <th>1691.360804</th>\n",
       "      <th>1692.935879</th>\n",
       "      <th>1694.510488</th>\n",
       "      <th>1696.084629</th>\n",
       "      <th>1697.658304</th>\n",
       "      <th>1699.231512</th>\n",
       "      <th>1700.804253</th>\n",
       "      <th>1702.376528</th>\n",
       "    </tr>\n",
       "    <tr>\n",
       "      <th>label</th>\n",
       "      <th></th>\n",
       "      <th></th>\n",
       "      <th></th>\n",
       "      <th></th>\n",
       "      <th></th>\n",
       "      <th></th>\n",
       "      <th></th>\n",
       "      <th></th>\n",
       "      <th></th>\n",
       "      <th></th>\n",
       "      <th></th>\n",
       "      <th></th>\n",
       "      <th></th>\n",
       "      <th></th>\n",
       "      <th></th>\n",
       "      <th></th>\n",
       "      <th></th>\n",
       "      <th></th>\n",
       "      <th></th>\n",
       "      <th></th>\n",
       "      <th></th>\n",
       "    </tr>\n",
       "  </thead>\n",
       "  <tbody>\n",
       "    <tr>\n",
       "      <th>0.0</th>\n",
       "      <td>0.016499</td>\n",
       "      <td>-0.011366</td>\n",
       "      <td>-0.025893</td>\n",
       "      <td>-0.034813</td>\n",
       "      <td>-0.038952</td>\n",
       "      <td>-0.043641</td>\n",
       "      <td>-0.048725</td>\n",
       "      <td>-0.039702</td>\n",
       "      <td>-0.033424</td>\n",
       "      <td>-0.029247</td>\n",
       "      <td>...</td>\n",
       "      <td>-0.030331</td>\n",
       "      <td>-0.030584</td>\n",
       "      <td>-0.030784</td>\n",
       "      <td>-0.032910</td>\n",
       "      <td>-0.028477</td>\n",
       "      <td>-0.034428</td>\n",
       "      <td>-0.029078</td>\n",
       "      <td>-0.026250</td>\n",
       "      <td>-0.022460</td>\n",
       "      <td>-0.022725</td>\n",
       "    </tr>\n",
       "    <tr>\n",
       "      <th>1.0</th>\n",
       "      <td>0.008905</td>\n",
       "      <td>-0.003330</td>\n",
       "      <td>-0.001670</td>\n",
       "      <td>-0.010413</td>\n",
       "      <td>-0.009371</td>\n",
       "      <td>-0.012532</td>\n",
       "      <td>-0.011196</td>\n",
       "      <td>-0.008821</td>\n",
       "      <td>-0.009260</td>\n",
       "      <td>0.000549</td>\n",
       "      <td>...</td>\n",
       "      <td>-0.018652</td>\n",
       "      <td>-0.018173</td>\n",
       "      <td>-0.018933</td>\n",
       "      <td>-0.018101</td>\n",
       "      <td>-0.018469</td>\n",
       "      <td>-0.020294</td>\n",
       "      <td>-0.021257</td>\n",
       "      <td>-0.016730</td>\n",
       "      <td>-0.014906</td>\n",
       "      <td>-0.015894</td>\n",
       "    </tr>\n",
       "    <tr>\n",
       "      <th>2.0</th>\n",
       "      <td>-0.011684</td>\n",
       "      <td>-0.011680</td>\n",
       "      <td>-0.008697</td>\n",
       "      <td>-0.009143</td>\n",
       "      <td>-0.007590</td>\n",
       "      <td>-0.006359</td>\n",
       "      <td>-0.004038</td>\n",
       "      <td>-0.001963</td>\n",
       "      <td>-0.001601</td>\n",
       "      <td>0.002712</td>\n",
       "      <td>...</td>\n",
       "      <td>-0.010560</td>\n",
       "      <td>-0.011947</td>\n",
       "      <td>-0.012571</td>\n",
       "      <td>-0.011851</td>\n",
       "      <td>-0.011975</td>\n",
       "      <td>-0.011363</td>\n",
       "      <td>-0.009818</td>\n",
       "      <td>-0.011013</td>\n",
       "      <td>-0.010732</td>\n",
       "      <td>-0.012402</td>\n",
       "    </tr>\n",
       "    <tr>\n",
       "      <th>3.0</th>\n",
       "      <td>-0.021150</td>\n",
       "      <td>-0.011133</td>\n",
       "      <td>-0.008542</td>\n",
       "      <td>-0.004036</td>\n",
       "      <td>-0.001275</td>\n",
       "      <td>0.004218</td>\n",
       "      <td>0.008596</td>\n",
       "      <td>0.006651</td>\n",
       "      <td>0.006816</td>\n",
       "      <td>0.007514</td>\n",
       "      <td>...</td>\n",
       "      <td>0.003710</td>\n",
       "      <td>0.000551</td>\n",
       "      <td>0.001789</td>\n",
       "      <td>0.001651</td>\n",
       "      <td>-0.000579</td>\n",
       "      <td>0.001460</td>\n",
       "      <td>0.003013</td>\n",
       "      <td>0.000411</td>\n",
       "      <td>-0.000992</td>\n",
       "      <td>-0.001326</td>\n",
       "    </tr>\n",
       "    <tr>\n",
       "      <th>4.0</th>\n",
       "      <td>0.007430</td>\n",
       "      <td>0.037509</td>\n",
       "      <td>0.044802</td>\n",
       "      <td>0.058405</td>\n",
       "      <td>0.057187</td>\n",
       "      <td>0.058314</td>\n",
       "      <td>0.055363</td>\n",
       "      <td>0.043836</td>\n",
       "      <td>0.037468</td>\n",
       "      <td>0.018473</td>\n",
       "      <td>...</td>\n",
       "      <td>0.055833</td>\n",
       "      <td>0.060154</td>\n",
       "      <td>0.060499</td>\n",
       "      <td>0.061212</td>\n",
       "      <td>0.059499</td>\n",
       "      <td>0.064625</td>\n",
       "      <td>0.057140</td>\n",
       "      <td>0.053583</td>\n",
       "      <td>0.049090</td>\n",
       "      <td>0.052347</td>\n",
       "    </tr>\n",
       "  </tbody>\n",
       "</table>\n",
       "<p>5 rows × 839 columns</p>\n",
       "</div>"
      ],
      "text/plain": [
       "Raman Shift  199.147424   201.192791   203.237476   205.281480   207.324801   \\\n",
       "label                                                                          \n",
       "0.0             0.016499    -0.011366    -0.025893    -0.034813    -0.038952   \n",
       "1.0             0.008905    -0.003330    -0.001670    -0.010413    -0.009371   \n",
       "2.0            -0.011684    -0.011680    -0.008697    -0.009143    -0.007590   \n",
       "3.0            -0.021150    -0.011133    -0.008542    -0.004036    -0.001275   \n",
       "4.0             0.007430     0.037509     0.044802     0.058405     0.057187   \n",
       "\n",
       "Raman Shift  209.367441   211.409400   213.450678   215.491276   217.531194   \\\n",
       "label                                                                          \n",
       "0.0            -0.043641    -0.048725    -0.039702    -0.033424    -0.029247   \n",
       "1.0            -0.012532    -0.011196    -0.008821    -0.009260     0.000549   \n",
       "2.0            -0.006359    -0.004038    -0.001963    -0.001601     0.002712   \n",
       "3.0             0.004218     0.008596     0.006651     0.006816     0.007514   \n",
       "4.0             0.058314     0.055363     0.043836     0.037468     0.018473   \n",
       "\n",
       "Raman Shift  ...  1688.209250  1689.785261  1691.360804  1692.935879  \\\n",
       "label        ...                                                       \n",
       "0.0          ...    -0.030331    -0.030584    -0.030784    -0.032910   \n",
       "1.0          ...    -0.018652    -0.018173    -0.018933    -0.018101   \n",
       "2.0          ...    -0.010560    -0.011947    -0.012571    -0.011851   \n",
       "3.0          ...     0.003710     0.000551     0.001789     0.001651   \n",
       "4.0          ...     0.055833     0.060154     0.060499     0.061212   \n",
       "\n",
       "Raman Shift  1694.510488  1696.084629  1697.658304  1699.231512  1700.804253  \\\n",
       "label                                                                          \n",
       "0.0            -0.028477    -0.034428    -0.029078    -0.026250    -0.022460   \n",
       "1.0            -0.018469    -0.020294    -0.021257    -0.016730    -0.014906   \n",
       "2.0            -0.011975    -0.011363    -0.009818    -0.011013    -0.010732   \n",
       "3.0            -0.000579     0.001460     0.003013     0.000411    -0.000992   \n",
       "4.0             0.059499     0.064625     0.057140     0.053583     0.049090   \n",
       "\n",
       "Raman Shift  1702.376528  \n",
       "label                     \n",
       "0.0            -0.022725  \n",
       "1.0            -0.015894  \n",
       "2.0            -0.012402  \n",
       "3.0            -0.001326  \n",
       "4.0             0.052347  \n",
       "\n",
       "[5 rows x 839 columns]"
      ]
     },
     "metadata": {},
     "output_type": "display_data"
    }
   ],
   "source": [
    "# 固有ベクトルと固有値から元のスペクトルの再現\n",
    "std_pca_avg_spectra_df = std_data_pca_avg_df.dot(std_data_pca_vec_df)\n",
    "display(std_pca_avg_spectra_df)"
   ]
  },
  {
   "cell_type": "code",
   "execution_count": 52,
   "metadata": {},
   "outputs": [
    {
     "data": {
      "image/png": "[encoded data removed]",
      "text/plain": [
       "<Figure size 1800x288 with 5 Axes>"
      ]
     },
     "metadata": {
      "needs_background": "light"
     },
     "output_type": "display_data"
    }
   ],
   "source": [
    "# Y軸の最大・最小の設定\n",
    "YLIM_MIN = -5\n",
    "YLIM_MAX = 5\n",
    "# グラフサイズ\n",
    "GRAPH_SIZE = (8, 6)\n",
    "# フォントサイズ\n",
    "FONTS_SIZE = 14\n",
    "\n",
    "show_raman_spectra(std_pca_avg_spectra_df)"
   ]
  },
  {
   "attachments": {},
   "cell_type": "markdown",
   "metadata": {},
   "source": [
    "# 学習データの生成"
   ]
  },
  {
   "cell_type": "code",
   "execution_count": 56,
   "metadata": {},
   "outputs": [],
   "source": [
    "# oversampling用のパラメータCO\n",
    "NUMBER_NOISE = 80\n",
    "NOISE_UPPER = 0.3\n",
    "NOISE_UNDER = -0.3\n",
    "NUMBER_SMOTE = 100"
   ]
  },
  {
   "cell_type": "code",
   "execution_count": 57,
   "metadata": {},
   "outputs": [],
   "source": [
    "def aurgumentation_spectra(avg_spectra_df):\n",
    "    # 学習用データフレームの作成\n",
    "    train_df = pd.DataFrame()\n",
    "\n",
    "    # ノイズを加えたデータの作成\n",
    "    for i in range(NUMBER_NOISE):\n",
    "        df = avg_spectra_df.copy()\n",
    "        df = df.apply(lambda x: x + x * random.uniform(NOISE_UNDER, NOISE_UPPER))\n",
    "        train_df = pd.concat([train_df, df], axis=0)\n",
    "\n",
    "    # 学習用データの変数とラベルの分離\n",
    "    train_df = train_df.sort_index().reset_index()\n",
    "    train_X_df = train_df.drop([\"label\"], axis=1)\n",
    "    train_y_df = train_df[\"label\"]\n",
    "\n",
    "    # SMOTE参照用データの作成（このデータフレームの数に合うようにoversampling）\n",
    "    ref_data = np.ones((NUMBER_SMOTE, train_X_df.shape[1]))\n",
    "    ref_df = pd.DataFrame(ref_data, columns=train_X_df.columns)\n",
    "    ref_df.insert(0,'label', -1)\n",
    "    # ノイズを加えたデータと参照用データを合わせたデータフレームの作成\n",
    "    oversampling_df = pd.concat([train_df, ref_df], axis=0)\n",
    "\n",
    "    # ラベルごとにoversamplingを実施\n",
    "    for i in train_y_df.unique():\n",
    "        X = oversampling_df[(oversampling_df[\"label\"] == i) | (oversampling_df[\"label\"] == -1)].drop(\"label\", axis=1)\n",
    "        y = oversampling_df[(oversampling_df[\"label\"] == i) | (oversampling_df[\"label\"] == -1)][\"label\"].values\n",
    "\n",
    "        sm = SMOTE(random_state=42)\n",
    "        X_res, y_res = sm.fit_resample(X, y)\n",
    "\n",
    "        temp_df = pd.DataFrame(X_res.iloc[len(X):], columns=train_X_df.columns)\n",
    "        temp_df.insert(0, \"label\", y_res[len(y):])\n",
    "\n",
    "        train_df = pd.concat([train_df, temp_df], axis=0)\n",
    "\n",
    "        train_df = train_df.sort_index()\n",
    "\n",
    "    return train_df"
   ]
  },
  {
   "cell_type": "code",
   "execution_count": 58,
   "metadata": {},
   "outputs": [
    {
     "name": "stderr",
     "output_type": "stream",
     "text": [
      "Feature names only support names that are all strings. Got feature names with dtypes: ['float']. An error will be raised in 1.2.\n",
      "Feature names only support names that are all strings. Got feature names with dtypes: ['float']. An error will be raised in 1.2.\n",
      "Feature names only support names that are all strings. Got feature names with dtypes: ['float']. An error will be raised in 1.2.\n",
      "Feature names only support names that are all strings. Got feature names with dtypes: ['float']. An error will be raised in 1.2.\n",
      "Feature names only support names that are all strings. Got feature names with dtypes: ['float']. An error will be raised in 1.2.\n"
     ]
    }
   ],
   "source": [
    "# 普通の平均スペクトル:std_avg_spectra_df, PCAによるノイズ除去平均スペクトル:std_pca_avg_spectra_df\n",
    "train_df = aurgumentation_spectra(std_pca_avg_spectra_df)\n",
    "\n",
    "# 学習用データの準備\n",
    "train_X = train_df.drop(\"label\", axis=1)\n",
    "train_y = train_df[\"label\"]\n",
    "\n",
    "# 評価用データの準備\n",
    "valid_X = std_data_df.drop(\"label\", axis=1)\n",
    "valid_y = std_data_df[\"label\"]"
   ]
  },
  {
   "attachments": {},
   "cell_type": "markdown",
   "metadata": {},
   "source": [
    "# SVM"
   ]
  },
  {
   "cell_type": "code",
   "execution_count": 26,
   "metadata": {},
   "outputs": [],
   "source": [
    "# kernel:rbf(ガウス関数) その他：linear(線形回帰)、poly(多項式展開)、sigmoidなどがある\n",
    "def svm_only(C, trn_X, trn_y, val_X, val_y):\n",
    "    # SVM処理\n",
    "    trn_X.columns = [str(i) for i in trn_X.columns]\n",
    "    val_X.columns = [str(i) for i in val_X.columns]\n",
    "\n",
    "    svm_model = SVC(C=C)\n",
    "    svm_model.fit(trn_X, trn_y)\n",
    "    y_pred = svm_model.predict(val_X)\n",
    "\n",
    "    cm = confusion_matrix(y_pred, val_y)\n",
    "    # 正解率\n",
    "    Accuracy = accuracy_score(y_pred, val_y)\n",
    "\n",
    "    return cm, Accuracy"
   ]
  },
  {
   "cell_type": "code",
   "execution_count": 24,
   "metadata": {},
   "outputs": [
    {
     "data": {
      "image/png": "[encoded data removed]",
      "text/plain": [
       "<Figure size 432x288 with 1 Axes>"
      ]
     },
     "metadata": {
      "needs_background": "light"
     },
     "output_type": "display_data"
    }
   ],
   "source": [
    "# Cの決定\n",
    "temp_accuracy_dict = {}\n",
    "\n",
    "for i in range(-5, 6, 1):\n",
    "    _, accuracy_svm = svm_only(10**i, train_X, train_y, valid_X, valid_y)\n",
    "    temp_accuracy_dict[i] = accuracy_svm\n",
    "\n",
    "temp_accuracy_list = temp_accuracy_dict.items()\n",
    "x, y = zip(*temp_accuracy_list)\n",
    "\n",
    "plt.plot(x, y, marker='o', markersize=5)\n",
    "plt.xlabel('C(10**i)')\n",
    "plt.ylabel('Accuracy')\n",
    "plt.show()"
   ]
  },
  {
   "cell_type": "code",
   "execution_count": 119,
   "metadata": {},
   "outputs": [
    {
     "name": "stdout",
     "output_type": "stream",
     "text": [
      "Accuracy: 0.88\n"
     ]
    }
   ],
   "source": [
    "cm_svm, accuracy_svm = svm_only(100, train_X, train_y, valid_X, valid_y)\n",
    "print('Accuracy:', accuracy_svm)"
   ]
  },
  {
   "cell_type": "code",
   "execution_count": 38,
   "metadata": {},
   "outputs": [
    {
     "data": {
      "text/plain": [
       "([<matplotlib.axis.YTick at 0x1ec4686e9c8>,\n",
       "  <matplotlib.axis.YTick at 0x1ec4687a148>,\n",
       "  <matplotlib.axis.YTick at 0x1ec464568c8>,\n",
       "  <matplotlib.axis.YTick at 0x1ec463d2c08>,\n",
       "  <matplotlib.axis.YTick at 0x1ec450bf488>],\n",
       " [Text(0, 0.5, '1:0'),\n",
       "  Text(0, 1.5, '3:1'),\n",
       "  Text(0, 2.5, '1:1'),\n",
       "  Text(0, 3.5, '1:3'),\n",
       "  Text(0, 4.5, '0:1')])"
      ]
     },
     "execution_count": 38,
     "metadata": {},
     "output_type": "execute_result"
    },
    {
     "data": {
      "image/png": "[encoded data removed]",
      "text/plain": [
       "<Figure size 432x288 with 2 Axes>"
      ]
     },
     "metadata": {},
     "output_type": "display_data"
    }
   ],
   "source": [
    "sns.set(font_scale=1.5)\n",
    "sns.heatmap(cm_svm, annot=True, cmap='Blues', linecolor='black', linewidths=1.5)\n",
    "plt.xlabel(\"Predicted label\")\n",
    "plt.ylabel(\"True label\")\n",
    "plt.xticks(np.arange(len(label_list)) + 0.5, [\"1:0\", \"3:1\", \"1:1\", \"1:3\", \"0:1\"])\n",
    "plt.yticks(np.arange(len(label_list)) + 0.5, [\"1:0\", \"3:1\", \"1:1\", \"1:3\", \"0:1\"])"
   ]
  },
  {
   "attachments": {},
   "cell_type": "markdown",
   "metadata": {},
   "source": [
    "# PCA-SVM"
   ]
  },
  {
   "cell_type": "code",
   "execution_count": 28,
   "metadata": {},
   "outputs": [],
   "source": [
    "def pca_svm(n_comp, C, trn_X, trn_y, val_X, val_y):\n",
    "    # PCA処理\n",
    "    pca = PCA(n_components=n_comp)\n",
    "    trn_X_pca = pca.fit_transform(trn_X.values)\n",
    "\n",
    "    # 寄与率の算出\n",
    "    df_exp_var_ratio = pd.DataFrame([pca.explained_variance_ratio_], columns=[f'PC{n+1}' for n in range(n_comp)])\n",
    "    #各主成分の固有ベクトル\n",
    "    pca_vec_df = pd.DataFrame(pca.components_, columns=trn_X.columns, index=[f'PC{n+1}' for n in range(n_comp)])\n",
    "\n",
    "    # 評価用データのPCA処理\n",
    "    val_X_pca = pca.transform(val_X.values)\n",
    "\n",
    "    # SVM処理\n",
    "    svm_model = SVC(C=C)\n",
    "    svm_model.fit(trn_X_pca, trn_y)\n",
    "    y_pred = svm_model.predict(val_X_pca)\n",
    "\n",
    "    cm = confusion_matrix(y_pred, val_y)\n",
    "    # 正解率\n",
    "    Accuracy = accuracy_score(y_pred, val_y)\n",
    "\n",
    "    return df_exp_var_ratio, pca_vec_df, cm, Accuracy"
   ]
  },
  {
   "cell_type": "code",
   "execution_count": 27,
   "metadata": {},
   "outputs": [
    {
     "data": {
      "image/png": "[encoded data removed]",
      "text/plain": [
       "<Figure size 432x288 with 1 Axes>"
      ]
     },
     "metadata": {
      "needs_background": "light"
     },
     "output_type": "display_data"
    }
   ],
   "source": [
    "# n_componentsの決定\n",
    "temp_accuracy_dict = {}\n",
    "\n",
    "# 全波数での予測時：1-11\n",
    "for n_comp in range(1, 11, 1):\n",
    "    _, _, _, accuracy = pca_svm(n_comp, 1, train_X, train_y, valid_X, valid_y)\n",
    "    temp_accuracy_dict[n_comp] = accuracy\n",
    "\n",
    "temp_accuracy_list = temp_accuracy_dict.items()\n",
    "x, y = zip(*temp_accuracy_list)\n",
    "\n",
    "plt.plot(x, y, marker='o', markersize=5)\n",
    "plt.xlabel('n_components')\n",
    "plt.ylabel('Accuracy')\n",
    "plt.show()"
   ]
  },
  {
   "cell_type": "code",
   "execution_count": 28,
   "metadata": {},
   "outputs": [
    {
     "data": {
      "image/png": "[encoded data removed]",
      "text/plain": [
       "<Figure size 432x288 with 1 Axes>"
      ]
     },
     "metadata": {
      "needs_background": "light"
     },
     "output_type": "display_data"
    }
   ],
   "source": [
    "# Cの決定\n",
    "temp_accuracy_dict = {}\n",
    "\n",
    "for i in range(-5, 6, 1):\n",
    "    _, _, _, accuracy_pca_svm = pca_svm(6, 10**i, train_X, train_y, valid_X, valid_y)\n",
    "    temp_accuracy_dict[i] = accuracy_pca_svm\n",
    "\n",
    "temp_accuracy_list = temp_accuracy_dict.items()\n",
    "x, y = zip(*temp_accuracy_list)\n",
    "\n",
    "plt.plot(x, y, marker='o', markersize=5)\n",
    "plt.xlabel('C(10**i)')\n",
    "plt.ylabel('Accuracy')\n",
    "plt.show()"
   ]
  },
  {
   "cell_type": "code",
   "execution_count": 121,
   "metadata": {},
   "outputs": [
    {
     "name": "stdout",
     "output_type": "stream",
     "text": [
      "        PC1       PC2      PC3       PC4       PC5       PC6\n",
      "0  0.208382  0.123388  0.11381  0.092972  0.074416  0.058782\n",
      "0.648\n"
     ]
    }
   ],
   "source": [
    "# n_components = 2\n",
    "raitio, _, pca_svm_cm, pca_svm_accuracy = pca_svm(6, 100, train_X, train_y, valid_X, valid_y)\n",
    "print(raitio)\n",
    "print(pca_svm_accuracy)"
   ]
  },
  {
   "cell_type": "code",
   "execution_count": 39,
   "metadata": {},
   "outputs": [
    {
     "data": {
      "text/plain": [
       "([<matplotlib.axis.YTick at 0x1ec463c6588>,\n",
       "  <matplotlib.axis.YTick at 0x1ec464ca608>,\n",
       "  <matplotlib.axis.YTick at 0x1ec467bfa08>,\n",
       "  <matplotlib.axis.YTick at 0x1ec467cd308>,\n",
       "  <matplotlib.axis.YTick at 0x1ec467cdec8>],\n",
       " [Text(0, 0.5, '1:0'),\n",
       "  Text(0, 1.5, '3:1'),\n",
       "  Text(0, 2.5, '1:1'),\n",
       "  Text(0, 3.5, '1:3'),\n",
       "  Text(0, 4.5, '0:1')])"
      ]
     },
     "execution_count": 39,
     "metadata": {},
     "output_type": "execute_result"
    },
    {
     "data": {
      "image/png": "[encoded data removed]",
      "text/plain": [
       "<Figure size 432x288 with 2 Axes>"
      ]
     },
     "metadata": {},
     "output_type": "display_data"
    }
   ],
   "source": [
    "sns.set(font_scale=1.5)\n",
    "sns.heatmap(pca_svm_cm, annot=True, cmap='Blues', linecolor='black', linewidths=1.5)\n",
    "plt.xlabel(\"Predicted label\")\n",
    "plt.ylabel(\"True label\")\n",
    "plt.xticks(np.arange(len(label_list)) + 0.5, [\"1:0\", \"3:1\", \"1:1\", \"1:3\", \"0:1\"])\n",
    "plt.yticks(np.arange(len(label_list)) + 0.5, [\"1:0\", \"3:1\", \"1:1\", \"1:3\", \"0:1\"])"
   ]
  },
  {
   "attachments": {},
   "cell_type": "markdown",
   "metadata": {},
   "source": [
    "# LDA"
   ]
  },
  {
   "cell_type": "code",
   "execution_count": 59,
   "metadata": {},
   "outputs": [],
   "source": [
    "def lda_prediction(n_comp, trn_X, trn_y, val_X, val_y):\n",
    "\n",
    "    lda_model = LDA(n_components=n_comp)\n",
    "    lda_model.fit(trn_X, trn_y)\n",
    "    y_pred = lda_model.predict(val_X)\n",
    "\n",
    "    cm = confusion_matrix(y_pred, val_y)\n",
    "    # 正解率\n",
    "    Accuracy = accuracy_score(y_pred, val_y)\n",
    "\n",
    "    return cm, Accuracy"
   ]
  },
  {
   "cell_type": "code",
   "execution_count": 41,
   "metadata": {},
   "outputs": [
    {
     "data": {
      "image/png": "[encoded data removed]",
      "text/plain": [
       "<Figure size 432x288 with 1 Axes>"
      ]
     },
     "metadata": {},
     "output_type": "display_data"
    }
   ],
   "source": [
    "# n_componentsの決定\n",
    "temp_accuracy_dict = {}\n",
    "\n",
    "for n_comp in range(1, 5, 1):\n",
    "    _, accuracy_lda = lda_prediction(n_comp, train_X, train_y, valid_X, valid_y)\n",
    "    temp_accuracy_dict[n_comp] = accuracy_lda\n",
    "\n",
    "temp_accuracy_list = temp_accuracy_dict.items()\n",
    "x, y = zip(*temp_accuracy_list)\n",
    "\n",
    "plt.plot(x, y, marker='o', markersize=5)\n",
    "plt.xlabel('n_comp')\n",
    "plt.ylabel('Accuracy')\n",
    "plt.show()"
   ]
  },
  {
   "cell_type": "code",
   "execution_count": 60,
   "metadata": {},
   "outputs": [
    {
     "name": "stderr",
     "output_type": "stream",
     "text": [
      "Feature names only support names that are all strings. Got feature names with dtypes: ['float']. An error will be raised in 1.2.\n"
     ]
    },
    {
     "name": "stdout",
     "output_type": "stream",
     "text": [
      "Accuracy: 0.2\n"
     ]
    },
    {
     "name": "stderr",
     "output_type": "stream",
     "text": [
      "Feature names only support names that are all strings. Got feature names with dtypes: ['float']. An error will be raised in 1.2.\n"
     ]
    }
   ],
   "source": [
    "cm_lda, accuracy_lda = lda_prediction(2, train_X, train_y, valid_X, valid_y)\n",
    "print('Accuracy:', accuracy_lda)"
   ]
  },
  {
   "cell_type": "code",
   "execution_count": 61,
   "metadata": {},
   "outputs": [
    {
     "data": {
      "text/plain": [
       "([<matplotlib.axis.YTick at 0x14fd4b6f588>,\n",
       "  <matplotlib.axis.YTick at 0x14fd475c9c8>,\n",
       "  <matplotlib.axis.YTick at 0x14fd4486388>,\n",
       "  <matplotlib.axis.YTick at 0x14fd48d1908>,\n",
       "  <matplotlib.axis.YTick at 0x14fd494ccc8>],\n",
       " [Text(0, 0.5, '1:0'),\n",
       "  Text(0, 1.5, '3:1'),\n",
       "  Text(0, 2.5, '1:1'),\n",
       "  Text(0, 3.5, '1:3'),\n",
       "  Text(0, 4.5, '0:1')])"
      ]
     },
     "execution_count": 61,
     "metadata": {},
     "output_type": "execute_result"
    },
    {
     "data": {
      "image/png": "[encoded data removed]",
      "text/plain": [
       "<Figure size 432x288 with 2 Axes>"
      ]
     },
     "metadata": {},
     "output_type": "display_data"
    }
   ],
   "source": [
    "sns.set(font_scale=1.5)\n",
    "sns.heatmap(cm_lda, annot=True, cmap='Blues', linecolor='black', linewidths=1.5)\n",
    "plt.xlabel(\"Predicted label\")\n",
    "plt.ylabel(\"True label\")\n",
    "plt.xticks(np.arange(len(label_list)) + 0.5, [\"1:0\", \"3:1\", \"1:1\", \"1:3\", \"0:1\"])\n",
    "plt.yticks(np.arange(len(label_list)) + 0.5, [\"1:0\", \"3:1\", \"1:1\", \"1:3\", \"0:1\"])"
   ]
  },
  {
   "attachments": {},
   "cell_type": "markdown",
   "metadata": {},
   "source": [
    "# Decision Tree"
   ]
  },
  {
   "cell_type": "code",
   "execution_count": 32,
   "metadata": {},
   "outputs": [
    {
     "ename": "KeyboardInterrupt",
     "evalue": "",
     "output_type": "error",
     "traceback": [
      "\u001b[1;31m---------------------------------------------------------------------------\u001b[0m",
      "\u001b[1;31mKeyboardInterrupt\u001b[0m                         Traceback (most recent call last)",
      "\u001b[1;32m<ipython-input-32-09c388c2cc91>\u001b[0m in \u001b[0;36m<module>\u001b[1;34m\u001b[0m\n\u001b[0;32m      9\u001b[0m \u001b[1;33m\u001b[0m\u001b[0m\n\u001b[0;32m     10\u001b[0m \u001b[0mgrid_search\u001b[0m \u001b[1;33m=\u001b[0m \u001b[0mGridSearchCV\u001b[0m\u001b[1;33m(\u001b[0m\u001b[0mdt_model\u001b[0m\u001b[1;33m,\u001b[0m \u001b[0mparam_grid\u001b[0m\u001b[1;33m=\u001b[0m\u001b[0mparams\u001b[0m\u001b[1;33m,\u001b[0m \u001b[0mcv\u001b[0m\u001b[1;33m=\u001b[0m\u001b[1;36m5\u001b[0m\u001b[1;33m)\u001b[0m\u001b[1;33m\u001b[0m\u001b[1;33m\u001b[0m\u001b[0m\n\u001b[1;32m---> 11\u001b[1;33m \u001b[0mgrid_search\u001b[0m\u001b[1;33m.\u001b[0m\u001b[0mfit\u001b[0m\u001b[1;33m(\u001b[0m\u001b[0mtrain_X\u001b[0m\u001b[1;33m,\u001b[0m \u001b[0mtrain_y\u001b[0m\u001b[1;33m)\u001b[0m\u001b[1;33m\u001b[0m\u001b[1;33m\u001b[0m\u001b[0m\n\u001b[0m\u001b[0;32m     12\u001b[0m \u001b[1;33m\u001b[0m\u001b[0m\n\u001b[0;32m     13\u001b[0m \u001b[1;31m# ベストスコアを表示\u001b[0m\u001b[1;33m\u001b[0m\u001b[1;33m\u001b[0m\u001b[1;33m\u001b[0m\u001b[0m\n",
      "\u001b[1;32mc:\\Users\\r-swx\\Anaconda3\\envs\\For_study\\lib\\site-packages\\sklearn\\model_selection\\_search.py\u001b[0m in \u001b[0;36mfit\u001b[1;34m(self, X, y, groups, **fit_params)\u001b[0m\n\u001b[0;32m    889\u001b[0m                 \u001b[1;32mreturn\u001b[0m \u001b[0mresults\u001b[0m\u001b[1;33m\u001b[0m\u001b[1;33m\u001b[0m\u001b[0m\n\u001b[0;32m    890\u001b[0m \u001b[1;33m\u001b[0m\u001b[0m\n\u001b[1;32m--> 891\u001b[1;33m             \u001b[0mself\u001b[0m\u001b[1;33m.\u001b[0m\u001b[0m_run_search\u001b[0m\u001b[1;33m(\u001b[0m\u001b[0mevaluate_candidates\u001b[0m\u001b[1;33m)\u001b[0m\u001b[1;33m\u001b[0m\u001b[1;33m\u001b[0m\u001b[0m\n\u001b[0m\u001b[0;32m    892\u001b[0m \u001b[1;33m\u001b[0m\u001b[0m\n\u001b[0;32m    893\u001b[0m             \u001b[1;31m# multimetric is determined here because in the case of a callable\u001b[0m\u001b[1;33m\u001b[0m\u001b[1;33m\u001b[0m\u001b[1;33m\u001b[0m\u001b[0m\n",
      "\u001b[1;32mc:\\Users\\r-swx\\Anaconda3\\envs\\For_study\\lib\\site-packages\\sklearn\\model_selection\\_search.py\u001b[0m in \u001b[0;36m_run_search\u001b[1;34m(self, evaluate_candidates)\u001b[0m\n\u001b[0;32m   1390\u001b[0m     \u001b[1;32mdef\u001b[0m \u001b[0m_run_search\u001b[0m\u001b[1;33m(\u001b[0m\u001b[0mself\u001b[0m\u001b[1;33m,\u001b[0m \u001b[0mevaluate_candidates\u001b[0m\u001b[1;33m)\u001b[0m\u001b[1;33m:\u001b[0m\u001b[1;33m\u001b[0m\u001b[1;33m\u001b[0m\u001b[0m\n\u001b[0;32m   1391\u001b[0m         \u001b[1;34m\"\"\"Search all candidates in param_grid\"\"\"\u001b[0m\u001b[1;33m\u001b[0m\u001b[1;33m\u001b[0m\u001b[0m\n\u001b[1;32m-> 1392\u001b[1;33m         \u001b[0mevaluate_candidates\u001b[0m\u001b[1;33m(\u001b[0m\u001b[0mParameterGrid\u001b[0m\u001b[1;33m(\u001b[0m\u001b[0mself\u001b[0m\u001b[1;33m.\u001b[0m\u001b[0mparam_grid\u001b[0m\u001b[1;33m)\u001b[0m\u001b[1;33m)\u001b[0m\u001b[1;33m\u001b[0m\u001b[1;33m\u001b[0m\u001b[0m\n\u001b[0m\u001b[0;32m   1393\u001b[0m \u001b[1;33m\u001b[0m\u001b[0m\n\u001b[0;32m   1394\u001b[0m \u001b[1;33m\u001b[0m\u001b[0m\n",
      "\u001b[1;32mc:\\Users\\r-swx\\Anaconda3\\envs\\For_study\\lib\\site-packages\\sklearn\\model_selection\\_search.py\u001b[0m in \u001b[0;36mevaluate_candidates\u001b[1;34m(candidate_params, cv, more_results)\u001b[0m\n\u001b[0;32m    849\u001b[0m                     )\n\u001b[0;32m    850\u001b[0m                     for (cand_idx, parameters), (split_idx, (train, test)) in product(\n\u001b[1;32m--> 851\u001b[1;33m                         \u001b[0menumerate\u001b[0m\u001b[1;33m(\u001b[0m\u001b[0mcandidate_params\u001b[0m\u001b[1;33m)\u001b[0m\u001b[1;33m,\u001b[0m \u001b[0menumerate\u001b[0m\u001b[1;33m(\u001b[0m\u001b[0mcv\u001b[0m\u001b[1;33m.\u001b[0m\u001b[0msplit\u001b[0m\u001b[1;33m(\u001b[0m\u001b[0mX\u001b[0m\u001b[1;33m,\u001b[0m \u001b[0my\u001b[0m\u001b[1;33m,\u001b[0m \u001b[0mgroups\u001b[0m\u001b[1;33m)\u001b[0m\u001b[1;33m)\u001b[0m\u001b[1;33m\u001b[0m\u001b[1;33m\u001b[0m\u001b[0m\n\u001b[0m\u001b[0;32m    852\u001b[0m                     )\n\u001b[0;32m    853\u001b[0m                 )\n",
      "\u001b[1;32mc:\\Users\\r-swx\\Anaconda3\\envs\\For_study\\lib\\site-packages\\joblib\\parallel.py\u001b[0m in \u001b[0;36m__call__\u001b[1;34m(self, iterable)\u001b[0m\n\u001b[0;32m   1861\u001b[0m             \u001b[0moutput\u001b[0m \u001b[1;33m=\u001b[0m \u001b[0mself\u001b[0m\u001b[1;33m.\u001b[0m\u001b[0m_get_sequential_output\u001b[0m\u001b[1;33m(\u001b[0m\u001b[0miterable\u001b[0m\u001b[1;33m)\u001b[0m\u001b[1;33m\u001b[0m\u001b[1;33m\u001b[0m\u001b[0m\n\u001b[0;32m   1862\u001b[0m             \u001b[0mnext\u001b[0m\u001b[1;33m(\u001b[0m\u001b[0moutput\u001b[0m\u001b[1;33m)\u001b[0m\u001b[1;33m\u001b[0m\u001b[1;33m\u001b[0m\u001b[0m\n\u001b[1;32m-> 1863\u001b[1;33m             \u001b[1;32mreturn\u001b[0m \u001b[0moutput\u001b[0m \u001b[1;32mif\u001b[0m \u001b[0mself\u001b[0m\u001b[1;33m.\u001b[0m\u001b[0mreturn_generator\u001b[0m \u001b[1;32melse\u001b[0m \u001b[0mlist\u001b[0m\u001b[1;33m(\u001b[0m\u001b[0moutput\u001b[0m\u001b[1;33m)\u001b[0m\u001b[1;33m\u001b[0m\u001b[1;33m\u001b[0m\u001b[0m\n\u001b[0m\u001b[0;32m   1864\u001b[0m \u001b[1;33m\u001b[0m\u001b[0m\n\u001b[0;32m   1865\u001b[0m         \u001b[1;31m# Let's create an ID that uniquely identifies the current call. If the\u001b[0m\u001b[1;33m\u001b[0m\u001b[1;33m\u001b[0m\u001b[1;33m\u001b[0m\u001b[0m\n",
      "\u001b[1;32mc:\\Users\\r-swx\\Anaconda3\\envs\\For_study\\lib\\site-packages\\joblib\\parallel.py\u001b[0m in \u001b[0;36m_get_sequential_output\u001b[1;34m(self, iterable)\u001b[0m\n\u001b[0;32m   1790\u001b[0m                 \u001b[0mself\u001b[0m\u001b[1;33m.\u001b[0m\u001b[0mn_dispatched_batches\u001b[0m \u001b[1;33m+=\u001b[0m \u001b[1;36m1\u001b[0m\u001b[1;33m\u001b[0m\u001b[1;33m\u001b[0m\u001b[0m\n\u001b[0;32m   1791\u001b[0m                 \u001b[0mself\u001b[0m\u001b[1;33m.\u001b[0m\u001b[0mn_dispatched_tasks\u001b[0m \u001b[1;33m+=\u001b[0m \u001b[1;36m1\u001b[0m\u001b[1;33m\u001b[0m\u001b[1;33m\u001b[0m\u001b[0m\n\u001b[1;32m-> 1792\u001b[1;33m                 \u001b[0mres\u001b[0m \u001b[1;33m=\u001b[0m \u001b[0mfunc\u001b[0m\u001b[1;33m(\u001b[0m\u001b[1;33m*\u001b[0m\u001b[0margs\u001b[0m\u001b[1;33m,\u001b[0m \u001b[1;33m**\u001b[0m\u001b[0mkwargs\u001b[0m\u001b[1;33m)\u001b[0m\u001b[1;33m\u001b[0m\u001b[1;33m\u001b[0m\u001b[0m\n\u001b[0m\u001b[0;32m   1793\u001b[0m                 \u001b[0mself\u001b[0m\u001b[1;33m.\u001b[0m\u001b[0mn_completed_tasks\u001b[0m \u001b[1;33m+=\u001b[0m \u001b[1;36m1\u001b[0m\u001b[1;33m\u001b[0m\u001b[1;33m\u001b[0m\u001b[0m\n\u001b[0;32m   1794\u001b[0m                 \u001b[0mself\u001b[0m\u001b[1;33m.\u001b[0m\u001b[0mprint_progress\u001b[0m\u001b[1;33m(\u001b[0m\u001b[1;33m)\u001b[0m\u001b[1;33m\u001b[0m\u001b[1;33m\u001b[0m\u001b[0m\n",
      "\u001b[1;32mc:\\Users\\r-swx\\Anaconda3\\envs\\For_study\\lib\\site-packages\\sklearn\\utils\\fixes.py\u001b[0m in \u001b[0;36m__call__\u001b[1;34m(self, *args, **kwargs)\u001b[0m\n\u001b[0;32m    214\u001b[0m     \u001b[1;32mdef\u001b[0m \u001b[0m__call__\u001b[0m\u001b[1;33m(\u001b[0m\u001b[0mself\u001b[0m\u001b[1;33m,\u001b[0m \u001b[1;33m*\u001b[0m\u001b[0margs\u001b[0m\u001b[1;33m,\u001b[0m \u001b[1;33m**\u001b[0m\u001b[0mkwargs\u001b[0m\u001b[1;33m)\u001b[0m\u001b[1;33m:\u001b[0m\u001b[1;33m\u001b[0m\u001b[1;33m\u001b[0m\u001b[0m\n\u001b[0;32m    215\u001b[0m         \u001b[1;32mwith\u001b[0m \u001b[0mconfig_context\u001b[0m\u001b[1;33m(\u001b[0m\u001b[1;33m**\u001b[0m\u001b[0mself\u001b[0m\u001b[1;33m.\u001b[0m\u001b[0mconfig\u001b[0m\u001b[1;33m)\u001b[0m\u001b[1;33m:\u001b[0m\u001b[1;33m\u001b[0m\u001b[1;33m\u001b[0m\u001b[0m\n\u001b[1;32m--> 216\u001b[1;33m             \u001b[1;32mreturn\u001b[0m \u001b[0mself\u001b[0m\u001b[1;33m.\u001b[0m\u001b[0mfunction\u001b[0m\u001b[1;33m(\u001b[0m\u001b[1;33m*\u001b[0m\u001b[0margs\u001b[0m\u001b[1;33m,\u001b[0m \u001b[1;33m**\u001b[0m\u001b[0mkwargs\u001b[0m\u001b[1;33m)\u001b[0m\u001b[1;33m\u001b[0m\u001b[1;33m\u001b[0m\u001b[0m\n\u001b[0m\u001b[0;32m    217\u001b[0m \u001b[1;33m\u001b[0m\u001b[0m\n\u001b[0;32m    218\u001b[0m \u001b[1;33m\u001b[0m\u001b[0m\n",
      "\u001b[1;32mc:\\Users\\r-swx\\Anaconda3\\envs\\For_study\\lib\\site-packages\\sklearn\\model_selection\\_validation.py\u001b[0m in \u001b[0;36m_fit_and_score\u001b[1;34m(estimator, X, y, scorer, train, test, verbose, parameters, fit_params, return_train_score, return_parameters, return_n_test_samples, return_times, return_estimator, split_progress, candidate_progress, error_score)\u001b[0m\n\u001b[0;32m    678\u001b[0m             \u001b[0mestimator\u001b[0m\u001b[1;33m.\u001b[0m\u001b[0mfit\u001b[0m\u001b[1;33m(\u001b[0m\u001b[0mX_train\u001b[0m\u001b[1;33m,\u001b[0m \u001b[1;33m**\u001b[0m\u001b[0mfit_params\u001b[0m\u001b[1;33m)\u001b[0m\u001b[1;33m\u001b[0m\u001b[1;33m\u001b[0m\u001b[0m\n\u001b[0;32m    679\u001b[0m         \u001b[1;32melse\u001b[0m\u001b[1;33m:\u001b[0m\u001b[1;33m\u001b[0m\u001b[1;33m\u001b[0m\u001b[0m\n\u001b[1;32m--> 680\u001b[1;33m             \u001b[0mestimator\u001b[0m\u001b[1;33m.\u001b[0m\u001b[0mfit\u001b[0m\u001b[1;33m(\u001b[0m\u001b[0mX_train\u001b[0m\u001b[1;33m,\u001b[0m \u001b[0my_train\u001b[0m\u001b[1;33m,\u001b[0m \u001b[1;33m**\u001b[0m\u001b[0mfit_params\u001b[0m\u001b[1;33m)\u001b[0m\u001b[1;33m\u001b[0m\u001b[1;33m\u001b[0m\u001b[0m\n\u001b[0m\u001b[0;32m    681\u001b[0m \u001b[1;33m\u001b[0m\u001b[0m\n\u001b[0;32m    682\u001b[0m     \u001b[1;32mexcept\u001b[0m \u001b[0mException\u001b[0m\u001b[1;33m:\u001b[0m\u001b[1;33m\u001b[0m\u001b[1;33m\u001b[0m\u001b[0m\n",
      "\u001b[1;32mc:\\Users\\r-swx\\Anaconda3\\envs\\For_study\\lib\\site-packages\\sklearn\\tree\\_classes.py\u001b[0m in \u001b[0;36mfit\u001b[1;34m(self, X, y, sample_weight, check_input, X_idx_sorted)\u001b[0m\n\u001b[0;32m    940\u001b[0m             \u001b[0msample_weight\u001b[0m\u001b[1;33m=\u001b[0m\u001b[0msample_weight\u001b[0m\u001b[1;33m,\u001b[0m\u001b[1;33m\u001b[0m\u001b[1;33m\u001b[0m\u001b[0m\n\u001b[0;32m    941\u001b[0m             \u001b[0mcheck_input\u001b[0m\u001b[1;33m=\u001b[0m\u001b[0mcheck_input\u001b[0m\u001b[1;33m,\u001b[0m\u001b[1;33m\u001b[0m\u001b[1;33m\u001b[0m\u001b[0m\n\u001b[1;32m--> 942\u001b[1;33m             \u001b[0mX_idx_sorted\u001b[0m\u001b[1;33m=\u001b[0m\u001b[0mX_idx_sorted\u001b[0m\u001b[1;33m,\u001b[0m\u001b[1;33m\u001b[0m\u001b[1;33m\u001b[0m\u001b[0m\n\u001b[0m\u001b[0;32m    943\u001b[0m         )\n\u001b[0;32m    944\u001b[0m         \u001b[1;32mreturn\u001b[0m \u001b[0mself\u001b[0m\u001b[1;33m\u001b[0m\u001b[1;33m\u001b[0m\u001b[0m\n",
      "\u001b[1;32mc:\\Users\\r-swx\\Anaconda3\\envs\\For_study\\lib\\site-packages\\sklearn\\tree\\_classes.py\u001b[0m in \u001b[0;36mfit\u001b[1;34m(self, X, y, sample_weight, check_input, X_idx_sorted)\u001b[0m\n\u001b[0;32m    418\u001b[0m             )\n\u001b[0;32m    419\u001b[0m \u001b[1;33m\u001b[0m\u001b[0m\n\u001b[1;32m--> 420\u001b[1;33m         \u001b[0mbuilder\u001b[0m\u001b[1;33m.\u001b[0m\u001b[0mbuild\u001b[0m\u001b[1;33m(\u001b[0m\u001b[0mself\u001b[0m\u001b[1;33m.\u001b[0m\u001b[0mtree_\u001b[0m\u001b[1;33m,\u001b[0m \u001b[0mX\u001b[0m\u001b[1;33m,\u001b[0m \u001b[0my\u001b[0m\u001b[1;33m,\u001b[0m \u001b[0msample_weight\u001b[0m\u001b[1;33m)\u001b[0m\u001b[1;33m\u001b[0m\u001b[1;33m\u001b[0m\u001b[0m\n\u001b[0m\u001b[0;32m    421\u001b[0m \u001b[1;33m\u001b[0m\u001b[0m\n\u001b[0;32m    422\u001b[0m         \u001b[1;32mif\u001b[0m \u001b[0mself\u001b[0m\u001b[1;33m.\u001b[0m\u001b[0mn_outputs_\u001b[0m \u001b[1;33m==\u001b[0m \u001b[1;36m1\u001b[0m \u001b[1;32mand\u001b[0m \u001b[0mis_classifier\u001b[0m\u001b[1;33m(\u001b[0m\u001b[0mself\u001b[0m\u001b[1;33m)\u001b[0m\u001b[1;33m:\u001b[0m\u001b[1;33m\u001b[0m\u001b[1;33m\u001b[0m\u001b[0m\n",
      "\u001b[1;31mKeyboardInterrupt\u001b[0m: "
     ]
    }
   ],
   "source": [
    "dt_model = DecisionTreeClassifier(random_state=1234)\n",
    "\n",
    "# 施行するパラメータを設定\n",
    "params = {\n",
    "\t'max_depth':[i for i in range(3, 11, 1)],\n",
    "\t'min_samples_split':[i for i in range(2, 11, 1)],\n",
    "\t'min_samples_leaf':[i for i in range(1, 11, 1)]\n",
    "}\n",
    "\n",
    "grid_search = GridSearchCV(dt_model, param_grid=params, cv=5)\n",
    "grid_search.fit(train_X, train_y)\n",
    "\n",
    "# ベストスコアを表示\n",
    "print(grid_search.best_score_)\n",
    "# ベストスコアのパラメータを表示\n",
    "print(grid_search.best_params_)"
   ]
  },
  {
   "cell_type": "code",
   "execution_count": 33,
   "metadata": {},
   "outputs": [],
   "source": [
    "def decision_tree(max_depth, min_leaf, min_split, trn_X, trn_y, val_X, val_y):\n",
    "\n",
    "    trn_X.columns = [str(i) for i in trn_X.columns]\n",
    "\n",
    "    dt_model = DecisionTreeClassifier(max_depth=max_depth,\n",
    "                                    min_samples_split=min_split,\n",
    "                                    min_samples_leaf=min_leaf,\n",
    "                                    max_leaf_nodes=None,\n",
    "                                    random_state=1234)\n",
    "\n",
    "    dt_model.fit(trn_X, trn_y)\n",
    "    y_pred = dt_model.predict(val_X)\n",
    "\n",
    "    cm = confusion_matrix(y_pred, val_y)\n",
    "    # 正解率\n",
    "    Accuracy = accuracy_score(y_pred, val_y)\n",
    "\n",
    "    return cm, Accuracy"
   ]
  },
  {
   "cell_type": "code",
   "execution_count": 114,
   "metadata": {},
   "outputs": [
    {
     "name": "stdout",
     "output_type": "stream",
     "text": [
      "Accuracy: 0.744\n"
     ]
    }
   ],
   "source": [
    "cm_dt, accuracy_dt = decision_tree(3, 1, 2, train_X, train_y, valid_X, valid_y)\n",
    "print('Accuracy:', accuracy_dt)"
   ]
  },
  {
   "cell_type": "code",
   "execution_count": 51,
   "metadata": {},
   "outputs": [
    {
     "data": {
      "text/plain": [
       "([<matplotlib.axis.YTick at 0x1ec46b045c8>,\n",
       "  <matplotlib.axis.YTick at 0x1ec469a7d48>,\n",
       "  <matplotlib.axis.YTick at 0x1ec46c0f048>,\n",
       "  <matplotlib.axis.YTick at 0x1ec46c98148>,\n",
       "  <matplotlib.axis.YTick at 0x1ec46c98c88>],\n",
       " [Text(0, 0.5, '1:0'),\n",
       "  Text(0, 1.5, '3:1'),\n",
       "  Text(0, 2.5, '1:1'),\n",
       "  Text(0, 3.5, '1:3'),\n",
       "  Text(0, 4.5, '0:1')])"
      ]
     },
     "execution_count": 51,
     "metadata": {},
     "output_type": "execute_result"
    },
    {
     "data": {
      "image/png": "[encoded data removed]",
      "text/plain": [
       "<Figure size 432x288 with 2 Axes>"
      ]
     },
     "metadata": {},
     "output_type": "display_data"
    }
   ],
   "source": [
    "sns.set(font_scale=1.5)\n",
    "sns.heatmap(cm_dt, annot=True, cmap='Blues', linecolor='black', linewidths=1.5)\n",
    "plt.xlabel(\"Predicted label\")\n",
    "plt.ylabel(\"True label\")\n",
    "plt.xticks(np.arange(len(label_list)) + 0.5, [\"1:0\", \"3:1\", \"1:1\", \"1:3\", \"0:1\"])\n",
    "plt.yticks(np.arange(len(label_list)) + 0.5, [\"1:0\", \"3:1\", \"1:1\", \"1:3\", \"0:1\"])"
   ]
  },
  {
   "attachments": {},
   "cell_type": "markdown",
   "metadata": {},
   "source": [
    "# MLP"
   ]
  },
  {
   "cell_type": "code",
   "execution_count": 52,
   "metadata": {},
   "outputs": [],
   "source": [
    "MLP_model = MLPClassifier(max_iter=10000, random_state=1234)\n",
    "\n",
    "# 施行するパラメータを設定\n",
    "params = {\n",
    "\t'hidden_layer_sizes':[(100), (200), (300), (50, 50), (50, 100), (100, 50), (100, 100), (200, 100), (200, 200)],\n",
    "\t'activation':['logistic', 'tanh', 'relu'],\n",
    "\t'solver':['sgd', 'adam']\n",
    "}\n",
    "\n",
    "grid_search = GridSearchCV(MLP_model, param_grid=params, cv=5)\n",
    "grid_search.fit(train_X, train_y)\n",
    "\n",
    "# ベストスコアを表示\n",
    "print(grid_search.best_score_)\n",
    "# ベストスコアのパラメータを表示\n",
    "print(grid_search.best_params_)"
   ]
  },
  {
   "cell_type": "code",
   "execution_count": 35,
   "metadata": {},
   "outputs": [],
   "source": [
    "def MLP(hidden_layer, activ, solv, trn_X, trn_y, val_X, val_y):\n",
    "\n",
    "    trn_X.columns = [str(i) for i in trn_X.columns]\n",
    "\n",
    "    MLP_model = MLPClassifier(hidden_layer_sizes=hidden_layer,\n",
    "                            activation=activ, # logistic, tanh, relu\n",
    "                            solver=solv,\n",
    "                            max_iter=10000,\n",
    "                            random_state=1234)\n",
    "\n",
    "    MLP_model.fit(trn_X, trn_y)\n",
    "    y_pred = MLP_model.predict(val_X)\n",
    "\n",
    "    cm = confusion_matrix(y_pred, val_y)\n",
    "    # 正解率\n",
    "    Accuracy = accuracy_score(y_pred, val_y)\n",
    "\n",
    "    return cm, Accuracy"
   ]
  },
  {
   "cell_type": "code",
   "execution_count": 123,
   "metadata": {},
   "outputs": [
    {
     "name": "stdout",
     "output_type": "stream",
     "text": [
      "Accuracy: 0.932\n"
     ]
    }
   ],
   "source": [
    "cm_MLP, accuracy_MLP= MLP((100), 'logistic', 'adam', train_X, train_y, valid_X, valid_y)\n",
    "print('Accuracy:', accuracy_MLP)"
   ]
  },
  {
   "cell_type": "code",
   "execution_count": 14,
   "metadata": {},
   "outputs": [
    {
     "data": {
      "text/plain": [
       "([<matplotlib.axis.YTick at 0x203d3c9dfc8>,\n",
       "  <matplotlib.axis.YTick at 0x203d40f1f48>,\n",
       "  <matplotlib.axis.YTick at 0x203d90ab0c8>,\n",
       "  <matplotlib.axis.YTick at 0x203dc1a3d48>,\n",
       "  <matplotlib.axis.YTick at 0x203dc1b25c8>],\n",
       " [Text(0, 0.5, '1:0'),\n",
       "  Text(0, 1.5, '3:1'),\n",
       "  Text(0, 2.5, '1:1'),\n",
       "  Text(0, 3.5, '1:3'),\n",
       "  Text(0, 4.5, '0:1')])"
      ]
     },
     "execution_count": 14,
     "metadata": {},
     "output_type": "execute_result"
    },
    {
     "data": {
      "image/png": "[encoded data removed]",
      "text/plain": [
       "<Figure size 432x288 with 2 Axes>"
      ]
     },
     "metadata": {},
     "output_type": "display_data"
    }
   ],
   "source": [
    "sns.set(font_scale=1.5)\n",
    "sns.heatmap(cm_MLP, annot=True, cmap='Blues', linecolor='black', linewidths=1.5)\n",
    "plt.xlabel(\"Predicted label\")\n",
    "plt.ylabel(\"True label\")\n",
    "plt.xticks(np.arange(len(label_list)) + 0.5, [\"1:0\", \"3:1\", \"1:1\", \"1:3\", \"0:1\"])\n",
    "plt.yticks(np.arange(len(label_list)) + 0.5, [\"1:0\", \"3:1\", \"1:1\", \"1:3\", \"0:1\"])"
   ]
  },
  {
   "attachments": {},
   "cell_type": "markdown",
   "metadata": {},
   "source": [
    "# 特徴量選択"
   ]
  },
  {
   "cell_type": "code",
   "execution_count": 23,
   "metadata": {},
   "outputs": [
    {
     "data": {
      "text/html": [
       "<div>\n",
       "<style scoped>\n",
       "    .dataframe tbody tr th:only-of-type {\n",
       "        vertical-align: middle;\n",
       "    }\n",
       "\n",
       "    .dataframe tbody tr th {\n",
       "        vertical-align: top;\n",
       "    }\n",
       "\n",
       "    .dataframe thead th {\n",
       "        text-align: right;\n",
       "    }\n",
       "</style>\n",
       "<table border=\"1\" class=\"dataframe\">\n",
       "  <thead>\n",
       "    <tr style=\"text-align: right;\">\n",
       "      <th></th>\n",
       "      <th>corr</th>\n",
       "    </tr>\n",
       "  </thead>\n",
       "  <tbody>\n",
       "    <tr>\n",
       "      <th>199.147423618928</th>\n",
       "      <td>0.273847</td>\n",
       "    </tr>\n",
       "    <tr>\n",
       "      <th>201.192791188876</th>\n",
       "      <td>0.339101</td>\n",
       "    </tr>\n",
       "    <tr>\n",
       "      <th>203.237476388369</th>\n",
       "      <td>0.416922</td>\n",
       "    </tr>\n",
       "    <tr>\n",
       "      <th>205.281479548654</th>\n",
       "      <td>0.477040</td>\n",
       "    </tr>\n",
       "    <tr>\n",
       "      <th>207.324801000766</th>\n",
       "      <td>0.505676</td>\n",
       "    </tr>\n",
       "  </tbody>\n",
       "</table>\n",
       "</div>"
      ],
      "text/plain": [
       "                      corr\n",
       "199.147423618928  0.273847\n",
       "201.192791188876  0.339101\n",
       "203.237476388369  0.416922\n",
       "205.281479548654  0.477040\n",
       "207.324801000766  0.505676"
      ]
     },
     "execution_count": 23,
     "metadata": {},
     "output_type": "execute_result"
    }
   ],
   "source": [
    "corr_ = abs(train_X.corr())\n",
    "corr_list = []\n",
    "\n",
    "for i in range(len(corr_)):\n",
    "    temp_corr = corr_.iloc[i].sort_values()[-2]\n",
    "    corr_list.append(temp_corr)\n",
    "\n",
    "corr_df = pd.DataFrame(corr_list, index=corr_.index, columns=[\"corr\"])\n",
    "corr_df.head()"
   ]
  },
  {
   "cell_type": "code",
   "execution_count": 24,
   "metadata": {},
   "outputs": [
    {
     "name": "stdout",
     "output_type": "stream",
     "text": [
      "Accuracy: 1.0\n"
     ]
    }
   ],
   "source": [
    "from sklearn.model_selection import train_test_split\n",
    "\n",
    "trn_X, test_X, trn_y, test_y = train_test_split(valid_X, valid_y,\n",
    "                                                    test_size=0.2,\n",
    "                                                    random_state=1234)\n",
    "\n",
    "SVM_model = SVC(C=100)\n",
    "\n",
    "SVM_model.fit(trn_X, trn_y)\n",
    "\n",
    "y_pred = SVM_model.predict(test_X)\n",
    "\n",
    "# 正解率\n",
    "Accuracy = accuracy_score(test_y, y_pred)\n",
    "print('Accuracy:', Accuracy)"
   ]
  },
  {
   "cell_type": "code",
   "execution_count": 14,
   "metadata": {},
   "outputs": [
    {
     "data": {
      "application/vnd.jupyter.widget-view+json": {
       "model_id": "0bdb1c38374349a7b37a22bf636fe6ae",
       "version_major": 2,
       "version_minor": 0
      },
      "text/plain": [
       "  0%|          | 0/50 [00:00<?, ?it/s]"
      ]
     },
     "metadata": {},
     "output_type": "display_data"
    }
   ],
   "source": [
    "explainer = shap.KernelExplainer(SVM_model.predict, test_X)\n",
    "shap_values = explainer.shap_values(test_X)\n",
    "\n",
    "shap_df = pd.DataFrame(shap_values,\n",
    "                       columns=test_X.columns,\n",
    "                       index=test_X.index)"
   ]
  },
  {
   "cell_type": "code",
   "execution_count": 25,
   "metadata": {},
   "outputs": [],
   "source": [
    "# 各モデルの定義\n",
    "svc_model = SVC(C=100)\n",
    "\n",
    "class pca_svc_model():\n",
    "    def __init__(self):\n",
    "        self.pca = PCA(n_components=3).fit(train_X.values)\n",
    "        self.svc_model = SVC(C=1)\n",
    "\n",
    "    def fit(self, X, y):\n",
    "        pca_train = self.pca.transform(X)\n",
    "        self.svc_model.fit(pca_train, y)\n",
    "\n",
    "    def predict(self, X):\n",
    "        pca_test = self.pca.transform(X)\n",
    "        model_prediction = self.svc_model.predict(pca_test)\n",
    "\n",
    "        return model_prediction\n",
    "\n",
    "lda_model = LDA(n_components=3)\n",
    "\n",
    "dt_model = DecisionTreeClassifier(max_depth=5,\n",
    "                                min_samples_split=2,\n",
    "                                min_samples_leaf=1,\n",
    "                                max_leaf_nodes=None,\n",
    "                                random_state=1234)\n",
    "\n",
    "mlp_model = MLPClassifier(hidden_layer_sizes=(100, 100),\n",
    "                                activation='logistic', # logistic, tanh, relu\n",
    "                                solver='adam',\n",
    "                                max_iter=1000,\n",
    "                                random_state=1234)"
   ]
  },
  {
   "cell_type": "code",
   "execution_count": 26,
   "metadata": {},
   "outputs": [],
   "source": [
    "def shap_calculation(trn_X, trn_y, val_X, val_y, model):\n",
    "    \"\"\"\n",
    "    shap_valueを計算する関数\n",
    "    :param trn_X: 学習用説明変数（データフレーム型）\n",
    "    :param trn_y: 学習用目的変数\n",
    "    :param val_X: 評価用説明変数（データフレーム型）\n",
    "    :param val_y: 評価用目的変数\n",
    "    :papam model: 使用する予測モデル\n",
    "    :return: shap値、SHAPの期待値、SHAPの期待値の平均値、予測結果\n",
    "    \"\"\"\n",
    "    #trn_X.columns = [str(i) for i in trn_X.columns]\n",
    "    #val_X.columns = [str(i) for i in val_X.columns]\n",
    "    # モデルのインスタンス化&学習\n",
    "    pred_model = model\n",
    "    pred_model.fit(trn_X, trn_y)\n",
    "    # モデルの予測\n",
    "    y_pred = pred_model.predict(val_X)\n",
    "    # 正解率の計算\n",
    "    Accuracy = accuracy_score(val_y, y_pred)\n",
    "    print('Model Accuracy:', Accuracy)\n",
    "\n",
    "    # shapの計算\n",
    "    explainer = shap.KernelExplainer(pred_model.predict, val_X.values)\n",
    "    shap_values = explainer.shap_values(val_X.values)\n",
    "    # shap値をデータフレームに変換\n",
    "    shap_df = pd.DataFrame(shap_values)\n",
    "    # shapの絶対値の平均値を計算\n",
    "    abs_mean_shap_df = shap_df.apply(np.abs).mean()\n",
    "    abs_mean_shap_df.index = abs_mean_shap_df.index.astype(float)\n",
    "    # shap値全体の平均値\n",
    "    shap_expected_value = explainer.expected_value\n",
    "\n",
    "    return shap_df, abs_mean_shap_df, shap_expected_value\n"
   ]
  },
  {
   "cell_type": "code",
   "execution_count": 27,
   "metadata": {},
   "outputs": [
    {
     "name": "stderr",
     "output_type": "stream",
     "text": [
      "Using 250 background data samples could cause slower run times. Consider using shap.sample(data, K) or shap.kmeans(data, K) to summarize the background as K samples.\n"
     ]
    },
    {
     "name": "stdout",
     "output_type": "stream",
     "text": [
      "Model Accuracy: 0.892\n"
     ]
    },
    {
     "data": {
      "application/vnd.jupyter.widget-view+json": {
       "model_id": "4436afe7e3304020ac54f234ac94b912",
       "version_major": 2,
       "version_minor": 0
      },
      "text/plain": [
       "  0%|          | 0/250 [00:00<?, ?it/s]"
      ]
     },
     "metadata": {},
     "output_type": "display_data"
    }
   ],
   "source": [
    "shap_df, abs_mean_shap_df, shap_expected_value = shap_calculation(train_X, train_y, valid_X, valid_y, svc_model)"
   ]
  },
  {
   "cell_type": "code",
   "execution_count": 28,
   "metadata": {},
   "outputs": [
    {
     "data": {
      "text/plain": [
       "<Axes: >"
      ]
     },
     "execution_count": 28,
     "metadata": {},
     "output_type": "execute_result"
    },
    {
     "data": {
      "image/png": "[encoded data removed]",
      "text/plain": [
       "<Figure size 640x480 with 1 Axes>"
      ]
     },
     "metadata": {},
     "output_type": "display_data"
    }
   ],
   "source": [
    "abs_mean_shap_df.plot()"
   ]
  },
  {
   "cell_type": "code",
   "execution_count": 31,
   "metadata": {},
   "outputs": [
    {
     "data": {
      "text/html": [
       "<div>\n",
       "<style scoped>\n",
       "    .dataframe tbody tr th:only-of-type {\n",
       "        vertical-align: middle;\n",
       "    }\n",
       "\n",
       "    .dataframe tbody tr th {\n",
       "        vertical-align: top;\n",
       "    }\n",
       "\n",
       "    .dataframe thead th {\n",
       "        text-align: right;\n",
       "    }\n",
       "</style>\n",
       "<table border=\"1\" class=\"dataframe\">\n",
       "  <thead>\n",
       "    <tr style=\"text-align: right;\">\n",
       "      <th></th>\n",
       "      <th>corr</th>\n",
       "      <th>SHAP</th>\n",
       "    </tr>\n",
       "  </thead>\n",
       "  <tbody>\n",
       "    <tr>\n",
       "      <th>199.147423618928</th>\n",
       "      <td>0.273847</td>\n",
       "      <td>0.004838</td>\n",
       "    </tr>\n",
       "    <tr>\n",
       "      <th>201.192791188876</th>\n",
       "      <td>0.339101</td>\n",
       "      <td>0.004911</td>\n",
       "    </tr>\n",
       "    <tr>\n",
       "      <th>203.237476388369</th>\n",
       "      <td>0.416922</td>\n",
       "      <td>0.004561</td>\n",
       "    </tr>\n",
       "    <tr>\n",
       "      <th>205.281479548654</th>\n",
       "      <td>0.477040</td>\n",
       "      <td>0.004962</td>\n",
       "    </tr>\n",
       "    <tr>\n",
       "      <th>207.324801000766</th>\n",
       "      <td>0.505676</td>\n",
       "      <td>0.004953</td>\n",
       "    </tr>\n",
       "  </tbody>\n",
       "</table>\n",
       "</div>"
      ],
      "text/plain": [
       "                      corr      SHAP\n",
       "199.147423618928  0.273847  0.004838\n",
       "201.192791188876  0.339101  0.004911\n",
       "203.237476388369  0.416922  0.004561\n",
       "205.281479548654  0.477040  0.004962\n",
       "207.324801000766  0.505676  0.004953"
      ]
     },
     "execution_count": 31,
     "metadata": {},
     "output_type": "execute_result"
    }
   ],
   "source": [
    "corr_shap_df = corr_df.copy()\n",
    "corr_shap_df[\"SHAP\"] = abs_mean_shap_df.values\n",
    "corr_shap_df.head()"
   ]
  },
  {
   "cell_type": "code",
   "execution_count": 32,
   "metadata": {},
   "outputs": [
    {
     "data": {
      "image/png": "[encoded data removed]",
      "text/plain": [
       "<Figure size 640x480 with 1 Axes>"
      ]
     },
     "metadata": {},
     "output_type": "display_data"
    }
   ],
   "source": [
    "plt.scatter(corr_shap_df[\"corr\"], corr_shap_df[\"SHAP\"])\n",
    "plt.xlabel(\"Correlation\")\n",
    "plt.ylabel(\"SHAP\")\n",
    "plt.show()"
   ]
  },
  {
   "cell_type": "code",
   "execution_count": 39,
   "metadata": {},
   "outputs": [
    {
     "name": "stdout",
     "output_type": "stream",
     "text": [
      "train_X_shap_selected.shape =  (1000, 36)\n",
      "valid_X_shap_selected.shape =  (250, 36)\n"
     ]
    }
   ],
   "source": [
    "shap_select = corr_shap_df[\"SHAP\"] > 0.01\n",
    "train_X_shap_selected = train_X.loc[:, shap_select]\n",
    "valid_X_shap_selected = valid_X.loc[:, shap_select]\n",
    "\n",
    "print(\"train_X_shap_selected.shape = \", train_X_shap_selected.shape)\n",
    "print(\"valid_X_shap_selected.shape = \", valid_X_shap_selected.shape)"
   ]
  },
  {
   "cell_type": "code",
   "execution_count": 40,
   "metadata": {},
   "outputs": [
    {
     "name": "stdout",
     "output_type": "stream",
     "text": [
      "Accuracy: 0.892\n",
      "Accuracy_selected: 0.876\n"
     ]
    }
   ],
   "source": [
    "cm_svm, accuracy_svm = svm_only(100, train_X, train_y, valid_X, valid_y)\n",
    "print('Accuracy:', accuracy_svm)\n",
    "\n",
    "cm_svm_selected, accuracy_svm_selected = svm_only(100, train_X_shap_selected, train_y, valid_X_shap_selected, valid_y)\n",
    "print(\"Accuracy_selected:\", accuracy_svm_selected)"
   ]
  },
  {
   "attachments": {},
   "cell_type": "markdown",
   "metadata": {},
   "source": [
    "# PFI"
   ]
  },
  {
   "cell_type": "code",
   "execution_count": 41,
   "metadata": {},
   "outputs": [
    {
     "name": "stdout",
     "output_type": "stream",
     "text": [
      "Accuracy: 0.892\n"
     ]
    }
   ],
   "source": [
    "SVM_model = SVC(C=100)\n",
    "\n",
    "SVM_model.fit(train_X, train_y)\n",
    "y_pred = SVM_model.predict(valid_X)\n",
    "\n",
    "pfi_result = permutation_importance(SVM_model, valid_X, valid_y, n_repeats=50, n_jobs=-1, random_state=0)\n",
    "pfi_mean_result = pfi_result.importances_mean\n",
    "# pfi_std_result = pfi_result.importances_std\n",
    "\n",
    "# 正解率\n",
    "Accuracy = accuracy_score(valid_y, y_pred)\n",
    "print('Accuracy:', Accuracy)"
   ]
  },
  {
   "cell_type": "code",
   "execution_count": 43,
   "metadata": {},
   "outputs": [
    {
     "data": {
      "text/plain": [
       "<Axes: >"
      ]
     },
     "execution_count": 43,
     "metadata": {},
     "output_type": "execute_result"
    },
    {
     "data": {
      "image/png": "[encoded data removed]",
      "text/plain": [
       "<Figure size 640x480 with 1 Axes>"
      ]
     },
     "metadata": {},
     "output_type": "display_data"
    }
   ],
   "source": [
    "df = pd.DataFrame(pfi_mean_result, columns=['PIF'], index=train_X.columns)\n",
    "df.index = df.index.astype(float)\n",
    "df.plot()"
   ]
  },
  {
   "cell_type": "code",
   "execution_count": 44,
   "metadata": {},
   "outputs": [],
   "source": [
    "corr_pfi_df = corr_df.copy()\n",
    "corr_pfi_df[\"PFI\"] = abs(pfi_mean_result)"
   ]
  },
  {
   "cell_type": "code",
   "execution_count": 45,
   "metadata": {},
   "outputs": [
    {
     "data": {
      "image/png": "[encoded data removed]",
      "text/plain": [
       "<Figure size 640x480 with 1 Axes>"
      ]
     },
     "metadata": {},
     "output_type": "display_data"
    }
   ],
   "source": [
    "plt.scatter(corr_pfi_df[\"corr\"], corr_pfi_df[\"PFI\"])\n",
    "plt.xlabel(\"Correlation\")\n",
    "plt.ylabel(\"PFI\")\n",
    "plt.show()"
   ]
  },
  {
   "cell_type": "code",
   "execution_count": 46,
   "metadata": {},
   "outputs": [
    {
     "name": "stdout",
     "output_type": "stream",
     "text": [
      "train_X_pfi_selected.shape =  (1000, 44)\n",
      "valid_X_pfi_selected.shape =  (250, 44)\n"
     ]
    }
   ],
   "source": [
    "pfi_select = corr_pfi_df[\"PFI\"] > 0.001\n",
    "train_X_pfi_selected = train_X.loc[:, pfi_select]\n",
    "valid_X_pfi_selected = valid_X.loc[:, pfi_select]\n",
    "\n",
    "print(\"train_X_pfi_selected.shape = \", train_X_pfi_selected.shape)\n",
    "print(\"valid_X_pfi_selected.shape = \", valid_X_pfi_selected.shape)"
   ]
  },
  {
   "cell_type": "code",
   "execution_count": 47,
   "metadata": {},
   "outputs": [
    {
     "name": "stdout",
     "output_type": "stream",
     "text": [
      "Accuracy: 0.892\n",
      "Accuracy_pfi_selected: 0.892\n"
     ]
    }
   ],
   "source": [
    "cm_svm, accuracy_svm = svm_only(100, train_X, train_y, valid_X, valid_y)\n",
    "print('Accuracy:', accuracy_svm)\n",
    "\n",
    "cm_svm_pfi_selected, accuracy_svm_pfi_selected = svm_only(100, train_X_pfi_selected, train_y, valid_X_pfi_selected, valid_y)\n",
    "print(\"Accuracy_pfi_selected:\", accuracy_svm_pfi_selected)"
   ]
  },
  {
   "cell_type": "code",
   "execution_count": null,
   "metadata": {},
   "outputs": [],
   "source": [
    "#\n",
    "graph_title = 'shap_CH3_COOH'\n",
    "# excelファイルの保存先のパス\n",
    "abs_mean_shap_df.to_excel(output_path + graph_title + '.xlsx')"
   ]
  }
 ],
 "metadata": {
  "kernelspec": {
   "display_name": "Study",
   "language": "python",
   "name": "python3"
  },
  "language_info": {
   "codemirror_mode": {
    "name": "ipython",
    "version": 3
   },
   "file_extension": ".py",
   "mimetype": "text/x-python",
   "name": "python",
   "nbconvert_exporter": "python",
   "pygments_lexer": "ipython3",
   "version": "3.10.9"
  },
  "orig_nbformat": 4
 },
 "nbformat": 4,
 "nbformat_minor": 2
}
